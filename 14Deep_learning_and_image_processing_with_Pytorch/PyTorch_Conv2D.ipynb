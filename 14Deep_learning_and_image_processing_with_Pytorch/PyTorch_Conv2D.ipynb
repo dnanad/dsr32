{
  "nbformat": 4,
  "nbformat_minor": 0,
  "metadata": {
    "colab": {
      "provenance": [],
      "collapsed_sections": []
    },
    "kernelspec": {
      "name": "python3",
      "display_name": "Python 3"
    }
  },
  "cells": [
    {
      "cell_type": "markdown",
      "metadata": {
        "id": "Og4H_xMW0_l7"
      },
      "source": [
        "# Conv2D exercises\n",
        "\n",
        "https://pytorch.org/docs/stable/generated/torch.nn.Conv2d.html\n",
        "\n",
        "* Create 30 images with shape (1, 28, 28).\n",
        "* Build 6 convolutional filters of size (3, 3)\n",
        "  * with stride first set to 1, then set to 2 \n",
        "  * padding first set to 1, and then set to 0.\n",
        "* Apply the filters in the image and print the shape of the feature map.\n",
        "\n",
        "\n",
        "\n",
        "The arguments in `Conv2d` are `in_channels`, `out_channels`, `kernel_size`, `stride`, and `padding`.\n",
        "\n",
        "The number of in_channels is 1, while the number of `out_channels` is 6."
      ]
    },
    {
      "cell_type": "code",
      "source": [
        "from torch import nn"
      ],
      "metadata": {
        "id": "dJkj0zetXFR3"
      },
      "execution_count": 1,
      "outputs": []
    },
    {
      "cell_type": "code",
      "metadata": {
        "colab": {
          "base_uri": "https://localhost:8080/",
          "height": 136
        },
        "id": "hkxE89z407Pq",
        "outputId": "3bf29825-6dde-4452-8d58-4280e51f9059"
      },
      "source": [
        "# Create 30 random matrices (\"images\") of shape (1, 28, 28)\n",
        "images = ____.____(____, ____, ____, ____)\n",
        "\n",
        "# Build 6 conv. filters of 3x3\n",
        "conv_filters = ____.____.____(____=____, ____=____, ____=____, ____=____, ____=____)\n",
        "\n",
        "# Convolve the image with the filters \n",
        "output_feature = ____(____)\n",
        "# what is the dimension of the output tensor? \n",
        "print(output_feature.shape)"
      ],
      "execution_count": null,
      "outputs": [
        {
          "output_type": "error",
          "ename": "SyntaxError",
          "evalue": "ignored",
          "traceback": [
            "\u001b[0;36m  File \u001b[0;32m\"<ipython-input-2-bdef3606032e>\"\u001b[0;36m, line \u001b[0;32m5\u001b[0m\n\u001b[0;31m    conv_filters = ____.____.____(____=____, ____=____, ____=____, ____=____, ____=____)\u001b[0m\n\u001b[0m                                            ^\u001b[0m\n\u001b[0;31mSyntaxError\u001b[0m\u001b[0;31m:\u001b[0m keyword argument repeated\n"
          ]
        }
      ]
    },
    {
      "cell_type": "code",
      "metadata": {
        "colab": {
          "base_uri": "https://localhost:8080/"
        },
        "id": "gxzLEGYI0uce",
        "outputId": "7c0a8182-c7e7-4c7f-ab40-94e714bcfb25"
      },
      "source": [
        "import torch\n",
        "# Create 30 random images of shape (1, 28, 28)\n",
        "images = torch.rand(30, 1, 28, 28)\n",
        "\n",
        "# Build 6 conv. filters\n",
        "conv_filters = torch.nn.Conv2d(in_channels=1, out_channels=6, kernel_size=3, \n",
        "                               stride=2, padding=1)\n",
        "\n",
        "# Convolve the image with the filters\n",
        "output_feature = conv_filters(images)\n",
        "# what is the dimension of the output tensor? \n",
        "print(output_feature.shape)"
      ],
      "execution_count": 2,
      "outputs": [
        {
          "output_type": "stream",
          "name": "stdout",
          "text": [
            "torch.Size([30, 6, 14, 14])\n"
          ]
        }
      ]
    },
    {
      "cell_type": "code",
      "source": [
        "from PIL import Image\n",
        "import matplotlib.pyplot as plt\n",
        "plt.imshow(images[0,:,:,:].squeeze().numpy());\n",
        "print(images[0,:,:,:].shape)"
      ],
      "metadata": {
        "colab": {
          "base_uri": "https://localhost:8080/",
          "height": 282
        },
        "id": "uJpJxbwMlbZw",
        "outputId": "f7c7b437-3da3-4570-d6d4-8a6ec655b59b"
      },
      "execution_count": 3,
      "outputs": [
        {
          "output_type": "stream",
          "name": "stdout",
          "text": [
            "torch.Size([1, 28, 28])\n"
          ]
        },
        {
          "output_type": "display_data",
          "data": {
            "text/plain": [
              "<Figure size 432x288 with 1 Axes>"
            ],
            "image/png": "[encoded data removed]"
          },
          "metadata": {
            "needs_background": "light"
          }
        }
      ]
    },
    {
      "cell_type": "code",
      "source": [
        "output_feature.shape"
      ],
      "metadata": {
        "colab": {
          "base_uri": "https://localhost:8080/"
        },
        "id": "bWdsLy7SnLQg",
        "outputId": "028707a7-c951-41f2-abec-9dbbe625eb7d"
      },
      "execution_count": 4,
      "outputs": [
        {
          "output_type": "execute_result",
          "data": {
            "text/plain": [
              "torch.Size([30, 6, 14, 14])"
            ]
          },
          "metadata": {},
          "execution_count": 4
        }
      ]
    },
    {
      "cell_type": "code",
      "source": [
        "from PIL import Image\n",
        "import matplotlib.pyplot as plt\n",
        "plt.imshow(output_feature[0,1,:,:].squeeze().detach().numpy());\n",
        "print(output_feature[0,:,:,:].shape)"
      ],
      "metadata": {
        "colab": {
          "base_uri": "https://localhost:8080/",
          "height": 282
        },
        "id": "35vRklfUmDw_",
        "outputId": "be6a402d-74b4-43cf-f422-6894728de5a6"
      },
      "execution_count": 5,
      "outputs": [
        {
          "output_type": "stream",
          "name": "stdout",
          "text": [
            "torch.Size([6, 14, 14])\n"
          ]
        },
        {
          "output_type": "display_data",
          "data": {
            "text/plain": [
              "<Figure size 432x288 with 1 Axes>"
            ],
            "image/png": "[encoded data removed]"
          },
          "metadata": {
            "needs_background": "light"
          }
        }
      ]
    },
    {
      "cell_type": "code",
      "source": [
        "#@title  {run: 'auto'}\n",
        "\n",
        "slider_value = 12  #@param {type: \"slider\", min: 0, max: 29}\n",
        "plt.imshow(output_feature[slider_value,1,:,:].squeeze().detach().numpy());\n",
        "print(output_feature[slider_value,:,:,:].shape)\n"
      ],
      "metadata": {
        "colab": {
          "base_uri": "https://localhost:8080/",
          "height": 282
        },
        "id": "kkarIjHPOAxM",
        "outputId": "4a707b12-536a-46f2-ab65-e4b3bed22b1e"
      },
      "execution_count": 7,
      "outputs": [
        {
          "output_type": "stream",
          "name": "stdout",
          "text": [
            "torch.Size([6, 14, 14])\n"
          ]
        },
        {
          "output_type": "display_data",
          "data": {
            "text/plain": [
              "<Figure size 432x288 with 1 Axes>"
            ],
            "image/png": "[encoded data removed]"
          },
          "metadata": {
            "needs_background": "light"
          }
        }
      ]
    },
    {
      "cell_type": "code",
      "source": [
        "import torch\n",
        "# Create 30 random images of shape (1, 28, 28)\n",
        "images = torch.rand(30, 1, 28, 28)\n",
        "\n",
        "# Build 6 conv. filters\n",
        "conv_filters = torch.nn.Conv2d(in_channels=1, out_channels=6, kernel_size=5, \n",
        "                               stride=1, padding=0)\n",
        "\n",
        "# Convolve the image with the filters\n",
        "output_feature = conv_filters(images)\n",
        "# what is the dimension of the output tensor? \n",
        "print(output_feature.shape)"
      ],
      "metadata": {
        "id": "D_ohDUFlnBUs",
        "colab": {
          "base_uri": "https://localhost:8080/"
        },
        "outputId": "d11e6772-a488-45cb-e17d-34b14070f3ca"
      },
      "execution_count": 8,
      "outputs": [
        {
          "output_type": "stream",
          "name": "stdout",
          "text": [
            "torch.Size([30, 6, 24, 24])\n"
          ]
        }
      ]
    },
    {
      "cell_type": "code",
      "source": [],
      "metadata": {
        "id": "-k2bETK0Nf_9"
      },
      "execution_count": null,
      "outputs": []
    }
  ]
}