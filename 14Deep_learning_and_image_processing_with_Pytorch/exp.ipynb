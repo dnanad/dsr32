{
 "cells": [
  {
   "cell_type": "code",
   "execution_count": 1,
   "metadata": {},
   "outputs": [
    {
     "data": {
      "text/plain": [
       "0.0"
      ]
     },
     "execution_count": 1,
     "metadata": {},
     "output_type": "execute_result"
    }
   ],
   "source": [
    "import numpy as np\n",
    "#this is called Numerical under flow, its related vanishing gradient problem.\n",
    "np.float16(0.0000003)**64"
   ]
  },
  {
   "cell_type": "markdown",
   "metadata": {},
   "source": [
    "- Instead of sigmoid ReLu since ReLu is numerically stable. It helps in avoiding vanishing gradient problem.\n",
    "- Back propogation is an implimentation of the chain rule.\n",
    "- Capacity: number of parameters\n",
    "- F1: used for unbalanced data\n",
    "- Macro: Good bench mark for the classifier\n",
    "- Micro: every single onei is correct\n",
    "\n",
    "- Receptive field: size of the kernal\n",
    "- Covolution: https://setosa.io/ev/image-kernels/"
   ]
  }
 ],
 "metadata": {
  "kernelspec": {
   "display_name": "Python 3.9.13 ('base')",
   "language": "python",
   "name": "python3"
  },
  "language_info": {
   "codemirror_mode": {
    "name": "ipython",
    "version": 3
   },
   "file_extension": ".py",
   "mimetype": "text/x-python",
   "name": "python",
   "nbconvert_exporter": "python",
   "pygments_lexer": "ipython3",
   "version": "3.9.13"
  },
  "orig_nbformat": 4,
  "vscode": {
   "interpreter": {
    "hash": "b99360ae73ac89f72702610e8be24a9eeff4656a2338e88652f94adc66a84eb5"
   }
  }
 },
 "nbformat": 4,
 "nbformat_minor": 2
}
