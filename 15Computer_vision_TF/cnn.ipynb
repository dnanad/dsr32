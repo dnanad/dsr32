{
 "cells": [
  {
   "cell_type": "code",
   "execution_count": 1,
   "metadata": {},
   "outputs": [],
   "source": [
    "import numpy as np\n",
    "import matplotlib.pyplot as plt\n",
    "import tensorflow as tf\n",
    "from tensorflow.keras import models, layers\n",
    "import tensorflow_datasets as tfds"
   ]
  },
  {
   "cell_type": "code",
   "execution_count": 3,
   "metadata": {},
   "outputs": [
    {
     "name": "stdout",
     "output_type": "stream",
     "text": [
      "\u001b[1mDownloading and preparing dataset Unknown size (download: Unknown size, generated: Unknown size, total: Unknown size) to C:\\Users\\DAnand\\tensorflow_datasets\\fashion_mnist\\3.0.1...\u001b[0m\n"
     ]
    },
    {
     "data": {
      "application/vnd.jupyter.widget-view+json": {
       "model_id": "40738777e117454eaa31b24ce401fbb8",
       "version_major": 2,
       "version_minor": 0
      },
      "text/plain": [
       "Dl Completed...: 0 url [00:00, ? url/s]"
      ]
     },
     "metadata": {},
     "output_type": "display_data"
    },
    {
     "data": {
      "application/vnd.jupyter.widget-view+json": {
       "model_id": "f2c5c0b5e14a4160a501c9610484bbf0",
       "version_major": 2,
       "version_minor": 0
      },
      "text/plain": [
       "Dl Size...: 0 MiB [00:00, ? MiB/s]"
      ]
     },
     "metadata": {},
     "output_type": "display_data"
    },
    {
     "data": {
      "application/vnd.jupyter.widget-view+json": {
       "model_id": "365485ae21c14b87ae14b6e2b4002b50",
       "version_major": 2,
       "version_minor": 0
      },
      "text/plain": [
       "Extraction completed...: 0 file [00:00, ? file/s]"
      ]
     },
     "metadata": {},
     "output_type": "display_data"
    },
    {
     "data": {
      "application/vnd.jupyter.widget-view+json": {
       "model_id": "2f9be787d2d045aabb4c699bafb40485",
       "version_major": 2,
       "version_minor": 0
      },
      "text/plain": [
       "Generating splits...:   0%|          | 0/2 [00:00<?, ? splits/s]"
      ]
     },
     "metadata": {},
     "output_type": "display_data"
    },
    {
     "data": {
      "application/vnd.jupyter.widget-view+json": {
       "model_id": "75e6e75ebbb24479a7ee9d4bf87e73e5",
       "version_major": 2,
       "version_minor": 0
      },
      "text/plain": [
       "Generating train examples...: 0 examples [00:00, ? examples/s]"
      ]
     },
     "metadata": {},
     "output_type": "display_data"
    },
    {
     "data": {
      "application/vnd.jupyter.widget-view+json": {
       "model_id": "3590950a56c4448fb9b58ed15ea8c341",
       "version_major": 2,
       "version_minor": 0
      },
      "text/plain": [
       "Shuffling C:\\Users\\DAnand\\tensorflow_datasets\\fashion_mnist\\3.0.1.incompleteKG67AG\\fashion_mnist-train.tfrecor…"
      ]
     },
     "metadata": {},
     "output_type": "display_data"
    },
    {
     "data": {
      "application/vnd.jupyter.widget-view+json": {
       "model_id": "937ef1fa88274e58b26817ef61a7ce02",
       "version_major": 2,
       "version_minor": 0
      },
      "text/plain": [
       "Generating test examples...: 0 examples [00:00, ? examples/s]"
      ]
     },
     "metadata": {},
     "output_type": "display_data"
    },
    {
     "data": {
      "application/vnd.jupyter.widget-view+json": {
       "model_id": "2aaca2d2b9d5436cb85dbff4b53db5f0",
       "version_major": 2,
       "version_minor": 0
      },
      "text/plain": [
       "Shuffling C:\\Users\\DAnand\\tensorflow_datasets\\fashion_mnist\\3.0.1.incompleteKG67AG\\fashion_mnist-test.tfrecord…"
      ]
     },
     "metadata": {},
     "output_type": "display_data"
    },
    {
     "name": "stdout",
     "output_type": "stream",
     "text": [
      "\u001b[1mDataset fashion_mnist downloaded and prepared to C:\\Users\\DAnand\\tensorflow_datasets\\fashion_mnist\\3.0.1. Subsequent calls will reuse this data.\u001b[0m\n"
     ]
    },
    {
     "data": {
      "text/plain": [
       "tfds.core.DatasetInfo(\n",
       "    name='fashion_mnist',\n",
       "    full_name='fashion_mnist/3.0.1',\n",
       "    description=\"\"\"\n",
       "    Fashion-MNIST is a dataset of Zalando's article images consisting of a training set of 60,000 examples and a test set of 10,000 examples. Each example is a 28x28 grayscale image, associated with a label from 10 classes.\n",
       "    \"\"\",\n",
       "    homepage='https://github.com/zalandoresearch/fashion-mnist',\n",
       "    data_path='C:\\\\Users\\\\DAnand\\\\tensorflow_datasets\\\\fashion_mnist\\\\3.0.1',\n",
       "    file_format=tfrecord,\n",
       "    download_size=29.45 MiB,\n",
       "    dataset_size=36.42 MiB,\n",
       "    features=FeaturesDict({\n",
       "        'image': Image(shape=(28, 28, 1), dtype=tf.uint8),\n",
       "        'label': ClassLabel(shape=(), dtype=tf.int64, num_classes=10),\n",
       "    }),\n",
       "    supervised_keys=('image', 'label'),\n",
       "    disable_shuffling=False,\n",
       "    splits={\n",
       "        'test': <SplitInfo num_examples=10000, num_shards=1>,\n",
       "        'train': <SplitInfo num_examples=60000, num_shards=1>,\n",
       "    },\n",
       "    citation=\"\"\"@article{DBLP:journals/corr/abs-1708-07747,\n",
       "      author    = {Han Xiao and\n",
       "                   Kashif Rasul and\n",
       "                   Roland Vollgraf},\n",
       "      title     = {Fashion-MNIST: a Novel Image Dataset for Benchmarking Machine Learning\n",
       "                   Algorithms},\n",
       "      journal   = {CoRR},\n",
       "      volume    = {abs/1708.07747},\n",
       "      year      = {2017},\n",
       "      url       = {http://arxiv.org/abs/1708.07747},\n",
       "      archivePrefix = {arXiv},\n",
       "      eprint    = {1708.07747},\n",
       "      timestamp = {Mon, 13 Aug 2018 16:47:27 +0200},\n",
       "      biburl    = {https://dblp.org/rec/bib/journals/corr/abs-1708-07747},\n",
       "      bibsource = {dblp computer science bibliography, https://dblp.org}\n",
       "    }\"\"\",\n",
       ")"
      ]
     },
     "execution_count": 3,
     "metadata": {},
     "output_type": "execute_result"
    }
   ],
   "source": [
    "(dataset_train_original, dataset_validate_original), info = tfds.load(\n",
    "    \"fashion_mnist\",\n",
    "    split=[\"train\", \"test\"],\n",
    "    as_supervised=True,\n",
    "    with_info=True\n",
    ")\n",
    "info"
   ]
  },
  {
   "cell_type": "markdown",
   "metadata": {},
   "source": [
    "# Look at your beeping data"
   ]
  },
  {
   "cell_type": "code",
   "execution_count": 8,
   "metadata": {},
   "outputs": [
    {
     "data": {
      "image/png": "[encoded data removed]",
      "text/plain": [
       "<Figure size 640x480 with 1 Axes>"
      ]
     },
     "metadata": {},
     "output_type": "display_data"
    }
   ],
   "source": [
    "for x,y in dataset_train_original.shuffle(100).take(1):\n",
    "    # print(type(x), type(y))\n",
    "    plt.imshow(x.numpy().squeeze(), cmap=\"gray\")\n",
    "    plt.title(f\"Label is {y}\")"
   ]
  },
  {
   "cell_type": "code",
   "execution_count": 9,
   "metadata": {},
   "outputs": [
    {
     "data": {
      "text/plain": [
       "['_GeneratorState',\n",
       " '__abstractmethods__',\n",
       " '__bool__',\n",
       " '__class__',\n",
       " '__class_getitem__',\n",
       " '__debug_string__',\n",
       " '__delattr__',\n",
       " '__dict__',\n",
       " '__dir__',\n",
       " '__doc__',\n",
       " '__eq__',\n",
       " '__format__',\n",
       " '__ge__',\n",
       " '__getattribute__',\n",
       " '__gt__',\n",
       " '__hash__',\n",
       " '__init__',\n",
       " '__init_subclass__',\n",
       " '__iter__',\n",
       " '__le__',\n",
       " '__len__',\n",
       " '__lt__',\n",
       " '__module__',\n",
       " '__ne__',\n",
       " '__new__',\n",
       " '__nonzero__',\n",
       " '__reduce__',\n",
       " '__reduce_ex__',\n",
       " '__repr__',\n",
       " '__setattr__',\n",
       " '__sizeof__',\n",
       " '__slots__',\n",
       " '__str__',\n",
       " '__subclasshook__',\n",
       " '__tf_tracing_type__',\n",
       " '__weakref__',\n",
       " '_abc_impl',\n",
       " '_add_trackable_child',\n",
       " '_add_variable_with_custom_getter',\n",
       " '_apply_debug_options',\n",
       " '_as_serialized_graph',\n",
       " '_buffer_size',\n",
       " '_checkpoint_dependencies',\n",
       " '_common_args',\n",
       " '_consumers',\n",
       " '_convert_variables_to_tensors',\n",
       " '_deferred_dependencies',\n",
       " '_deserialization_dependencies',\n",
       " '_deserialize_from_proto',\n",
       " '_export_to_saved_model_graph',\n",
       " '_flat_shapes',\n",
       " '_flat_structure',\n",
       " '_flat_types',\n",
       " '_functions',\n",
       " '_gather_saveables_for_checkpoint',\n",
       " '_graph',\n",
       " '_graph_attr',\n",
       " '_handle_deferred_dependencies',\n",
       " '_input_dataset',\n",
       " '_inputs',\n",
       " '_lookup_dependency',\n",
       " '_map_resources',\n",
       " '_maybe_initialize_trackable',\n",
       " '_maybe_track_assets',\n",
       " '_metadata',\n",
       " '_name',\n",
       " '_name_based_attribute_restore',\n",
       " '_name_based_restores',\n",
       " '_no_dependency',\n",
       " '_object_identifier',\n",
       " '_options',\n",
       " '_options_attr',\n",
       " '_options_tensor_to_options',\n",
       " '_preload_simple_restoration',\n",
       " '_restore_from_tensors',\n",
       " '_serialize_to_proto',\n",
       " '_serialize_to_tensors',\n",
       " '_setattr_tracking',\n",
       " '_shape_invariant_to_type_spec',\n",
       " '_tf_api_names',\n",
       " '_tf_api_names_v1',\n",
       " '_trace_variant_creation',\n",
       " '_track_trackable',\n",
       " '_trackable_children',\n",
       " '_type_spec',\n",
       " '_unconditional_checkpoint_dependencies',\n",
       " '_unconditional_dependency_names',\n",
       " '_update_uid',\n",
       " '_variant_tensor',\n",
       " '_variant_tensor_attr',\n",
       " 'apply',\n",
       " 'as_numpy_iterator',\n",
       " 'batch',\n",
       " 'bucket_by_sequence_length',\n",
       " 'cache',\n",
       " 'cardinality',\n",
       " 'choose_from_datasets',\n",
       " 'concatenate',\n",
       " 'element_spec',\n",
       " 'enumerate',\n",
       " 'filter',\n",
       " 'flat_map',\n",
       " 'from_generator',\n",
       " 'from_tensor_slices',\n",
       " 'from_tensors',\n",
       " 'get_single_element',\n",
       " 'group_by_window',\n",
       " 'interleave',\n",
       " 'list_files',\n",
       " 'load',\n",
       " 'map',\n",
       " 'options',\n",
       " 'padded_batch',\n",
       " 'prefetch',\n",
       " 'random',\n",
       " 'range',\n",
       " 'reduce',\n",
       " 'rejection_resample',\n",
       " 'repeat',\n",
       " 'sample_from_datasets',\n",
       " 'save',\n",
       " 'scan',\n",
       " 'shard',\n",
       " 'shuffle',\n",
       " 'skip',\n",
       " 'snapshot',\n",
       " 'take',\n",
       " 'take_while',\n",
       " 'unbatch',\n",
       " 'unique',\n",
       " 'window',\n",
       " 'with_options',\n",
       " 'zip']"
      ]
     },
     "execution_count": 9,
     "metadata": {},
     "output_type": "execute_result"
    }
   ],
   "source": [
    "dir(dataset_train_original)"
   ]
  },
  {
   "cell_type": "markdown",
   "metadata": {},
   "source": [
    "# Data preprocessing"
   ]
  },
  {
   "cell_type": "code",
   "execution_count": 10,
   "metadata": {},
   "outputs": [
    {
     "name": "stdout",
     "output_type": "stream",
     "text": [
      "1.0\n"
     ]
    },
    {
     "data": {
      "image/png": "[encoded data removed]",
      "text/plain": [
       "<Figure size 640x480 with 1 Axes>"
      ]
     },
     "metadata": {},
     "output_type": "display_data"
    }
   ],
   "source": [
    "def encode(image, label):\n",
    "    image = tf.image.convert_image_dtype(image, dtype=tf.float32)\n",
    "    return image, label\n",
    "\n",
    "\n",
    "\n",
    "dataset = dataset_train_original.map(lambda image, label: encode(image, label))\n",
    "\n",
    "for x,y in dataset.take(1):\n",
    "    # print(type(x), type(y))\n",
    "    plt.imshow(x.numpy().squeeze(), cmap=\"gray\")\n",
    "    plt.title(f\"Label is {y}\")\n",
    "    print(np.max(x.numpy()))"
   ]
  },
  {
   "cell_type": "code",
   "execution_count": 11,
   "metadata": {},
   "outputs": [],
   "source": [
    "dataset_train = dataset_train_original.map(lambda image, label: encode(image, label)).cache().shuffle(60000).batch(128)\n",
    "dataset_validate = dataset_validate_original.map(lambda image, label: encode(image, label)).cache().batch(128)\n"
   ]
  },
  {
   "cell_type": "code",
   "execution_count": 12,
   "metadata": {},
   "outputs": [
    {
     "name": "stdout",
     "output_type": "stream",
     "text": [
      "(128, 28, 28, 1)\n"
     ]
    }
   ],
   "source": [
    "for x_batch, y_batch in dataset_train.take(1):\n",
    "    print(x_batch.shape)"
   ]
  },
  {
   "cell_type": "code",
   "execution_count": 13,
   "metadata": {},
   "outputs": [
    {
     "name": "stdout",
     "output_type": "stream",
     "text": [
      "Model: \"sequential\"\n",
      "_________________________________________________________________\n",
      " Layer (type)                Output Shape              Param #   \n",
      "=================================================================\n",
      " conv2d (Conv2D)             (None, 26, 26, 8)         80        \n",
      "                                                                 \n",
      "=================================================================\n",
      "Total params: 80\n",
      "Trainable params: 80\n",
      "Non-trainable params: 0\n",
      "_________________________________________________________________\n"
     ]
    }
   ],
   "source": [
    "model = models.Sequential()\n",
    "model.add(layers.Conv2D(\n",
    "    8,\n",
    "    (3,3),\n",
    "    activation=\"relu\",\n",
    "    input_shape=(28,28,1)\n",
    "))\n",
    "\n",
    "model.summary()"
   ]
  },
  {
   "cell_type": "code",
   "execution_count": 14,
   "metadata": {},
   "outputs": [
    {
     "name": "stdout",
     "output_type": "stream",
     "text": [
      "Model: \"sequential_1\"\n",
      "_________________________________________________________________\n",
      " Layer (type)                Output Shape              Param #   \n",
      "=================================================================\n",
      " conv2d_1 (Conv2D)           (None, 26, 26, 8)         80        \n",
      "                                                                 \n",
      " max_pooling2d (MaxPooling2D  (None, 13, 13, 8)        0         \n",
      " )                                                               \n",
      "                                                                 \n",
      " conv2d_2 (Conv2D)           (None, 11, 11, 16)        1168      \n",
      "                                                                 \n",
      " max_pooling2d_1 (MaxPooling  (None, 5, 5, 16)         0         \n",
      " 2D)                                                             \n",
      "                                                                 \n",
      "=================================================================\n",
      "Total params: 1,248\n",
      "Trainable params: 1,248\n",
      "Non-trainable params: 0\n",
      "_________________________________________________________________\n"
     ]
    }
   ],
   "source": [
    "model = models.Sequential()\n",
    "model.add(layers.Conv2D(\n",
    "    8,\n",
    "    (3,3),\n",
    "    activation=\"relu\",\n",
    "    input_shape=(28,28,1)\n",
    "))\n",
    "model.add(layers.MaxPooling2D((2,2)))\n",
    "model.add(layers.Conv2D(\n",
    "    16,\n",
    "    (3,3),\n",
    "    activation=\"relu\"\n",
    "))\n",
    "model.add(layers.MaxPooling2D((2,2)))\n",
    "\n",
    "model.summary()"
   ]
  },
  {
   "cell_type": "code",
   "execution_count": 15,
   "metadata": {},
   "outputs": [
    {
     "name": "stdout",
     "output_type": "stream",
     "text": [
      "Model: \"sequential_2\"\n",
      "_________________________________________________________________\n",
      " Layer (type)                Output Shape              Param #   \n",
      "=================================================================\n",
      " conv2d_3 (Conv2D)           (None, 26, 26, 8)         80        \n",
      "                                                                 \n",
      " max_pooling2d_2 (MaxPooling  (None, 13, 13, 8)        0         \n",
      " 2D)                                                             \n",
      "                                                                 \n",
      " conv2d_4 (Conv2D)           (None, 11, 11, 16)        1168      \n",
      "                                                                 \n",
      " max_pooling2d_3 (MaxPooling  (None, 5, 5, 16)         0         \n",
      " 2D)                                                             \n",
      "                                                                 \n",
      " conv2d_5 (Conv2D)           (None, 3, 3, 32)          4640      \n",
      "                                                                 \n",
      " flatten (Flatten)           (None, 288)               0         \n",
      "                                                                 \n",
      " dense (Dense)               (None, 10)                2890      \n",
      "                                                                 \n",
      "=================================================================\n",
      "Total params: 8,778\n",
      "Trainable params: 8,778\n",
      "Non-trainable params: 0\n",
      "_________________________________________________________________\n"
     ]
    }
   ],
   "source": [
    "model = models.Sequential()\n",
    "model.add(layers.Conv2D(\n",
    "    8,\n",
    "    (3,3),\n",
    "    activation=\"relu\",\n",
    "    input_shape=(28,28,1)\n",
    "))\n",
    "model.add(layers.MaxPooling2D((2,2)))\n",
    "model.add(layers.Conv2D(\n",
    "    16,\n",
    "    (3,3),\n",
    "    activation=\"relu\"\n",
    "))\n",
    "model.add(layers.MaxPooling2D((2,2)))\n",
    "model.add(layers.Conv2D(\n",
    "    32,\n",
    "    (3,3),\n",
    "    activation=\"relu\"\n",
    "))\n",
    "model.add(layers.Flatten())\n",
    "model.add(layers.Dense(10, activation=\"softmax\"))\n",
    "\n",
    "model.summary()"
   ]
  },
  {
   "cell_type": "code",
   "execution_count": 18,
   "metadata": {},
   "outputs": [
    {
     "name": "stdout",
     "output_type": "stream",
     "text": [
      "Model: \"sequential_5\"\n",
      "_________________________________________________________________\n",
      " Layer (type)                Output Shape              Param #   \n",
      "=================================================================\n",
      " conv2d_12 (Conv2D)          (None, 26, 26, 8)         80        \n",
      "                                                                 \n",
      " max_pooling2d_8 (MaxPooling  (None, 13, 13, 8)        0         \n",
      " 2D)                                                             \n",
      "                                                                 \n",
      " conv2d_13 (Conv2D)          (None, 11, 11, 16)        1168      \n",
      "                                                                 \n",
      " max_pooling2d_9 (MaxPooling  (None, 5, 5, 16)         0         \n",
      " 2D)                                                             \n",
      "                                                                 \n",
      " conv2d_14 (Conv2D)          (None, 3, 3, 32)          4640      \n",
      "                                                                 \n",
      " flatten_3 (Flatten)         (None, 288)               0         \n",
      "                                                                 \n",
      " dense_3 (Dense)             (None, 10)                2890      \n",
      "                                                                 \n",
      "=================================================================\n",
      "Total params: 8,778\n",
      "Trainable params: 8,778\n",
      "Non-trainable params: 0\n",
      "_________________________________________________________________\n",
      "Epoch 1/50\n",
      "469/469 [==============================] - 14s 16ms/step - loss: 0.7746 - accuracy: 0.7274 - val_loss: 0.5641 - val_accuracy: 0.7925\n",
      "Epoch 2/50\n",
      "469/469 [==============================] - 5s 11ms/step - loss: 0.5020 - accuracy: 0.8173 - val_loss: 0.4947 - val_accuracy: 0.8226\n",
      "Epoch 3/50\n",
      "469/469 [==============================] - 6s 13ms/step - loss: 0.4415 - accuracy: 0.8438 - val_loss: 0.4384 - val_accuracy: 0.8446\n",
      "Epoch 4/50\n",
      "469/469 [==============================] - 7s 15ms/step - loss: 0.4031 - accuracy: 0.8566 - val_loss: 0.4088 - val_accuracy: 0.8549\n",
      "Epoch 5/50\n",
      "469/469 [==============================] - 13s 27ms/step - loss: 0.3775 - accuracy: 0.8655 - val_loss: 0.3987 - val_accuracy: 0.8594\n",
      "Epoch 6/50\n",
      "469/469 [==============================] - 14s 29ms/step - loss: 0.3616 - accuracy: 0.8712 - val_loss: 0.3754 - val_accuracy: 0.8669\n",
      "Epoch 7/50\n",
      "469/469 [==============================] - 7s 14ms/step - loss: 0.3456 - accuracy: 0.8768 - val_loss: 0.3705 - val_accuracy: 0.8674\n",
      "Epoch 8/50\n",
      "469/469 [==============================] - 5s 11ms/step - loss: 0.3346 - accuracy: 0.8804 - val_loss: 0.3556 - val_accuracy: 0.8731\n",
      "Epoch 9/50\n",
      "469/469 [==============================] - 6s 12ms/step - loss: 0.3210 - accuracy: 0.8856 - val_loss: 0.3484 - val_accuracy: 0.8754\n",
      "Epoch 10/50\n",
      "469/469 [==============================] - 6s 12ms/step - loss: 0.3140 - accuracy: 0.8873 - val_loss: 0.3533 - val_accuracy: 0.8712\n",
      "Epoch 11/50\n",
      "469/469 [==============================] - 6s 12ms/step - loss: 0.3050 - accuracy: 0.8907 - val_loss: 0.3423 - val_accuracy: 0.8774\n",
      "Epoch 12/50\n",
      "469/469 [==============================] - 6s 12ms/step - loss: 0.2984 - accuracy: 0.8925 - val_loss: 0.3392 - val_accuracy: 0.8781\n",
      "Epoch 13/50\n",
      "469/469 [==============================] - 6s 12ms/step - loss: 0.2908 - accuracy: 0.8940 - val_loss: 0.3283 - val_accuracy: 0.8820\n",
      "Epoch 14/50\n",
      "469/469 [==============================] - 5s 11ms/step - loss: 0.2861 - accuracy: 0.8962 - val_loss: 0.3342 - val_accuracy: 0.8803\n",
      "Epoch 15/50\n",
      "469/469 [==============================] - 5s 11ms/step - loss: 0.2801 - accuracy: 0.8986 - val_loss: 0.3184 - val_accuracy: 0.8863\n",
      "Epoch 16/50\n",
      "469/469 [==============================] - 6s 12ms/step - loss: 0.2746 - accuracy: 0.8999 - val_loss: 0.3336 - val_accuracy: 0.8799\n",
      "Epoch 17/50\n",
      "469/469 [==============================] - 7s 14ms/step - loss: 0.2711 - accuracy: 0.9013 - val_loss: 0.3187 - val_accuracy: 0.8847\n",
      "Epoch 18/50\n",
      "469/469 [==============================] - 7s 14ms/step - loss: 0.2658 - accuracy: 0.9038 - val_loss: 0.3109 - val_accuracy: 0.8898\n",
      "Epoch 19/50\n",
      "469/469 [==============================] - 7s 14ms/step - loss: 0.2640 - accuracy: 0.9041 - val_loss: 0.3265 - val_accuracy: 0.8857\n",
      "Epoch 20/50\n",
      "469/469 [==============================] - 6s 14ms/step - loss: 0.2577 - accuracy: 0.9064 - val_loss: 0.3125 - val_accuracy: 0.8867\n",
      "Epoch 21/50\n",
      "469/469 [==============================] - 6s 14ms/step - loss: 0.2556 - accuracy: 0.9064 - val_loss: 0.3068 - val_accuracy: 0.8885\n",
      "Epoch 22/50\n",
      "469/469 [==============================] - 7s 14ms/step - loss: 0.2518 - accuracy: 0.9081 - val_loss: 0.3080 - val_accuracy: 0.8920\n",
      "Epoch 23/50\n",
      "469/469 [==============================] - 6s 13ms/step - loss: 0.2483 - accuracy: 0.9097 - val_loss: 0.3067 - val_accuracy: 0.8922\n",
      "Epoch 24/50\n",
      "469/469 [==============================] - 6s 13ms/step - loss: 0.2444 - accuracy: 0.9120 - val_loss: 0.3021 - val_accuracy: 0.8945\n",
      "Epoch 25/50\n",
      "469/469 [==============================] - 6s 14ms/step - loss: 0.2424 - accuracy: 0.9118 - val_loss: 0.2998 - val_accuracy: 0.8936\n",
      "Epoch 26/50\n",
      "469/469 [==============================] - 7s 14ms/step - loss: 0.2396 - accuracy: 0.9129 - val_loss: 0.2989 - val_accuracy: 0.8945\n",
      "Epoch 27/50\n",
      "469/469 [==============================] - 7s 14ms/step - loss: 0.2370 - accuracy: 0.9132 - val_loss: 0.3039 - val_accuracy: 0.8944\n",
      "Epoch 28/50\n",
      "469/469 [==============================] - 7s 14ms/step - loss: 0.2362 - accuracy: 0.9141 - val_loss: 0.3009 - val_accuracy: 0.8951\n",
      "Epoch 29/50\n",
      "469/469 [==============================] - 6s 13ms/step - loss: 0.2334 - accuracy: 0.9148 - val_loss: 0.2981 - val_accuracy: 0.8926\n",
      "Epoch 30/50\n",
      "469/469 [==============================] - 6s 14ms/step - loss: 0.2305 - accuracy: 0.9154 - val_loss: 0.3037 - val_accuracy: 0.8912\n",
      "Epoch 31/50\n",
      "469/469 [==============================] - 6s 14ms/step - loss: 0.2281 - accuracy: 0.9168 - val_loss: 0.3044 - val_accuracy: 0.8956\n",
      "Epoch 32/50\n",
      "469/469 [==============================] - 8s 16ms/step - loss: 0.2268 - accuracy: 0.9175 - val_loss: 0.3017 - val_accuracy: 0.8956\n",
      "Epoch 33/50\n",
      "469/469 [==============================] - 6s 12ms/step - loss: 0.2240 - accuracy: 0.9190 - val_loss: 0.3084 - val_accuracy: 0.8942\n",
      "Epoch 34/50\n",
      "469/469 [==============================] - 6s 12ms/step - loss: 0.2222 - accuracy: 0.9190 - val_loss: 0.2982 - val_accuracy: 0.8963\n",
      "Epoch 35/50\n",
      "469/469 [==============================] - 5s 11ms/step - loss: 0.2227 - accuracy: 0.9188 - val_loss: 0.2942 - val_accuracy: 0.8977\n",
      "Epoch 36/50\n",
      "469/469 [==============================] - 5s 11ms/step - loss: 0.2188 - accuracy: 0.9203 - val_loss: 0.3074 - val_accuracy: 0.8945\n",
      "Epoch 37/50\n",
      "469/469 [==============================] - 5s 11ms/step - loss: 0.2172 - accuracy: 0.9204 - val_loss: 0.2984 - val_accuracy: 0.8979\n",
      "Epoch 38/50\n",
      "469/469 [==============================] - 5s 11ms/step - loss: 0.2154 - accuracy: 0.9211 - val_loss: 0.3157 - val_accuracy: 0.8903\n",
      "Epoch 39/50\n",
      "469/469 [==============================] - 5s 11ms/step - loss: 0.2124 - accuracy: 0.9222 - val_loss: 0.2959 - val_accuracy: 0.8965\n",
      "Epoch 40/50\n",
      "469/469 [==============================] - 5s 11ms/step - loss: 0.2107 - accuracy: 0.9228 - val_loss: 0.3067 - val_accuracy: 0.8956\n",
      "Epoch 41/50\n",
      "469/469 [==============================] - 7s 14ms/step - loss: 0.2110 - accuracy: 0.9225 - val_loss: 0.3038 - val_accuracy: 0.8971\n",
      "Epoch 42/50\n",
      "469/469 [==============================] - 7s 14ms/step - loss: 0.2086 - accuracy: 0.9238 - val_loss: 0.3013 - val_accuracy: 0.8963\n",
      "Epoch 43/50\n",
      "469/469 [==============================] - 6s 13ms/step - loss: 0.2066 - accuracy: 0.9239 - val_loss: 0.3062 - val_accuracy: 0.8969\n",
      "Epoch 44/50\n",
      "469/469 [==============================] - 7s 14ms/step - loss: 0.2062 - accuracy: 0.9243 - val_loss: 0.3071 - val_accuracy: 0.8961\n",
      "Epoch 45/50\n",
      "469/469 [==============================] - 7s 14ms/step - loss: 0.2047 - accuracy: 0.9244 - val_loss: 0.3086 - val_accuracy: 0.8942\n",
      "Epoch 46/50\n",
      "469/469 [==============================] - 6s 14ms/step - loss: 0.2055 - accuracy: 0.9247 - val_loss: 0.3106 - val_accuracy: 0.8939\n",
      "Epoch 47/50\n",
      "469/469 [==============================] - 6s 14ms/step - loss: 0.2025 - accuracy: 0.9260 - val_loss: 0.3031 - val_accuracy: 0.8968\n",
      "Epoch 48/50\n",
      "469/469 [==============================] - 6s 13ms/step - loss: 0.2004 - accuracy: 0.9266 - val_loss: 0.3036 - val_accuracy: 0.8966\n",
      "Epoch 49/50\n",
      "469/469 [==============================] - 6s 14ms/step - loss: 0.1994 - accuracy: 0.9266 - val_loss: 0.3086 - val_accuracy: 0.8952\n",
      "Epoch 50/50\n",
      "469/469 [==============================] - 6s 14ms/step - loss: 0.1979 - accuracy: 0.9273 - val_loss: 0.3068 - val_accuracy: 0.8958\n"
     ]
    }
   ],
   "source": [
    "model = models.Sequential()\n",
    "model.add(layers.Conv2D(\n",
    "    8,\n",
    "    (3,3),\n",
    "    activation=\"relu\",\n",
    "    input_shape=(28,28,1)\n",
    "))\n",
    "model.add(layers.MaxPooling2D((2,2)))\n",
    "model.add(layers.Conv2D(\n",
    "    16,\n",
    "    (3,3),\n",
    "    activation=\"relu\"\n",
    "))\n",
    "model.add(layers.MaxPooling2D((2,2)))\n",
    "model.add(layers.Conv2D(\n",
    "    32,\n",
    "    (3,3),\n",
    "    activation=\"relu\"\n",
    "))\n",
    "model.add(layers.Flatten())\n",
    "model.add(layers.Dense(10, activation=\"softmax\"))\n",
    "\n",
    "model.summary()\n",
    "\n",
    "model.compile(\n",
    "    optimizer=\"adam\",\n",
    "    loss=\"sparse_categorical_crossentropy\",\n",
    "    metrics=[\"accuracy\"]\n",
    ")\n",
    "\n",
    "history = model.fit(\n",
    "    dataset_train,\n",
    "    validation_data=dataset_validate,\n",
    "    epochs=50\n",
    ")"
   ]
  },
  {
   "cell_type": "code",
   "execution_count": 19,
   "metadata": {},
   "outputs": [],
   "source": [
    "def render_history(history):\n",
    "    plt.title(\"Losses\")\n",
    "    plt.plot(history.history[\"loss\"], label=\"loss\")\n",
    "    plt.plot(history.history[\"val_loss\"], label=\"val_loss\")\n",
    "    plt.legend()\n",
    "    plt.show()\n",
    "    plt.close()\n",
    "\n",
    "    plt.title(\"Accuracies\")\n",
    "    plt.plot(history.history[\"accuracy\"], label=\"accuracy\")\n",
    "    plt.plot(history.history[\"val_accuracy\"], label=\"val_accuracy\")\n",
    "    plt.legend()\n",
    "    plt.show()\n",
    "    plt.close()"
   ]
  },
  {
   "cell_type": "code",
   "execution_count": 20,
   "metadata": {},
   "outputs": [
    {
     "data": {
      "image/png": "[encoded data removed]",
      "text/plain": [
       "<Figure size 640x480 with 1 Axes>"
      ]
     },
     "metadata": {},
     "output_type": "display_data"
    },
    {
     "data": {
      "image/png": "[encoded data removed]",
      "text/plain": [
       "<Figure size 640x480 with 1 Axes>"
      ]
     },
     "metadata": {},
     "output_type": "display_data"
    }
   ],
   "source": [
    "render_history(history)"
   ]
  }
 ],
 "metadata": {
  "kernelspec": {
   "display_name": "Python 3.9.13 ('tf-gpu')",
   "language": "python",
   "name": "python3"
  },
  "language_info": {
   "codemirror_mode": {
    "name": "ipython",
    "version": 3
   },
   "file_extension": ".py",
   "mimetype": "text/x-python",
   "name": "python",
   "nbconvert_exporter": "python",
   "pygments_lexer": "ipython3",
   "version": "3.9.13"
  },
  "orig_nbformat": 4,
  "vscode": {
   "interpreter": {
    "hash": "b35987021c60fd5d1e03bdac54f8fbaabbcd0a19fb1d4d763cb68ffaa03d4a8d"
   }
  }
 },
 "nbformat": 4,
 "nbformat_minor": 2
}
