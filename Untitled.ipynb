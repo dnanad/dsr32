{
 "cells": [
  {
   "cell_type": "markdown",
   "id": "60da6c33-698e-4d72-beef-e50807407d4e",
   "metadata": {},
   "source": [
    "# Heading"
   ]
  },
  {
   "cell_type": "code",
   "execution_count": null,
   "id": "4ef6ab70-486d-4cb7-98e8-0730ecdae157",
   "metadata": {},
   "outputs": [],
   "source": []
  },
  {
   "cell_type": "markdown",
   "id": "27dbf76c-4e87-4898-9937-9e5af59bc296",
   "metadata": {},
   "source": [
    "## Subheading"
   ]
  },
  {
   "cell_type": "code",
   "execution_count": null,
   "id": "604a7fe3-bfd1-461b-bd75-b7e20b7f50d0",
   "metadata": {},
   "outputs": [],
   "source": []
  }
 ],
 "metadata": {
  "kernelspec": {
   "display_name": "dsr-setup",
   "language": "python",
   "name": "dsr-setup"
  },
  "language_info": {
   "codemirror_mode": {
    "name": "ipython",
    "version": 3
   },
   "file_extension": ".py",
   "mimetype": "text/x-python",
   "name": "python",
   "nbconvert_exporter": "python",
   "pygments_lexer": "ipython3",
   "version": "3.8.13"
  }
 },
 "nbformat": 4,
 "nbformat_minor": 5
}
