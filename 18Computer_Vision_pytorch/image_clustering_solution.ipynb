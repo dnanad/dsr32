{
  "nbformat": 4,
  "nbformat_minor": 0,
  "metadata": {
    "colab": {
      "provenance": []
    },
    "kernelspec": {
      "name": "python3",
      "display_name": "Python 3"
    }
  },
  "cells": [
    {
      "cell_type": "markdown",
      "metadata": {
        "id": "Y7kcznHsoPTA"
      },
      "source": [
        "\\## Image clustering with K-medoids "
      ]
    },
    {
      "cell_type": "code",
      "metadata": {
        "colab": {
          "base_uri": "https://localhost:8080/"
        },
        "id": "jf1vZD9xkbJh",
        "outputId": "e81f0075-9cc0-4a23-91e8-816dd0527b4f"
      },
      "source": [
        "# we install scikit-learn-extra to get k-medoids\n",
        "!pip install scikit-learn-extra"
      ],
      "execution_count": null,
      "outputs": [
        {
          "output_type": "stream",
          "name": "stdout",
          "text": [
            "Looking in indexes: https://pypi.org/simple, https://us-python.pkg.dev/colab-wheels/public/simple/\n",
            "Collecting scikit-learn-extra\n",
            "  Downloading scikit_learn_extra-0.2.0-cp37-cp37m-manylinux2010_x86_64.whl (1.7 MB)\n",
            "\u001b[K     |████████████████████████████████| 1.7 MB 5.1 MB/s \n",
            "\u001b[?25hRequirement already satisfied: scipy>=0.19.1 in /usr/local/lib/python3.7/dist-packages (from scikit-learn-extra) (1.7.3)\n",
            "Requirement already satisfied: numpy>=1.13.3 in /usr/local/lib/python3.7/dist-packages (from scikit-learn-extra) (1.21.6)\n",
            "Requirement already satisfied: scikit-learn>=0.23.0 in /usr/local/lib/python3.7/dist-packages (from scikit-learn-extra) (1.0.2)\n",
            "Requirement already satisfied: joblib>=0.11 in /usr/local/lib/python3.7/dist-packages (from scikit-learn>=0.23.0->scikit-learn-extra) (1.1.0)\n",
            "Requirement already satisfied: threadpoolctl>=2.0.0 in /usr/local/lib/python3.7/dist-packages (from scikit-learn>=0.23.0->scikit-learn-extra) (3.1.0)\n",
            "Installing collected packages: scikit-learn-extra\n",
            "Successfully installed scikit-learn-extra-0.2.0\n"
          ]
        }
      ]
    },
    {
      "cell_type": "code",
      "metadata": {
        "id": "6nNh9sVcNH1L"
      },
      "source": [
        "from google.colab import drive\n",
        "drive.mount('/gdrive')\n",
        "%cd /gdrive"
      ],
      "execution_count": null,
      "outputs": []
    },
    {
      "cell_type": "code",
      "metadata": {
        "id": "iP63ppiTNIez"
      },
      "source": [
        "from pathlib import Path\n",
        "import os\n",
        "path = Path('/gdrive/My Drive/')"
      ],
      "execution_count": null,
      "outputs": []
    },
    {
      "cell_type": "code",
      "metadata": {
        "id": "-njMlmHbeTDc"
      },
      "source": [
        "import pickle\n",
        "os.listdir(path / 'pets_images_2/oxford-iiit-pet/')"
      ],
      "execution_count": null,
      "outputs": []
    },
    {
      "cell_type": "code",
      "metadata": {
        "id": "jLBNkgPVg4A-"
      },
      "source": [
        "os.listdir(path)"
      ],
      "execution_count": null,
      "outputs": []
    },
    {
      "cell_type": "code",
      "metadata": {
        "id": "Wce_3qo-eTxT"
      },
      "source": [
        "with open(path / 'pets_images_2/pet_image_embeddings.pkl', 'rb') as handle:\n",
        "  pets_embeddings = pickle.load(handle)\n",
        "\n",
        "with open(path / 'dogs_vs_cats/cats_vs_dogs_embeddings.pkl', 'rb') as handle:\n",
        "  dogs_and_cats_embeddings = pickle.load(handle)"
      ],
      "execution_count": null,
      "outputs": []
    },
    {
      "cell_type": "code",
      "metadata": {
        "id": "Gr1HsTJ7fzPF"
      },
      "source": [
        "len(pets_embeddings), pets_embeddings.keys()"
      ],
      "execution_count": null,
      "outputs": []
    },
    {
      "cell_type": "code",
      "metadata": {
        "id": "pdIjROf2f1C1"
      },
      "source": [
        "len(dogs_and_cats_embeddings), dogs_and_cats_embeddings.keys()"
      ],
      "execution_count": null,
      "outputs": []
    },
    {
      "cell_type": "code",
      "metadata": {
        "id": "eRrLmaU_iFT2"
      },
      "source": [
        "# merge dictionaries\n",
        "image_embeddings_dict = {**dogs_and_cats_embeddings, **pets_embeddings}\n",
        "len(image_embeddings_dict)"
      ],
      "execution_count": null,
      "outputs": []
    },
    {
      "cell_type": "code",
      "metadata": {
        "id": "aEEXnpHQAMNi"
      },
      "source": [
        "# leave it in pets for the moment (save memory for quick experiments)\n",
        "# and avoid having to fix the imread visualization paths \n",
        "image_embeddings_dict = pets_embeddings"
      ],
      "execution_count": null,
      "outputs": []
    },
    {
      "cell_type": "code",
      "metadata": {
        "id": "Ok8HMkTgu52V"
      },
      "source": [
        "import numpy as np\n",
        "# separate vectors and images (for convenience)\n",
        "X = []\n",
        "images = []\n",
        "for image, embedding in image_embeddings_dict.items():\n",
        "    X.append(embedding)\n",
        "    images.append(image)"
      ],
      "execution_count": null,
      "outputs": []
    },
    {
      "cell_type": "markdown",
      "metadata": {
        "id": "k3khSh8xtZCs"
      },
      "source": [
        "## Finding nearest neighbors \n",
        "\n",
        "We want to know how similar is every image to its nine closest neighbors"
      ]
    },
    {
      "cell_type": "code",
      "metadata": {
        "id": "5J762_bHuCdP"
      },
      "source": [
        "from sklearn.neighbors import NearestNeighbors\n",
        "\n",
        "# sklearn gives the cosine distance = 1 - cos_similarity\n",
        "nbrs = NearestNeighbors(n_neighbors=9, metric='cosine').fit(X) \n",
        "nbrs"
      ],
      "execution_count": null,
      "outputs": []
    },
    {
      "cell_type": "code",
      "metadata": {
        "id": "gkn-0UIsuO9U"
      },
      "source": [
        "neighbor_similarities, neighbor_indices = nbrs.kneighbors(X)\n",
        "neighbor_similarities, neighbor_indices"
      ],
      "execution_count": null,
      "outputs": []
    },
    {
      "cell_type": "code",
      "metadata": {
        "id": "7oRKEQsvuuMt"
      },
      "source": [
        "# check sklearn's cosine distance vs our own cosine similarity metric\n",
        "from numpy.linalg import norm\n",
        "def cosine_similarity(vector_a, vector_b):\n",
        "    return np.inner(vector_a, vector_b) / (norm(vector_a) * norm(vector_b))\n",
        "\n",
        "\n",
        "neighborhoods_dict = {}\n",
        "for i in range(len(neighbor_indices)):\n",
        "    center_image = images[neighbor_indices[i, 0]]\n",
        "    neighbors_list = []\n",
        "    for j in range(0, len(neighbor_indices[0])):\n",
        "        neighbor_image = images[neighbor_indices[i][j]]\n",
        "        neighbor_similarity = 1.0 - neighbor_similarities[i][j]\n",
        "        neighbors_list.append([neighbor_image, neighbor_similarity])\n",
        "    neighborhoods_dict[center_image] = neighbors_list"
      ],
      "execution_count": null,
      "outputs": []
    },
    {
      "cell_type": "code",
      "metadata": {
        "id": "n_-hWzONvTeF"
      },
      "source": [
        "neighborhoods_dict"
      ],
      "execution_count": null,
      "outputs": []
    },
    {
      "cell_type": "code",
      "metadata": {
        "id": "sv9hCrCAwaVm"
      },
      "source": [
        "neighborhoods_dict['shiba_inu_92.jpg']"
      ],
      "execution_count": null,
      "outputs": []
    },
    {
      "cell_type": "code",
      "metadata": {
        "id": "3OQlDPt4x1WS"
      },
      "source": [
        "import skimage.io as io\n",
        "import matplotlib.pyplot as plt\n",
        "\n",
        "\n",
        "# quick and dirty plot, which is the biggest flaw here? :D \n",
        "# how can we write a quick fix to the path? \n",
        "def plot_neighborhood(neighbors_row):\n",
        "  f, axarr = plt.subplots(3,3, figsize=(15,15))\n",
        "\n",
        "  axarr[0][0].imshow(io.imread(path /'pets_images/oxford-iiit-pet/images' / neighbors_row[0][0]))\n",
        "  axarr[0][1].imshow(io.imread(path /'pets_images/oxford-iiit-pet/images' / neighbors_row[1][0]))\n",
        "  axarr[0][2].imshow(io.imread(path /'pets_images/oxford-iiit-pet/images' / neighbors_row[2][0]))\n",
        "  axarr[1][0].imshow(io.imread(path /'pets_images/oxford-iiit-pet/images' / neighbors_row[3][0]))\n",
        "  axarr[1][1].imshow(io.imread(path /'pets_images/oxford-iiit-pet/images' / neighbors_row[4][0]))\n",
        "  axarr[1][2].imshow(io.imread(path /'pets_images/oxford-iiit-pet/images' / neighbors_row[5][0]))\n",
        "  axarr[2][0].imshow(io.imread(path /'pets_images/oxford-iiit-pet/images' / neighbors_row[6][0]))\n",
        "  axarr[2][1].imshow(io.imread(path /'pets_images/oxford-iiit-pet/images' / neighbors_row[7][0]))\n",
        "  axarr[2][2].imshow(io.imread(path /'pets_images/oxford-iiit-pet/images' / neighbors_row[8][0]))\n",
        "\n",
        "  axarr[0, 0].set_title(neighbors_row[0][1])\n",
        "  axarr[0, 1].set_title(neighbors_row[1][1])\n",
        "  axarr[0, 2].set_title(neighbors_row[2][1])\n",
        "  axarr[1, 0].set_title(neighbors_row[3][1])\n",
        "  axarr[1, 1].set_title(neighbors_row[4][1])\n",
        "  axarr[1, 2].set_title(neighbors_row[5][1])\n",
        "  axarr[2, 0].set_title(neighbors_row[6][1])\n",
        "  axarr[2, 1].set_title(neighbors_row[7][1])\n",
        "  axarr[2, 2].set_title(neighbors_row[8][1])\n",
        "  \n",
        "  for i in range(3):\n",
        "        for j in range(3):\n",
        "            axarr[i, j].axis('off')\n",
        "\n",
        "plot_neighborhood(neighborhoods_dict['shiba_inu_92.jpg'])"
      ],
      "execution_count": null,
      "outputs": []
    },
    {
      "cell_type": "markdown",
      "metadata": {
        "id": "A4ByBjjOsbG9"
      },
      "source": [
        "### Selecting 37 representative images (medoids) "
      ]
    },
    {
      "cell_type": "code",
      "metadata": {
        "id": "AiMeppxAsnFn"
      },
      "source": [
        "from sklearn_extra.cluster import KMedoids\n",
        "\n",
        "\n",
        "# We want to create the model with 37 clusters,\n",
        "# dividing vectors using the cosine similarity metric\n",
        "# and using the k-medoids++ initialization algorithm\n",
        "# we want to define a random_state to make our result reproducible \n",
        "kmedoids = KMedoids(n_clusters=37, random_state=0, \n",
        "                        init='k-medoids++', metric='cosine')\n",
        "    \n",
        "kmedoids.fit(X)     "
      ],
      "execution_count": null,
      "outputs": []
    },
    {
      "cell_type": "code",
      "metadata": {
        "id": "Nrq1ZGNRxvIk"
      },
      "source": [
        "#assignment of images to different clusters\n",
        "image_clusters = dict(zip(images, kmedoids.labels_))\n",
        "image_clusters"
      ],
      "execution_count": null,
      "outputs": []
    },
    {
      "cell_type": "code",
      "metadata": {
        "id": "HgIeAUieAlES"
      },
      "source": [
        "clusters, counts = np.unique(kmedoids.labels_, return_counts=True)\n",
        "\n",
        "cluster_counts = sorted(list(zip(clusters, counts)), key=lambda x:x[-1], reverse=True)\n",
        "cluster_counts = dict(cluster_counts)\n",
        "cluster_counts"
      ],
      "execution_count": null,
      "outputs": []
    },
    {
      "cell_type": "code",
      "metadata": {
        "id": "cm9LrMkAAqme"
      },
      "source": [
        "representative_images = []\n",
        "representative_embeddings = []\n",
        "cluster_number_repr_images = []\n",
        "for image, embedding in image_embeddings_dict.items():\n",
        "    \n",
        "    for cluster_number, repr_embedding in enumerate(kmedoids.cluster_centers_):\n",
        "        comparison = np.equal(repr_embedding, embedding)\n",
        "        if comparison.all():\n",
        "            representative_images.append(image)\n",
        "            representative_embeddings.append(embedding)\n",
        "            cluster_number_repr_images.append(cluster_number)"
      ],
      "execution_count": null,
      "outputs": []
    },
    {
      "cell_type": "code",
      "metadata": {
        "id": "VomfwBFoA32u"
      },
      "source": [
        "representative_images"
      ],
      "execution_count": null,
      "outputs": []
    },
    {
      "cell_type": "code",
      "metadata": {
        "id": "9FuDU0d7BW-v"
      },
      "source": [
        "f, axarr = plt.subplots(1, 10, figsize=(15,15))\n",
        "\n",
        "for i in range(10):\n",
        "  axarr[i].imshow(io.imread(path /'pets_images/oxford-iiit-pet/images' / representative_images[i]))  \n",
        "  axarr[i].axis('off')"
      ],
      "execution_count": null,
      "outputs": []
    },
    {
      "cell_type": "code",
      "metadata": {
        "id": "BnbmMUMgEJ3Z"
      },
      "source": [
        "f, axarr = plt.subplots(1, 10, figsize=(15,15))\n",
        "\n",
        "for i in range(10):\n",
        "  axarr[i].imshow(io.imread(path /'pets_images/oxford-iiit-pet/images' / representative_images[10+i]))  \n",
        "  axarr[i].axis('off')"
      ],
      "execution_count": null,
      "outputs": []
    },
    {
      "cell_type": "code",
      "metadata": {
        "id": "XIBiltx3EXDv"
      },
      "source": [
        "f, axarr = plt.subplots(1, 10, figsize=(15,15))\n",
        "\n",
        "for i in range(10):\n",
        "  axarr[i].imshow(io.imread(path /'pets_images/oxford-iiit-pet/images' / representative_images[20+i]))  \n",
        "  axarr[i].axis('off')"
      ],
      "execution_count": null,
      "outputs": []
    },
    {
      "cell_type": "markdown",
      "metadata": {
        "id": "l5J7iY_DmG5F"
      },
      "source": [
        "# Choosing an 'optimal' number of clusters based on the elbow method \n",
        "\n",
        "We want to see find where the inflexion point happens. \n",
        "\n",
        "* Distortion: It is calculated as the average of the squared distances from the cluster centers of the respective clusters. \n",
        "\n",
        "* Inertia: It is the sum of squared distances of samples to their closest cluster center.\n",
        "\n",
        "https://www.geeksforgeeks.org/elbow-method-for-optimal-value-of-k-in-kmeans/"
      ]
    },
    {
      "cell_type": "code",
      "metadata": {
        "id": "bEzx8-hyifXs"
      },
      "source": [
        "# we choose a smaller dataset for this experiment \n",
        "# (we can go out of RAM in Colab quite easily)\n",
        "image_embeddings_dict = pets_embeddings\n",
        "\n",
        "# separate images and embeddings \n",
        "embeddings = []\n",
        "images = []\n",
        "for image, embedding in image_embeddings_dict.items():\n",
        "    embeddings.append(embedding)\n",
        "    images.append(image)"
      ],
      "execution_count": null,
      "outputs": []
    },
    {
      "cell_type": "code",
      "metadata": {
        "id": "lVVpuAP3i0oY"
      },
      "source": [
        "import numpy as np\n",
        "X = np.array(embeddings)\n",
        "X.shape"
      ],
      "execution_count": null,
      "outputs": []
    },
    {
      "cell_type": "code",
      "metadata": {
        "id": "74XFjnIOlyDV"
      },
      "source": [
        "image_embeddings_dict = pets_embeddings"
      ],
      "execution_count": null,
      "outputs": []
    },
    {
      "cell_type": "code",
      "metadata": {
        "id": "sBcL6vlUi3kA"
      },
      "source": [
        "from sklearn.cluster import KMeans \n",
        "from sklearn_extra.cluster import KMedoids\n",
        "from sklearn import metrics \n",
        "from scipy.spatial.distance import cdist \n",
        "import numpy as np \n",
        "import matplotlib.pyplot as plt \n",
        "\n",
        "\n",
        "distortions = [] \n",
        "inertias = [] \n",
        "mapping1 = {} \n",
        "mapping2 = {} \n",
        "K = range(40, 60, 2) \n",
        "  \n",
        "for k in K: \n",
        "    #Building and fitting the model \n",
        "    kmedoidModel = KMedoids(n_clusters=k, random_state=0, init='k-medoids++', \n",
        "                            metric='cosine')\n",
        "    kmedoidModel.fit(X)     \n",
        "      \n",
        "    distortions.append(sum(np.min(cdist(X, kmedoidModel.cluster_centers_, \n",
        "                      'cosine'),axis=1)) / X.shape[0]) \n",
        "    inertias.append(kmedoidModel.inertia_) \n",
        "  \n",
        "    mapping1[k] = sum(np.min(cdist(X, kmedoidModel.cluster_centers_, \n",
        "                 'cosine'),axis=1)) / X.shape[0] \n",
        "    mapping2[k] = kmedoidModel.inertia_ "
      ],
      "execution_count": null,
      "outputs": []
    },
    {
      "cell_type": "code",
      "metadata": {
        "id": "UZaJUyFkkQ4X"
      },
      "source": [
        "plt.plot(K, distortions, 'bx-') \n",
        "plt.xlabel('Values of K') \n",
        "plt.ylabel('Distortion') \n",
        "plt.title('The Elbow Method using Distortion') \n",
        "plt.show() "
      ],
      "execution_count": null,
      "outputs": []
    },
    {
      "cell_type": "code",
      "metadata": {
        "id": "AjMCIaqFlOOU"
      },
      "source": [
        "plt.plot(K, inertias, 'bx-') \n",
        "plt.xlabel('Values of K') \n",
        "plt.ylabel('Inertia') \n",
        "plt.title('The Elbow Method using Inertia') \n",
        "plt.show() "
      ],
      "execution_count": null,
      "outputs": []
    }
  ]
}