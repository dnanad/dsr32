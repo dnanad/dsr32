{
  "cells": [
    {
      "cell_type": "markdown",
      "metadata": {
        "id": "cDvU9Lw1BJhh"
      },
      "source": [
        "# Menu for today\n",
        "\n",
        "- Why debugging is important?\n",
        "- Implementing a bug free model.\n",
        "- Introduction to the lower level Tensorflow2 and Tensorboard.\n",
        "- Most common bugs I.\n",
        "- Lunch.\n",
        "- Most common bugs II.\n",
        "- Introduction to PyCharm and its debugger. \n",
        "- Small debugging project in PyCharm.\n",
        "- Integrated Gradients (if we have time)"
      ]
    },
    {
      "cell_type": "markdown",
      "metadata": {
        "id": "4gf66G5_BJhm"
      },
      "source": [
        "\n",
        "# Why DL debugging is important and hard?\n",
        " <img src = \"https://drive.google.com/uc?id=1IMI2Fec8IReUBZAbaKRE-m_uvh2kVtA3\">\n",
        " \n",
        "#### Common sentiment among practitioners:\n",
        "\n",
        "   - 80% - 90% of time debugging and tuning.\n",
        "   - 20% - 10% deriving math and implementing new ideas."
      ]
    },
    {
      "cell_type": "markdown",
      "metadata": {
        "id": "zXsNMlExBJhn"
      },
      "source": [
        "## Poor model performance\n",
        "- Often one can estimate how a model should perform, using either previous baselines or simply common sense. For example, on MNIST a model should have accuracy more than 0.1. Why?\n",
        "\n",
        "- Contributions to poor model performance:\n",
        "<img src = \"https://drive.google.com/uc?id=1Lpy5xMbEG6giBmu7c_qBjrOlfWuktjfO\" width=\"600\" height=\"400\" align=\"center\">\n"
      ]
    },
    {
      "cell_type": "markdown",
      "metadata": {
        "id": "2S0xt0eCBJho"
      },
      "source": [
        "## Implementation bugs\n",
        "\n",
        "Often deep learning bugs are hard to see. A model can still run the training loop, but won't learn anything.\n",
        "\n",
        "My real life example:\n",
        "\n",
        "<img src = \"https://drive.google.com/uc?id=1qGJXm62hkvPb6kAnMphwq1xtukWeff6e\" width=\"800\" height=\"600\" align=\"center\"/>"
      ]
    },
    {
      "cell_type": "markdown",
      "metadata": {
        "id": "amb8hrjWBJho"
      },
      "source": [
        "### Tiny exercise\n",
        "\n",
        "Where is the bug?\n",
        "\n",
        "<img src = \"https://drive.google.com/uc?id=1EuOHa79G9QrhXU7TQRDACeIaKzKxMqID\" align=\"center\"/>"
      ]
    },
    {
      "cell_type": "markdown",
      "metadata": {
        "id": "eC01EkTuBJhp"
      },
      "source": [
        "## Hyperparameter choices\n",
        "\n",
        "### Learning rate\n",
        "\n",
        "- Deep learning models are highly sensitive to the choice of a learning rate.\n",
        "\n",
        "<img src = \"https://drive.google.com/uc?id=1x0ye42Ym5wPcHX5CZxam6gFoxTXYUzTB\" width=\"500\" height=\"400\" align=\"center\"/>"
      ]
    },
    {
      "cell_type": "markdown",
      "metadata": {
        "id": "EwMD3pm2BJhq"
      },
      "source": [
        "Often when learning rate is set improperly, a network is not converged or the weight regularization is too low for convolutional nets the weights of the first layer can be indicative of those symptoms:\n",
        "\n",
        "<img src = \"https://drive.google.com/uc?id=1OwgaJWSHLcCwzuvWxp882WGR9eeYCb0n\" width=\"600\" height=\"300\" align=\"center\"/>"
      ]
    },
    {
      "cell_type": "markdown",
      "metadata": {
        "id": "GGP4t-laBJhr"
      },
      "source": [
        "**Left:** Noisy features indicate that the network is unconverged, improperly set learning rate, very low weight regularization penalty. **Right:** Nice, smooth, clean and diverse features are a good indication that the training is proceeding well. "
      ]
    },
    {
      "cell_type": "markdown",
      "metadata": {
        "id": "_6jbG1qMBJhs"
      },
      "source": [
        "### Initialization\n",
        "\n",
        "- Sometimes it matters a lot how one initializes the weights.\n",
        "\n",
        "<img src = \"https://drive.google.com/uc?id=1-52KbBmPQFv3rIYb7u3jRIj0BX4Urax6\" width=\"500\" height=\"300\" align=\"center\"/>"
      ]
    },
    {
      "cell_type": "markdown",
      "metadata": {
        "id": "zAeIW9rGBJhs"
      },
      "source": [
        "## Data/Model fit\n",
        "\n",
        "- Training set data is not suitable for the model of interest.\n",
        "\n",
        "### Imagenet dataset\n",
        "\n",
        "<img src = \"https://drive.google.com/uc?id=1zcYyRKtX6qgrBaMft5eLwGWn03j5s0E6\" width=\"500\" height=\"400\" align=\"center\"/>\n",
        "\n",
        "### Plant disease detection\n",
        "\n",
        "<img src = \"https://drive.google.com/uc?id=1wE8H0W-8YLEAfIqDiwIDAG9LlrwmISaT\" width=\"500\" height=\"400\" align=\"left\"/>\n"
      ]
    },
    {
      "cell_type": "markdown",
      "metadata": {
        "id": "k3QW3_0UBJht"
      },
      "source": [
        "## Dataset construction\n",
        "\n",
        "- It's difficult to construct a good dataset.\n",
        "\n",
        "<img src = \"https://drive.google.com/uc?id=1A4HMFDSoPMhAcIleSki5JaFUprmRDagj\" width=\"700\" height=\"400\" align=\"left\"/>"
      ]
    },
    {
      "cell_type": "markdown",
      "metadata": {
        "id": "NCK2xvWrBJht"
      },
      "source": [
        "### Common issues:\n",
        "\n",
        "- Not enough data.\n",
        "- Class imbalance.\n",
        "- Noisy labels.\n",
        "- Train/Test from different distributions."
      ]
    },
    {
      "cell_type": "markdown",
      "metadata": {
        "id": "Gym4aGuDBJht"
      },
      "source": [
        "# Summary\n",
        "\n",
        "- Hard to tell if there is a bug.\n",
        "- Many possible sources for the same degradation in performance.\n",
        "- Results can be highly sensitive to small changes in hyperparameters or dataset construction."
      ]
    }
  ],
  "metadata": {
    "kernelspec": {
      "display_name": "Python 3",
      "language": "python",
      "name": "python3"
    },
    "language_info": {
      "codemirror_mode": {
        "name": "ipython",
        "version": 3
      },
      "file_extension": ".py",
      "mimetype": "text/x-python",
      "name": "python",
      "nbconvert_exporter": "python",
      "pygments_lexer": "ipython3",
      "version": "3.6.9"
    },
    "colab": {
      "provenance": [],
      "collapsed_sections": []
    }
  },
  "nbformat": 4,
  "nbformat_minor": 0
}