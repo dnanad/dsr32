{
 "cells": [
  {
   "cell_type": "markdown",
   "metadata": {},
   "source": [
    "# DSR - Practical 4 - Neural networks\n",
    "\n",
    "\n",
    "### Here we are going to implement a Multy Layered Neural Netwrok.\n",
    "### We will use and extreme case of SGD where the batch size is 1 (i.e updating weights after every sample)"
   ]
  },
  {
   "cell_type": "code",
   "execution_count": 2,
   "metadata": {},
   "outputs": [],
   "source": [
    "import numpy as np\n",
    "import matplotlib.pyplot as plt\n",
    "import random"
   ]
  },
  {
   "cell_type": "markdown",
   "metadata": {},
   "source": [
    "### multi layer perceptron class:\n",
    "\n",
    "loss function:\n",
    "$$ loss = \\frac{1}{N}\\sum(pred-true)^{2}$$\n"
   ]
  },
  {
   "cell_type": "code",
   "execution_count": 3,
   "metadata": {},
   "outputs": [],
   "source": [
    "class NeuralNetwork:\n",
    "    def __init__(self, layers, alpha=0.1):\n",
    "    # initialize the list of weights matrices, then store the\n",
    "    # network architecture and learning rate\n",
    "        random.seed(42)\n",
    "        self.W = []\n",
    "        self.layers = layers\n",
    "        self.alpha = alpha\n",
    "        # start looping from the index of the first layer but\n",
    "        # stop before we reach the last two layers\n",
    "        for i in np.arange(0, len(layers) - 2):\n",
    "            # randomly initialize a weight matrix connecting the\n",
    "            # number of nodes in each respective layer together,\n",
    "            # adding an extra node for the bias\n",
    "            w = np.random.randn(layers[i] + 1, layers[i + 1] + 1)\n",
    "            self.W.append(w / np.sqrt(layers[i]))\n",
    "        # in this example we let the last two layers   \n",
    "        # connections have no bias\n",
    "        w = np.random.randn(layers[-2] + 1, layers[-1])\n",
    "        self.W.append(w / np.sqrt(layers[-2]))\n",
    "    \n",
    "    def __repr__(self):\n",
    "        # construct and return a string that represents the network\n",
    "        # architecture\n",
    "        return \"NN architecture: {}\".format(\n",
    "        \"-\".join(str(l) for l in self.layers))\n",
    "    \n",
    "    def sigmoid(self, x):\n",
    "        # compute and return the sigmoid activation value for a\n",
    "        # given input value\n",
    "        sigmoid = 1/(1 + np.exp(-x))# ENTER YOUR CODE HERE\n",
    "        return sigmoid\n",
    "    def sigmoid_deriv(self, s):\n",
    "        # compute the derivative of the sigmoid function ASSUMING\n",
    "        # that `s` has already been passed through the `sigmoid`\n",
    "        # function\n",
    "        # ENTER YOUR CODE HERE\n",
    "        d_sigmoid = s * (1-s)\n",
    "        return d_sigmoid\n",
    "    \n",
    "    def fit(self, X, y, epochs=1000, displayUpdate=100):\n",
    "        # insert a column of 1's as the last entry in the feature\n",
    "        # matrix -- this little trick allows us to treat the bias\n",
    "        # as a trainable parameter within the weight matrix\n",
    "        \n",
    "        X = np.c_[X, np.ones((X.shape[0]))]\n",
    "        losses = []\n",
    "        # loop over the desired number of epochs\n",
    "        for epoch in np.arange(0, epochs):\n",
    "            # loop over each individual data point and train\n",
    "            # our network on it\n",
    "            for (x, target) in zip(X, y):\n",
    "                self.fit_partial(x, target)\n",
    "                # check to see if we should display a training update\n",
    "            if epoch == 0 or (epoch + 1) % displayUpdate == 0:\n",
    "                loss = self.calculate_loss(X, y)\n",
    "                print(\"[Training: ] epoch=\", epoch+1, \", loss=\",loss)\n",
    "                losses.append(loss)  \n",
    "        return losses\n",
    "                    \n",
    "    def fit_partial(self, x, y):\n",
    "        # construct our list of output activations for each layer\n",
    "        # as our data point flows through the network; the first\n",
    "        # activation is a special case -- it's just the input\n",
    "        # feature vector itself\n",
    "        A = [np.atleast_2d(x)]\n",
    "        # FEEDFORWARD:\n",
    "        # loop over the layers in the network\n",
    "        for layer in np.arange(0, len(self.W)):\n",
    "            # feedforward the activation at the current layer by\n",
    "            # taking the dot product between the activation and\n",
    "            # the weight matrix -- this is called the \"net input\"\n",
    "            # to the current layer\n",
    "            net = A[layer].dot(self.W[layer])\n",
    "            # computing the \"net output\" is simply applying our\n",
    "            # nonlinear activation function to the net input\n",
    "            out = self.sigmoid(net)# ENTER YOUR CODE HERE\n",
    "            # once we have the net output, add it to our list of\n",
    "            # activations\n",
    "            A.append(out)\n",
    "\n",
    "        # BACKPROPAGATION\n",
    "        # the first phase of backpropagation is to compute the\n",
    "        # difference between our *prediction* (the final output\n",
    "        # activation in the activations list) and the true target\n",
    "        # value\n",
    "        dloss = A[-1] - y\n",
    "\n",
    "        # from here, we need to apply the chain rule and build our\n",
    "        # list of deltas `D`; the first entry in the deltas is\n",
    "        # simply the error of the output layer times the derivative\n",
    "        # of our activation function for the output value\n",
    "        D = [dloss * self.sigmoid_deriv(A[-1])]\n",
    "        # once you understand the chain rule it becomes super easy\n",
    "        # to implement with a `for` loop -- simply loop over the\n",
    "        # layers in reverse order (ignoring the last two since we\n",
    "        # already have taken them into account)\n",
    "        for layer in np.arange(len(A) - 2, 0, -1):\n",
    "            # the delta for the current layer is equal to the delta\n",
    "            # of the *previous layer* dotted with the weight matrix\n",
    "            # of the current layer, followed by multiplying the delta\n",
    "            # by the derivative of the nonlinear activation function\n",
    "            # for the activations of the current layer\n",
    "            delta = D[-1].dot(self.W[layer].T)\n",
    "            delta = delta * self.sigmoid_deriv(A[layer])\n",
    "            D.append(delta)\n",
    "        # since we looped over our layers in reverse order we need to\n",
    "        # reverse the deltas\n",
    "        D = D[::-1]\n",
    "        # WEIGHT UPDATE PHASE\n",
    "        # loop over the layers\n",
    "        for layer in np.arange(0, len(self.W)):\n",
    "        # update our weights by taking the dot product of the layer\n",
    "        # activations with their respective deltas, then multiplying\n",
    "        # this value by some small learning rate and adding to our\n",
    "        # weight matrix -- this is where the actual \"learning\" takes\n",
    "        # place\n",
    "            self.W[layer] += -self.alpha * A[layer].T.dot(D[layer])\n",
    "            \n",
    "    def predict(self, X,addBias=False):\n",
    "        # initialize the output prediction as the input features -- this\n",
    "        # value will be (forward) propagated through the network to\n",
    "        # obtain the final prediction\n",
    "        p = np.atleast_2d(X)\n",
    "        # insert a column of 1's as the last entry in the feature\n",
    "        # matrix (bias)\n",
    "        if addBias:\n",
    "            p = np.c_[p, np.ones((p.shape[0]))]\n",
    "        # loop over our layers in the network\n",
    "        for layer in np.arange(0, len(self.W)):\n",
    "            # computing the output prediction is simply\n",
    "            # the forward pass\n",
    "            \n",
    "            p = self.sigmoid(np.dot(p, self.W[layer]))\n",
    "        return p\n",
    "    \n",
    "    def calculate_loss(self, X, targets):\n",
    "        # make predictions for the input data points then compute\n",
    "        # the loss\n",
    "        targets = np.atleast_2d(targets)\n",
    "        predictions = self.predict(X)\n",
    "        loss = (1/len(X)) * np.sum((predictions - targets) ** 2)\n",
    "        return loss"
   ]
  },
  {
   "cell_type": "code",
   "execution_count": 4,
   "metadata": {},
   "outputs": [
    {
     "name": "stdout",
     "output_type": "stream",
     "text": [
      "<bound method NeuralNetwork.__repr__ of NN architecture: 2-2-1>\n",
      "[Training: ] epoch= 1 , loss= 0.2608515427715516\n",
      "[Training: ] epoch= 100 , loss= 0.24785373210930456\n",
      "[Training: ] epoch= 200 , loss= 0.2450598018503687\n",
      "[Training: ] epoch= 300 , loss= 0.24006219543085672\n",
      "[Training: ] epoch= 400 , loss= 0.23071564655300952\n",
      "[Training: ] epoch= 500 , loss= 0.21482013118400645\n",
      "[Training: ] epoch= 600 , loss= 0.19320541059900131\n",
      "[Training: ] epoch= 700 , loss= 0.1675320690707765\n",
      "[Training: ] epoch= 800 , loss= 0.13560201621372578\n",
      "[Training: ] epoch= 900 , loss= 0.0982313482333256\n",
      "[Training: ] epoch= 1000 , loss= 0.06531955992124315\n"
     ]
    }
   ],
   "source": [
    "# construct the XOR dataset\n",
    "X = np.array([[0, 0], [0, 1], [1, 0], [1, 1]])\n",
    "y = np.array([[0], [1], [1], [0]])\n",
    "\n",
    "# define our 2-2-1 neural network and train it\n",
    "nn = \n",
    "print(nn.__repr__)\n",
    "# fit the Neural Network\n",
    "losses ="
   ]
  },
  {
   "cell_type": "code",
   "execution_count": 5,
   "metadata": {},
   "outputs": [
    {
     "name": "stdout",
     "output_type": "stream",
     "text": [
      "[[0.17780235]]\n",
      "data= [0 0] , ground-truth= [0] , pred=, [[0.17780235]]  step= 0\n",
      "[[0.75046749]]\n",
      "data= [0 1] , ground-truth= [1] , pred=, [[0.75046749]]  step= 1\n",
      "[[0.76343279]]\n",
      "data= [1 0] , ground-truth= [1] , pred=, [[0.76343279]]  step= 1\n",
      "[[0.33381738]]\n",
      "data= [1 1] , ground-truth= [0] , pred=, [[0.33381738]]  step= 0\n"
     ]
    }
   ],
   "source": [
    "# now that our network is trained, loop over the XOR data points\n",
    "for (x, target) in zip(X, y):\n",
    "    # make a prediction on the data point and display the result\n",
    "    # to our console\n",
    "    pred = nn.predict(x, addBias=True)\n",
    "    print(pred)\n",
    "    step = 1 if pred > 0.5 else 0\n",
    "    print(\"data=\",x,\", ground-truth=\",target,\", pred=,\",pred,\" step=\",step)"
   ]
  },
  {
   "cell_type": "code",
   "execution_count": 6,
   "metadata": {},
   "outputs": [
    {
     "data": {
      "text/plain": [
       "[<matplotlib.lines.Line2D at 0x123bd97f0>]"
      ]
     },
     "execution_count": 6,
     "metadata": {},
     "output_type": "execute_result"
    },
    {
     "data": {
      "image/png": "[encoded data removed]",
      "text/plain": [
       "<Figure size 432x288 with 1 Axes>"
      ]
     },
     "metadata": {
      "needs_background": "light"
     },
     "output_type": "display_data"
    }
   ],
   "source": [
    "# plot the losses as function of training\n",
    "plt.plot(losses)"
   ]
  },
  {
   "cell_type": "markdown",
   "metadata": {},
   "source": [
    " ### Repeat the training with a NN with [2,1] architechture"
   ]
  },
  {
   "cell_type": "code",
   "execution_count": 23,
   "metadata": {},
   "outputs": [
    {
     "name": "stdout",
     "output_type": "stream",
     "text": [
      "<bound method NeuralNetwork.__repr__ of NN architecture: 2-1>\n",
      "[Training: ] epoch= 1 , loss= 0.5170318433970126\n",
      "[Training: ] epoch= 100 , loss= 0.5002389263753596\n",
      "[Training: ] epoch= 200 , loss= 0.5001532601783355\n",
      "[Training: ] epoch= 300 , loss= 0.500227192672055\n",
      "[Training: ] epoch= 400 , loss= 0.5002601188027591\n",
      "[Training: ] epoch= 500 , loss= 0.5002714888244832\n",
      "[Training: ] epoch= 600 , loss= 0.5002751879277106\n",
      "[Training: ] epoch= 700 , loss= 0.5002763709059848\n",
      "[Training: ] epoch= 800 , loss= 0.5002767472715666\n",
      "[Training: ] epoch= 900 , loss= 0.5002768668261943\n",
      "[Training: ] epoch= 1000 , loss= 0.500276904786037\n"
     ]
    }
   ],
   "source": [
    "### ENTER YOUR CODE HERE\n",
    "nn = \n",
    "print(nn.__repr__)\n",
    "# fit the Neural Network using 100 epochs\n",
    "### ENTER YOUR CODE HERE\n",
    "losses="
   ]
  },
  {
   "cell_type": "code",
   "execution_count": 24,
   "metadata": {},
   "outputs": [
    {
     "name": "stdout",
     "output_type": "stream",
     "text": [
      "data= [0 0] , ground-truth= [0] , pred=, [[0.50954855]]  step= 1\n",
      "data= [0 1] , ground-truth= [1] , pred=, [[0.49999985]]  step= 0\n",
      "data= [1 0] , ground-truth= [1] , pred=, [[0.49045044]]  step= 0\n",
      "data= [1 1] , ground-truth= [0] , pred=, [[0.48090871]]  step= 0\n"
     ]
    }
   ],
   "source": [
    "# now that our network is trained, loop over the XOR data points\n",
    "for (x, target) in zip(X, y):\n",
    "    # make a prediction on the data point and display the result\n",
    "    # to our console\n",
    "    pred = \n",
    "    step = 1 if pred > 0.5 else 0\n",
    "    print(\"data=\",x,\", ground-truth=\",target,\", pred=,\",pred,\" step=\",step)"
   ]
  },
  {
   "cell_type": "markdown",
   "metadata": {},
   "source": [
    "Notice that this network consisting of 1 neuron with two inputs is not enough for the XOR problem"
   ]
  },
  {
   "cell_type": "markdown",
   "metadata": {},
   "source": [
    "### Classification Problem"
   ]
  },
  {
   "cell_type": "code",
   "execution_count": 14,
   "metadata": {},
   "outputs": [],
   "source": [
    "from sklearn.preprocessing import LabelBinarizer\n",
    "from sklearn.model_selection import train_test_split\n",
    "from sklearn.metrics import classification_report\n",
    "from sklearn import datasets"
   ]
  },
  {
   "cell_type": "code",
   "execution_count": 15,
   "metadata": {},
   "outputs": [
    {
     "name": "stdout",
     "output_type": "stream",
     "text": [
      "loading MNIST (sample) dataset...\n",
      "samples: 1797, dim: 64\n"
     ]
    }
   ],
   "source": [
    "# load the MNIST dataset and apply min/max scaling to scale the\n",
    "# pixel intensity values to the range [0, 1] (each image is\n",
    "# represented by an 8 x 8 = 64-dim feature vector)\n",
    "print(\"loading MNIST (sample) dataset...\")\n",
    "digits = datasets.load_digits()\n",
    "data = digits.data.astype(\"float\")\n",
    "data = (data - data.min()) / (data.max() - data.min())\n",
    "print(\"samples: {}, dim: {}\".format(data.shape[0],\n",
    "data.shape[1]))\n",
    "# construct the training and testing splits\n",
    "(trainX, testX, trainY, testY) = train_test_split(data,\n",
    "digits.target, test_size=0.25)\n",
    "# convert the labels from integers to vectors: 1 = [0,1,0,0,0,0,0,0,0,0]\n",
    "lb=LabelBinarizer()\n",
    "trainY = LabelBinarizer().fit_transform(trainY)\n",
    "testY = lb.fit_transform(testY)"
   ]
  },
  {
   "cell_type": "code",
   "execution_count": 17,
   "metadata": {},
   "outputs": [
    {
     "data": {
      "text/plain": [
       "array([0.    , 0.1875, 0.9375, 0.9375, 0.125 , 0.    , 0.    , 0.    ,\n",
       "       0.    , 0.4375, 1.    , 1.    , 0.375 , 0.    , 0.    , 0.    ,\n",
       "       0.    , 0.0625, 0.5625, 1.    , 0.375 , 0.    , 0.    , 0.    ,\n",
       "       0.    , 0.    , 0.375 , 1.    , 0.0625, 0.    , 0.    , 0.    ,\n",
       "       0.    , 0.    , 0.625 , 0.75  , 0.    , 0.    , 0.    , 0.    ,\n",
       "       0.    , 0.1875, 0.9375, 0.5   , 0.    , 0.    , 0.    , 0.    ,\n",
       "       0.    , 0.5   , 1.    , 0.8125, 0.9375, 0.9375, 0.3125, 0.    ,\n",
       "       0.    , 0.25  , 1.    , 1.    , 1.    , 0.8125, 0.1875, 0.    ])"
      ]
     },
     "execution_count": 17,
     "metadata": {},
     "output_type": "execute_result"
    }
   ],
   "source": [
    "trainX[3]"
   ]
  },
  {
   "cell_type": "code",
   "execution_count": 18,
   "metadata": {},
   "outputs": [
    {
     "data": {
      "image/png": "[encoded data removed]",
      "text/plain": [
       "<Figure size 432x288 with 4 Axes>"
      ]
     },
     "metadata": {
      "needs_background": "light"
     },
     "output_type": "display_data"
    }
   ],
   "source": [
    "for i in range(1,5):\n",
    "    plt.subplot(1,4,i)\n",
    "    plt.imshow(np.array(data[i]).reshape(8,8),cmap='gray')"
   ]
  },
  {
   "cell_type": "code",
   "execution_count": 19,
   "metadata": {},
   "outputs": [
    {
     "name": "stdout",
     "output_type": "stream",
     "text": [
      "training network...\n",
      "NN architecture: 64-32-16-10\n",
      "[Training: ] epoch= 1 , loss= 0.8975804452443965\n",
      "[Training: ] epoch= 100 , loss= 0.010255495788534215\n",
      "[Training: ] epoch= 200 , loss= 0.0027068397863395516\n",
      "[Training: ] epoch= 300 , loss= 0.001690839260565079\n",
      "[Training: ] epoch= 400 , loss= 0.001348362901188079\n",
      "[Training: ] epoch= 500 , loss= 0.0011807288912788017\n",
      "[Training: ] epoch= 600 , loss= 0.0010825355430284466\n",
      "[Training: ] epoch= 700 , loss= 0.0010185738860134276\n",
      "[Training: ] epoch= 800 , loss= 0.0009738572093108865\n",
      "[Training: ] epoch= 900 , loss= 0.0009409718131629673\n",
      "[Training: ] epoch= 1000 , loss= 0.0009158493320661086\n",
      "[Training: ] epoch= 1100 , loss= 0.0008960795923109503\n",
      "[Training: ] epoch= 1200 , loss= 0.0008801479344584605\n",
      "[Training: ] epoch= 1300 , loss= 0.0008670566925164793\n",
      "[Training: ] epoch= 1400 , loss= 0.0008561230846525708\n",
      "[Training: ] epoch= 1500 , loss= 0.0008468647347958816\n",
      "evaluating network...\n"
     ]
    },
    {
     "ename": "ValueError",
     "evalue": "shapes (450,64) and (65,33) not aligned: 64 (dim 1) != 65 (dim 0)",
     "output_type": "error",
     "traceback": [
      "\u001b[0;31m---------------------------------------------------------------------------\u001b[0m",
      "\u001b[0;31mValueError\u001b[0m                                Traceback (most recent call last)",
      "\u001b[0;32m<ipython-input-19-1c0cca3178d6>\u001b[0m in \u001b[0;36m<module>\u001b[0;34m\u001b[0m\n\u001b[1;32m     12\u001b[0m \u001b[0;31m# test your network on the test data set (remember to set addBias to True)\u001b[0m\u001b[0;34m\u001b[0m\u001b[0;34m\u001b[0m\u001b[0;34m\u001b[0m\u001b[0m\n\u001b[1;32m     13\u001b[0m \u001b[0;31m# ENTER YOUR CODE HERE\u001b[0m\u001b[0;34m\u001b[0m\u001b[0;34m\u001b[0m\u001b[0;34m\u001b[0m\u001b[0m\n\u001b[0;32m---> 14\u001b[0;31m \u001b[0mpredictions\u001b[0m \u001b[0;34m=\u001b[0m \u001b[0mnn\u001b[0m\u001b[0;34m.\u001b[0m\u001b[0mpredict\u001b[0m\u001b[0;34m(\u001b[0m\u001b[0mtestX\u001b[0m\u001b[0;34m)\u001b[0m\u001b[0;34m\u001b[0m\u001b[0;34m\u001b[0m\u001b[0m\n\u001b[0m\u001b[1;32m     15\u001b[0m \u001b[0;31m# there is a value outputed on each of the output nodes. we choose the one with the highest\u001b[0m\u001b[0;34m\u001b[0m\u001b[0;34m\u001b[0m\u001b[0;34m\u001b[0m\u001b[0m\n\u001b[1;32m     16\u001b[0m \u001b[0;31m# value to represent the predicted label\u001b[0m\u001b[0;34m\u001b[0m\u001b[0;34m\u001b[0m\u001b[0;34m\u001b[0m\u001b[0m\n",
      "\u001b[0;32m<ipython-input-6-b7ddb93c1bcc>\u001b[0m in \u001b[0;36mpredict\u001b[0;34m(self, X, addBias)\u001b[0m\n\u001b[1;32m    131\u001b[0m             \u001b[0;31m# the forward pass\u001b[0m\u001b[0;34m\u001b[0m\u001b[0;34m\u001b[0m\u001b[0;34m\u001b[0m\u001b[0m\n\u001b[1;32m    132\u001b[0m \u001b[0;34m\u001b[0m\u001b[0m\n\u001b[0;32m--> 133\u001b[0;31m             \u001b[0mp\u001b[0m \u001b[0;34m=\u001b[0m \u001b[0mself\u001b[0m\u001b[0;34m.\u001b[0m\u001b[0msigmoid\u001b[0m\u001b[0;34m(\u001b[0m\u001b[0mnp\u001b[0m\u001b[0;34m.\u001b[0m\u001b[0mdot\u001b[0m\u001b[0;34m(\u001b[0m\u001b[0mp\u001b[0m\u001b[0;34m,\u001b[0m \u001b[0mself\u001b[0m\u001b[0;34m.\u001b[0m\u001b[0mW\u001b[0m\u001b[0;34m[\u001b[0m\u001b[0mlayer\u001b[0m\u001b[0;34m]\u001b[0m\u001b[0;34m)\u001b[0m\u001b[0;34m)\u001b[0m\u001b[0;34m\u001b[0m\u001b[0;34m\u001b[0m\u001b[0m\n\u001b[0m\u001b[1;32m    134\u001b[0m         \u001b[0;32mreturn\u001b[0m \u001b[0mp\u001b[0m\u001b[0;34m\u001b[0m\u001b[0;34m\u001b[0m\u001b[0m\n\u001b[1;32m    135\u001b[0m \u001b[0;34m\u001b[0m\u001b[0m\n",
      "\u001b[0;32m<__array_function__ internals>\u001b[0m in \u001b[0;36mdot\u001b[0;34m(*args, **kwargs)\u001b[0m\n",
      "\u001b[0;31mValueError\u001b[0m: shapes (450,64) and (65,33) not aligned: 64 (dim 1) != 65 (dim 0)"
     ]
    }
   ],
   "source": [
    "# train the network\n",
    "print(\"training network...\")\n",
    "#create a network object with two hidden layer h1 = 32 units and h2 = 16 units\n",
    "# ENTER YOUR CODE HERE\n",
    "nn = \n",
    "print(\"{}\".format(nn))\n",
    "# fit your network using 1500 epochs\n",
    "# ENTER YOUR CODE HERE\n",
    "losses2 = \n",
    "# evaluate the network\n",
    "print(\"evaluating network...\")\n",
    "# test your network on the test data set (remember to set addBias to True)\n",
    "# ENTER YOUR CODE HERE\n"
   ]
  },
  {
   "cell_type": "code",
   "execution_count": 20,
   "metadata": {},
   "outputs": [
    {
     "name": "stdout",
     "output_type": "stream",
     "text": [
      "              precision    recall  f1-score   support\n",
      "\n",
      "           0       1.00      0.98      0.99        46\n",
      "           1       0.95      0.98      0.96        42\n",
      "           2       0.97      1.00      0.99        38\n",
      "           3       0.93      0.93      0.93        54\n",
      "           4       0.96      1.00      0.98        44\n",
      "           5       0.92      1.00      0.96        44\n",
      "           6       1.00      1.00      1.00        47\n",
      "           7       0.98      0.98      0.98        45\n",
      "           8       0.95      0.87      0.91        47\n",
      "           9       0.90      0.84      0.87        43\n",
      "\n",
      "    accuracy                           0.96       450\n",
      "   macro avg       0.96      0.96      0.96       450\n",
      "weighted avg       0.96      0.96      0.96       450\n",
      "\n"
     ]
    }
   ],
   "source": [
    "predictions = nn.predict(testX, addBias=True)\n",
    "# there is a value outputed on each of the output nodes. we choose the one with the highest\n",
    "# value to represent the predicted label\n",
    "predictions = predictions.argmax(axis=1)\n",
    "print(classification_report(testY.argmax(axis=1), predictions))"
   ]
  },
  {
   "cell_type": "code",
   "execution_count": 21,
   "metadata": {},
   "outputs": [],
   "source": [
    "# we now transform the labels of the test set back to integers from vectors for plotting purposes\n",
    "testY=lb.inverse_transform(testY)"
   ]
  },
  {
   "cell_type": "code",
   "execution_count": 22,
   "metadata": {},
   "outputs": [
    {
     "data": {
      "text/plain": [
       "<matplotlib.collections.PathCollection at 0x12fed9460>"
      ]
     },
     "execution_count": 22,
     "metadata": {},
     "output_type": "execute_result"
    },
    {
     "data": {
      "image/png": "[encoded data removed]",
      "text/plain": [
       "<Figure size 432x288 with 1 Axes>"
      ]
     },
     "metadata": {
      "needs_background": "light"
     },
     "output_type": "display_data"
    }
   ],
   "source": [
    "\n",
    "plt.scatter(np.arange(len(predictions)),testY-predictions)"
   ]
  },
  {
   "cell_type": "code",
   "execution_count": 23,
   "metadata": {},
   "outputs": [
    {
     "data": {
      "text/plain": [
       "[<matplotlib.lines.Line2D at 0x12ffbf730>]"
      ]
     },
     "execution_count": 23,
     "metadata": {},
     "output_type": "execute_result"
    },
    {
     "data": {
      "image/png": "[encoded data removed]",
      "text/plain": [
       "<Figure size 432x288 with 1 Axes>"
      ]
     },
     "metadata": {
      "needs_background": "light"
     },
     "output_type": "display_data"
    }
   ],
   "source": [
    "# plot losses vs epochs\n",
    "plt.plot(np.concatenate(([0], np.arange(1,1500,100))),losses2)"
   ]
  },
  {
   "cell_type": "code",
   "execution_count": 24,
   "metadata": {},
   "outputs": [
    {
     "data": {
      "image/png": "[encoded data removed]",
      "text/plain": [
       "<Figure size 432x288 with 1 Axes>"
      ]
     },
     "metadata": {
      "needs_background": "light"
     },
     "output_type": "display_data"
    }
   ],
   "source": [
    "import sklearn.datasets\n",
    "#  load a classification dataset from sklearn\n",
    "X, Y = sklearn.datasets.make_moons(200, noise=0.150)\n",
    "plt.scatter(X[:,0], X[:,1], s=42, c=Y, cmap=plt.cm.Set1)\n",
    "y=Y.reshape(-1,1)"
   ]
  },
  {
   "cell_type": "code",
   "execution_count": 25,
   "metadata": {},
   "outputs": [
    {
     "data": {
      "text/plain": [
       "(200, 2)"
      ]
     },
     "execution_count": 25,
     "metadata": {},
     "output_type": "execute_result"
    }
   ],
   "source": [
    "y=np.concatenate((y,np.logical_not(y).astype('int')),axis=1)\n",
    "y.shape"
   ]
  },
  {
   "cell_type": "code",
   "execution_count": 27,
   "metadata": {},
   "outputs": [
    {
     "name": "stdout",
     "output_type": "stream",
     "text": [
      "[Training: ] epoch= 1 , loss= 0.5594112815176192\n",
      "[Training: ] epoch= 100 , loss= 0.2070867451882243\n",
      "[Training: ] epoch= 200 , loss= 0.18307391379333882\n",
      "[Training: ] epoch= 300 , loss= 0.17958472165173095\n",
      "[Training: ] epoch= 400 , loss= 0.17865533088088023\n",
      "[Training: ] epoch= 500 , loss= 0.1782466579135555\n",
      "[Training: ] epoch= 600 , loss= 0.17798033764365126\n",
      "[Training: ] epoch= 700 , loss= 0.17776377757199702\n",
      "[Training: ] epoch= 800 , loss= 0.17756863916417506\n",
      "[Training: ] epoch= 900 , loss= 0.17738380284019\n",
      "[Training: ] epoch= 1000 , loss= 0.17720400854976176\n",
      "[Training: ] epoch= 1100 , loss= 0.17702684140792166\n",
      "[Training: ] epoch= 1200 , loss= 0.17685159612765688\n",
      "[Training: ] epoch= 1300 , loss= 0.17667850085491743\n",
      "[Training: ] epoch= 1400 , loss= 0.1765081256042564\n",
      "[Training: ] epoch= 1500 , loss= 0.17634103399031137\n",
      "[Training: ] epoch= 1600 , loss= 0.17617764425515967\n",
      "[Training: ] epoch= 1700 , loss= 0.176018206073762\n",
      "[Training: ] epoch= 1800 , loss= 0.17586282196028016\n",
      "[Training: ] epoch= 1900 , loss= 0.17571147981220278\n",
      "[Training: ] epoch= 2000 , loss= 0.17556408446352834\n",
      "[Training: ] epoch= 2100 , loss= 0.175420484439786\n",
      "[Training: ] epoch= 2200 , loss= 0.17528049306172122\n",
      "[Training: ] epoch= 2300 , loss= 0.17514390417625883\n",
      "[Training: ] epoch= 2400 , loss= 0.17501050324251566\n",
      "[Training: ] epoch= 2500 , loss= 0.17488007463180644\n",
      "[Training: ] epoch= 2600 , loss= 0.17475240596402838\n",
      "[Training: ] epoch= 2700 , loss= 0.1746272901807496\n",
      "[Training: ] epoch= 2800 , loss= 0.17450452589887114\n",
      "[Training: ] epoch= 2900 , loss= 0.17438391642784548\n",
      "[Training: ] epoch= 3000 , loss= 0.17426526768146863\n",
      "[Training: ] epoch= 3100 , loss= 0.1741483850727765\n",
      "[Training: ] epoch= 3200 , loss= 0.17403306933845492\n",
      "[Training: ] epoch= 3300 , loss= 0.17391911107975175\n",
      "[Training: ] epoch= 3400 , loss= 0.1738062836020829\n",
      "[Training: ] epoch= 3500 , loss= 0.1736943333401849\n",
      "[Training: ] epoch= 3600 , loss= 0.17358296669279635\n",
      "[Training: ] epoch= 3700 , loss= 0.17347183132076574\n",
      "[Training: ] epoch= 3800 , loss= 0.17336048861749637\n",
      "[Training: ] epoch= 3900 , loss= 0.17324837160055687\n",
      "[Training: ] epoch= 4000 , loss= 0.17313471774817207\n",
      "[Training: ] epoch= 4100 , loss= 0.1730184567172097\n",
      "[Training: ] epoch= 4200 , loss= 0.17289801215390013\n",
      "[Training: ] epoch= 4300 , loss= 0.17277092852682865\n",
      "[Training: ] epoch= 4400 , loss= 0.17263311091140712\n",
      "[Training: ] epoch= 4500 , loss= 0.17247711643945185\n",
      "[Training: ] epoch= 4600 , loss= 0.17228780431921645\n",
      "[Training: ] epoch= 4700 , loss= 0.17202934447340135\n",
      "[Training: ] epoch= 4800 , loss= 0.17159795257768692\n",
      "[Training: ] epoch= 4900 , loss= 0.17061432000504004\n",
      "[Training: ] epoch= 5000 , loss= 0.16762919103748863\n",
      "[Training: ] epoch= 5100 , loss= 0.1596433991212622\n",
      "[Training: ] epoch= 5200 , loss= 0.14457350439300146\n",
      "[Training: ] epoch= 5300 , loss= 0.12463924078760281\n",
      "[Training: ] epoch= 5400 , loss= 0.10520114159799034\n",
      "[Training: ] epoch= 5500 , loss= 0.08920364254199928\n",
      "[Training: ] epoch= 5600 , loss= 0.07687750118625544\n",
      "[Training: ] epoch= 5700 , loss= 0.06749605343753207\n",
      "[Training: ] epoch= 5800 , loss= 0.060275757339938923\n",
      "[Training: ] epoch= 5900 , loss= 0.05460685771946107\n",
      "[Training: ] epoch= 6000 , loss= 0.05006546335302639\n",
      "[Training: ] epoch= 6100 , loss= 0.04636733300809093\n",
      "[Training: ] epoch= 6200 , loss= 0.04331921387902779\n",
      "[Training: ] epoch= 6300 , loss= 0.04078397603577582\n",
      "[Training: ] epoch= 6400 , loss= 0.03865955672430715\n",
      "[Training: ] epoch= 6500 , loss= 0.036867188411384616\n",
      "[Training: ] epoch= 6600 , loss= 0.03534477837224561\n",
      "[Training: ] epoch= 6700 , loss= 0.03404287906174978\n",
      "[Training: ] epoch= 6800 , loss= 0.032921945042022456\n",
      "[Training: ] epoch= 6900 , loss= 0.03195028500061242\n",
      "[Training: ] epoch= 7000 , loss= 0.03110245353084129\n",
      "[Training: ] epoch= 7100 , loss= 0.03035796608541409\n",
      "[Training: ] epoch= 7200 , loss= 0.02970027187760509\n",
      "[Training: ] epoch= 7300 , loss= 0.029115937701476212\n",
      "[Training: ] epoch= 7400 , loss= 0.028594003462285095\n",
      "[Training: ] epoch= 7500 , loss= 0.028125475667891357\n",
      "[Training: ] epoch= 7600 , loss= 0.027702930309784452\n",
      "[Training: ] epoch= 7700 , loss= 0.02732020159176048\n",
      "[Training: ] epoch= 7800 , loss= 0.02697213757445378\n",
      "[Training: ] epoch= 7900 , loss= 0.026654407789851148\n",
      "[Training: ] epoch= 8000 , loss= 0.02636335117595886\n",
      "[Training: ] epoch= 8100 , loss= 0.026095855323109776\n",
      "[Training: ] epoch= 8200 , loss= 0.025849260095503954\n",
      "[Training: ] epoch= 8300 , loss= 0.025621280294833536\n",
      "[Training: ] epoch= 8400 , loss= 0.02540994326299234\n",
      "[Training: ] epoch= 8500 , loss= 0.025213538260544243\n",
      "[Training: ] epoch= 8600 , loss= 0.02503057517428358\n",
      "[Training: ] epoch= 8700 , loss= 0.02485975065402658\n",
      "[Training: ] epoch= 8800 , loss= 0.024699920196816844\n",
      "[Training: ] epoch= 8900 , loss= 0.0245500750172672\n",
      "[Training: ] epoch= 9000 , loss= 0.024409322789460612\n",
      "[Training: ] epoch= 9100 , loss= 0.024276871536504235\n",
      "[Training: ] epoch= 9200 , loss= 0.02415201609186114\n",
      "[Training: ] epoch= 9300 , loss= 0.024034126672055206\n",
      "[Training: ] epoch= 9400 , loss= 0.023922639190853863\n",
      "[Training: ] epoch= 9500 , loss= 0.023817047016315304\n",
      "[Training: ] epoch= 9600 , loss= 0.02371689392850044\n",
      "[Training: ] epoch= 9700 , loss= 0.023621768080508133\n",
      "[Training: ] epoch= 9800 , loss= 0.023531296801328858\n",
      "[Training: ] epoch= 9900 , loss= 0.02344514210776996\n",
      "[Training: ] epoch= 10000 , loss= 0.023362996815892743\n"
     ]
    }
   ],
   "source": [
    "# train a network of shape with a single hidden layer of 3 units\n",
    "# (not input layer and not output layer) \n",
    "# and learning rate of 0.01\n",
    "# ENTER YOUR CODE HERE\n",
    "nn = \n",
    "# fit model using 10000 epochs\n",
    "# ENTER YOUR CODE HERE\n",
    "\n",
    "losses3 = "
   ]
  },
  {
   "cell_type": "code",
   "execution_count": 28,
   "metadata": {},
   "outputs": [
    {
     "data": {
      "text/plain": [
       "<matplotlib.collections.PathCollection at 0x12fd42670>"
      ]
     },
     "execution_count": 28,
     "metadata": {},
     "output_type": "execute_result"
    },
    {
     "data": {
      "image/png": "[encoded data removed]",
      "text/plain": [
       "<Figure size 432x288 with 1 Axes>"
      ]
     },
     "metadata": {
      "needs_background": "light"
     },
     "output_type": "display_data"
    }
   ],
   "source": [
    "# Set min and max values and give it some padding\n",
    "x_min, x_max = X[:, 0].min() - .5, X[:, 0].max() + .5\n",
    "y_min, y_max = X[:, 1].min() - .5, X[:, 1].max() + .5\n",
    "h = 0.01\n",
    "# Generate a grid of points with distance h between them\n",
    "xx, yy = np.meshgrid(np.arange(x_min, x_max, h), np.arange(y_min, y_max, h))\n",
    "# Predict the function value for the whole gid\n",
    "Z = nn.predict(np.c_[xx.ravel(), yy.ravel()],addBias=True)\n",
    "\n",
    "# Plot the contour and training examples\n",
    "plt.contourf(xx, yy, Z[:,1].reshape(xx.shape), cmap=plt.cm.Set1, alpha=0.2)\n",
    "plt.scatter(X[:, 0], X[:, 1], c=Y, cmap=plt.cm.Set1)"
   ]
  },
  {
   "cell_type": "markdown",
   "metadata": {},
   "source": [
    "### 1. change the learnig rate (10 times bigger), did the loss decrease faster?\n",
    "### 2. try different NN architecutres and see how performance chages"
   ]
  },
  {
   "cell_type": "markdown",
   "metadata": {},
   "source": [
    "### Regression Problem"
   ]
  },
  {
   "cell_type": "code",
   "execution_count": 29,
   "metadata": {},
   "outputs": [],
   "source": [
    "X = np.random.uniform(-1, 1, size=1000)\n",
    "\n",
    "y= np.power(X,2)+ np.random.normal(0, 1, size=X.shape[0]) * 0.2\n",
    "X = X.reshape(-1,1)\n",
    "y = y.reshape(-1,1)"
   ]
  },
  {
   "cell_type": "code",
   "execution_count": 30,
   "metadata": {},
   "outputs": [
    {
     "data": {
      "text/plain": [
       "<matplotlib.collections.PathCollection at 0x12ff9d340>"
      ]
     },
     "execution_count": 30,
     "metadata": {},
     "output_type": "execute_result"
    },
    {
     "data": {
      "image/png": "[encoded data removed]",
      "text/plain": [
       "<Figure size 432x288 with 1 Axes>"
      ]
     },
     "metadata": {
      "needs_background": "light"
     },
     "output_type": "display_data"
    }
   ],
   "source": [
    "plt.scatter(X,y)"
   ]
  },
  {
   "cell_type": "code",
   "execution_count": 31,
   "metadata": {},
   "outputs": [
    {
     "name": "stdout",
     "output_type": "stream",
     "text": [
      "[Training: ] epoch= 1 , loss= 0.12601652924299825\n",
      "[Training: ] epoch= 100 , loss= 0.11220819980152268\n",
      "[Training: ] epoch= 200 , loss= 0.05161873735228659\n",
      "[Training: ] epoch= 300 , loss= 0.04101040466593624\n",
      "[Training: ] epoch= 400 , loss= 0.03986789535382538\n",
      "[Training: ] epoch= 500 , loss= 0.039614247663534725\n",
      "[Training: ] epoch= 600 , loss= 0.03951697285509035\n",
      "[Training: ] epoch= 700 , loss= 0.03946348063768293\n",
      "[Training: ] epoch= 800 , loss= 0.03942731269052171\n",
      "[Training: ] epoch= 900 , loss= 0.039399586310953645\n",
      "[Training: ] epoch= 1000 , loss= 0.03937657801432973\n",
      "[Training: ] epoch= 1100 , loss= 0.03935651187145609\n",
      "[Training: ] epoch= 1200 , loss= 0.039338459195657594\n",
      "[Training: ] epoch= 1300 , loss= 0.039321894943309794\n",
      "[Training: ] epoch= 1400 , loss= 0.03930650003286769\n",
      "[Training: ] epoch= 1500 , loss= 0.03929206671744444\n",
      "[Training: ] epoch= 1600 , loss= 0.039278450702117766\n",
      "[Training: ] epoch= 1700 , loss= 0.039265545772863376\n",
      "[Training: ] epoch= 1800 , loss= 0.0392532697878124\n",
      "[Training: ] epoch= 1900 , loss= 0.03924155662900874\n",
      "[Training: ] epoch= 2000 , loss= 0.03923035138834749\n",
      "[Training: ] epoch= 2100 , loss= 0.03921960736478754\n",
      "[Training: ] epoch= 2200 , loss= 0.039209284108368415\n",
      "[Training: ] epoch= 2300 , loss= 0.03919934608929768\n",
      "[Training: ] epoch= 2400 , loss= 0.03918976175345314\n",
      "[Training: ] epoch= 2500 , loss= 0.03918050282574526\n",
      "[Training: ] epoch= 2600 , loss= 0.039171543778728786\n",
      "[Training: ] epoch= 2700 , loss= 0.03916286141578526\n",
      "[Training: ] epoch= 2800 , loss= 0.03915443453681799\n",
      "[Training: ] epoch= 2900 , loss= 0.039146243665496135\n",
      "[Training: ] epoch= 3000 , loss= 0.039138270823853204\n",
      "[Training: ] epoch= 3100 , loss= 0.03913049934427734\n",
      "[Training: ] epoch= 3200 , loss= 0.039122913711653086\n",
      "[Training: ] epoch= 3300 , loss= 0.039115499430216506\n",
      "[Training: ] epoch= 3400 , loss= 0.039108242910919175\n",
      "[Training: ] epoch= 3500 , loss= 0.039101131375967726\n",
      "[Training: ] epoch= 3600 , loss= 0.03909415277784144\n",
      "[Training: ] epoch= 3700 , loss= 0.03908729573056924\n",
      "[Training: ] epoch= 3800 , loss= 0.03908054945141704\n",
      "[Training: ] epoch= 3900 , loss= 0.03907390371142838\n",
      "[Training: ] epoch= 4000 , loss= 0.039067348793497006\n",
      "[Training: ] epoch= 4100 , loss= 0.03906087545684148\n",
      "[Training: ] epoch= 4200 , loss= 0.03905447490691006\n",
      "[Training: ] epoch= 4300 , loss= 0.03904813876987491\n",
      "[Training: ] epoch= 4400 , loss= 0.03904185907098336\n",
      "[Training: ] epoch= 4500 , loss= 0.03903562821612419\n",
      "[Training: ] epoch= 4600 , loss= 0.03902943897604248\n",
      "[Training: ] epoch= 4700 , loss= 0.039023284472699885\n",
      "[Training: ] epoch= 4800 , loss= 0.03901715816733007\n",
      "[Training: ] epoch= 4900 , loss= 0.039011053849785864\n",
      "[Training: ] epoch= 5000 , loss= 0.039004965628815336\n",
      "[Training: ] epoch= 5100 , loss= 0.03899888792294215\n",
      "[Training: ] epoch= 5200 , loss= 0.03899281545166214\n",
      "[Training: ] epoch= 5300 , loss= 0.03898674322670544\n",
      "[Training: ] epoch= 5400 , loss= 0.038980666543151674\n",
      "[Training: ] epoch= 5500 , loss= 0.03897458097022606\n",
      "[Training: ] epoch= 5600 , loss= 0.0389684823416475\n",
      "[Training: ] epoch= 5700 , loss= 0.03896236674544327\n",
      "[Training: ] epoch= 5800 , loss= 0.03895623051319089\n",
      "[Training: ] epoch= 5900 , loss= 0.03895007020869238\n",
      "[Training: ] epoch= 6000 , loss= 0.03894388261612876\n",
      "[Training: ] epoch= 6100 , loss= 0.03893766472778265\n",
      "[Training: ] epoch= 6200 , loss= 0.03893141373144992\n",
      "[Training: ] epoch= 6300 , loss= 0.03892512699768976\n",
      "[Training: ] epoch= 6400 , loss= 0.03891880206708042\n",
      "[Training: ] epoch= 6500 , loss= 0.03891243663766046\n",
      "[Training: ] epoch= 6600 , loss= 0.03890602855273514\n",
      "[Training: ] epoch= 6700 , loss= 0.03889957578922272\n",
      "[Training: ] epoch= 6800 , loss= 0.03889307644669897\n",
      "[Training: ] epoch= 6900 , loss= 0.03888652873727717\n",
      "[Training: ] epoch= 7000 , loss= 0.038879930976433955\n",
      "[Training: ] epoch= 7100 , loss= 0.03887328157485912\n",
      "[Training: ] epoch= 7200 , loss= 0.03886657903137548\n",
      "[Training: ] epoch= 7300 , loss= 0.038859821926940014\n",
      "[Training: ] epoch= 7400 , loss= 0.0388530089197061\n",
      "[Training: ] epoch= 7500 , loss= 0.038846138741095784\n",
      "[Training: ] epoch= 7600 , loss= 0.03883921019280659\n",
      "[Training: ] epoch= 7700 , loss= 0.03883222214465524\n",
      "[Training: ] epoch= 7800 , loss= 0.03882517353314678\n",
      "[Training: ] epoch= 7900 , loss= 0.03881806336064737\n",
      "[Training: ] epoch= 8000 , loss= 0.03881089069503663\n",
      "[Training: ] epoch= 8100 , loss= 0.03880365466971751\n",
      "[Training: ] epoch= 8200 , loss= 0.038796354483869026\n",
      "[Training: ] epoch= 8300 , loss= 0.03878898940283975\n",
      "[Training: ] epoch= 8400 , loss= 0.038781558758594424\n",
      "[Training: ] epoch= 8500 , loss= 0.0387740619501436\n",
      "[Training: ] epoch= 8600 , loss= 0.038766498443904396\n",
      "[Training: ] epoch= 8700 , loss= 0.038758867773958657\n",
      "[Training: ] epoch= 8800 , loss= 0.03875116954219167\n",
      "[Training: ] epoch= 8900 , loss= 0.03874340341830954\n",
      "[Training: ] epoch= 9000 , loss= 0.03873556913974542\n",
      "[Training: ] epoch= 9100 , loss= 0.038727666511473975\n",
      "[Training: ] epoch= 9200 , loss= 0.03871969540575942\n",
      "[Training: ] epoch= 9300 , loss= 0.038711655761864854\n",
      "[Training: ] epoch= 9400 , loss= 0.038703547585751105\n",
      "[Training: ] epoch= 9500 , loss= 0.0386953709497897\n",
      "[Training: ] epoch= 9600 , loss= 0.038687125992511937\n",
      "[Training: ] epoch= 9700 , loss= 0.03867881291840929\n",
      "[Training: ] epoch= 9800 , loss= 0.038670431997795615\n",
      "[Training: ] epoch= 9900 , loss= 0.038661983566735766\n",
      "[Training: ] epoch= 10000 , loss= 0.038653468027040866\n"
     ]
    }
   ],
   "source": [
    "nn = \n",
    "losses4 = "
   ]
  },
  {
   "cell_type": "code",
   "execution_count": 32,
   "metadata": {},
   "outputs": [
    {
     "data": {
      "text/plain": [
       "[<matplotlib.lines.Line2D at 0x12ff085b0>]"
      ]
     },
     "execution_count": 32,
     "metadata": {},
     "output_type": "execute_result"
    },
    {
     "data": {
      "image/png": "[encoded data removed]",
      "text/plain": [
       "<Figure size 432x288 with 1 Axes>"
      ]
     },
     "metadata": {
      "needs_background": "light"
     },
     "output_type": "display_data"
    }
   ],
   "source": [
    "plt.plot(losses4)"
   ]
  },
  {
   "cell_type": "code",
   "execution_count": 33,
   "metadata": {},
   "outputs": [
    {
     "data": {
      "text/plain": [
       "[<matplotlib.lines.Line2D at 0x12ff08df0>]"
      ]
     },
     "execution_count": 33,
     "metadata": {},
     "output_type": "execute_result"
    },
    {
     "data": {
      "image/png": "[encoded data removed]",
      "text/plain": [
       "<Figure size 432x288 with 1 Axes>"
      ]
     },
     "metadata": {
      "needs_background": "light"
     },
     "output_type": "display_data"
    }
   ],
   "source": [
    "plt.scatter(X,y)\n",
    "y_hat =  nn.predict(np.sort(X,axis=0),addBias=True)\n",
    "plt.plot(np.sort(X,axis=0),y_hat,c='red')"
   ]
  },
  {
   "cell_type": "code",
   "execution_count": 24,
   "metadata": {},
   "outputs": [
    {
     "data": {
      "text/plain": [
       "(1000, 1)"
      ]
     },
     "execution_count": 24,
     "metadata": {},
     "output_type": "execute_result"
    }
   ],
   "source": [
    "X.shape"
   ]
  },
  {
   "cell_type": "markdown",
   "metadata": {},
   "source": [
    "### try different NN architecutres and see how performance chages \n",
    "### try different learning rates and see if you can improve the results"
   ]
  },
  {
   "cell_type": "code",
   "execution_count": null,
   "metadata": {},
   "outputs": [],
   "source": []
  },
  {
   "cell_type": "code",
   "execution_count": null,
   "metadata": {},
   "outputs": [],
   "source": []
  },
  {
   "cell_type": "markdown",
   "metadata": {},
   "source": [
    "### Change the Neuralnetwrok class such that you use the momentum rule for weights update. retrain the MNIST dataset.  How did the training go? are the losses smaller is the accuracy the same? what does it mean?"
   ]
  },
  {
   "cell_type": "code",
   "execution_count": 37,
   "metadata": {},
   "outputs": [],
   "source": []
  },
  {
   "cell_type": "code",
   "execution_count": 38,
   "metadata": {},
   "outputs": [
    {
     "name": "stdout",
     "output_type": "stream",
     "text": [
      "loading MNIST (sample) dataset...\n",
      "samples: 1797, dim: 64\n"
     ]
    }
   ],
   "source": [
    "# load the MNIST dataset and apply min/max scaling to scale the\n",
    "# pixel intensity values to the range [0, 1] (each image is\n",
    "# represented by an 8 x 8 = 64-dim feature vector)\n",
    "print(\"loading MNIST (sample) dataset...\")\n",
    "digits = datasets.load_digits()\n",
    "data = digits.data.astype(\"float\")\n",
    "data = (data - data.min()) / (data.max() - data.min())\n",
    "print(\"samples: {}, dim: {}\".format(data.shape[0],\n",
    "data.shape[1]))\n",
    "# construct the training and testing splits\n",
    "(trainX, testX, trainY, testY) = train_test_split(data,\n",
    "digits.target, test_size=0.25)\n",
    "# convert the labels from integers to vectors:1 = [0,1,0,0,0,0,0,0,0,0]\n",
    "lb=LabelBinarizer()\n",
    "trainY =lb.fit_transform(trainY)\n",
    "testY = lb.transform(testY)"
   ]
  },
  {
   "cell_type": "code",
   "execution_count": 36,
   "metadata": {},
   "outputs": [
    {
     "name": "stdout",
     "output_type": "stream",
     "text": [
      "training network...\n"
     ]
    },
    {
     "ename": "TypeError",
     "evalue": "data type not understood",
     "output_type": "error",
     "traceback": [
      "\u001b[0;31m---------------------------------------------------------------------------\u001b[0m",
      "\u001b[0;31mTypeError\u001b[0m                                 Traceback (most recent call last)",
      "\u001b[0;32m<ipython-input-36-937cf186f68b>\u001b[0m in \u001b[0;36m<module>\u001b[0;34m\u001b[0m\n\u001b[1;32m      4\u001b[0m \u001b[0;31m# use alpha=0.5 and gamma=0.5\u001b[0m\u001b[0;34m\u001b[0m\u001b[0;34m\u001b[0m\u001b[0;34m\u001b[0m\u001b[0m\n\u001b[1;32m      5\u001b[0m \u001b[0;31m# ENTER YOUR CODE HERE\u001b[0m\u001b[0;34m\u001b[0m\u001b[0;34m\u001b[0m\u001b[0;34m\u001b[0m\u001b[0m\n\u001b[0;32m----> 6\u001b[0;31m \u001b[0mnn\u001b[0m \u001b[0;34m=\u001b[0m \u001b[0mNeuralNetwork\u001b[0m\u001b[0;34m(\u001b[0m\u001b[0;34m[\u001b[0m\u001b[0;36m64\u001b[0m\u001b[0;34m,\u001b[0m\u001b[0;36m32\u001b[0m\u001b[0;34m,\u001b[0m\u001b[0;36m16\u001b[0m\u001b[0;34m,\u001b[0m\u001b[0;36m10\u001b[0m\u001b[0;34m]\u001b[0m\u001b[0;34m,\u001b[0m \u001b[0malpha\u001b[0m\u001b[0;34m=\u001b[0m\u001b[0;36m0.5\u001b[0m\u001b[0;34m,\u001b[0m \u001b[0mgamma\u001b[0m\u001b[0;34m=\u001b[0m\u001b[0;36m0.5\u001b[0m\u001b[0;34m)\u001b[0m\u001b[0;34m\u001b[0m\u001b[0;34m\u001b[0m\u001b[0m\n\u001b[0m\u001b[1;32m      7\u001b[0m \u001b[0mprint\u001b[0m\u001b[0;34m(\u001b[0m\u001b[0;34m\"{}\"\u001b[0m\u001b[0;34m.\u001b[0m\u001b[0mformat\u001b[0m\u001b[0;34m(\u001b[0m\u001b[0mnn\u001b[0m\u001b[0;34m)\u001b[0m\u001b[0;34m)\u001b[0m\u001b[0;34m\u001b[0m\u001b[0;34m\u001b[0m\u001b[0m\n\u001b[1;32m      8\u001b[0m \u001b[0;31m# fit your network 1500 ephocs\u001b[0m\u001b[0;34m\u001b[0m\u001b[0;34m\u001b[0m\u001b[0;34m\u001b[0m\u001b[0m\n",
      "\u001b[0;32m<ipython-input-34-11368438ec38>\u001b[0m in \u001b[0;36m__init__\u001b[0;34m(self, layers, alpha, gamma)\u001b[0m\n\u001b[1;32m     16\u001b[0m             \u001b[0;31m# adding an extra node for the bias\u001b[0m\u001b[0;34m\u001b[0m\u001b[0;34m\u001b[0m\u001b[0;34m\u001b[0m\u001b[0m\n\u001b[1;32m     17\u001b[0m             \u001b[0mw\u001b[0m \u001b[0;34m=\u001b[0m \u001b[0mnp\u001b[0m\u001b[0;34m.\u001b[0m\u001b[0mrandom\u001b[0m\u001b[0;34m.\u001b[0m\u001b[0mrandn\u001b[0m\u001b[0;34m(\u001b[0m\u001b[0mlayers\u001b[0m\u001b[0;34m[\u001b[0m\u001b[0mi\u001b[0m\u001b[0;34m]\u001b[0m \u001b[0;34m+\u001b[0m \u001b[0;36m1\u001b[0m\u001b[0;34m,\u001b[0m \u001b[0mlayers\u001b[0m\u001b[0;34m[\u001b[0m\u001b[0mi\u001b[0m \u001b[0;34m+\u001b[0m \u001b[0;36m1\u001b[0m\u001b[0;34m]\u001b[0m \u001b[0;34m+\u001b[0m \u001b[0;36m1\u001b[0m\u001b[0;34m)\u001b[0m\u001b[0;34m\u001b[0m\u001b[0;34m\u001b[0m\u001b[0m\n\u001b[0;32m---> 18\u001b[0;31m             \u001b[0mv\u001b[0m \u001b[0;34m=\u001b[0m \u001b[0mnp\u001b[0m\u001b[0;34m.\u001b[0m\u001b[0mzeros\u001b[0m\u001b[0;34m(\u001b[0m\u001b[0mlayers\u001b[0m\u001b[0;34m[\u001b[0m\u001b[0mi\u001b[0m\u001b[0;34m]\u001b[0m \u001b[0;34m+\u001b[0m \u001b[0;36m1\u001b[0m\u001b[0;34m,\u001b[0m \u001b[0mlayers\u001b[0m\u001b[0;34m[\u001b[0m\u001b[0mi\u001b[0m \u001b[0;34m+\u001b[0m \u001b[0;36m1\u001b[0m\u001b[0;34m]\u001b[0m \u001b[0;34m+\u001b[0m \u001b[0;36m1\u001b[0m\u001b[0;34m)\u001b[0m\u001b[0;34m\u001b[0m\u001b[0;34m\u001b[0m\u001b[0m\n\u001b[0m\u001b[1;32m     19\u001b[0m             \u001b[0mself\u001b[0m\u001b[0;34m.\u001b[0m\u001b[0mW\u001b[0m\u001b[0;34m.\u001b[0m\u001b[0mappend\u001b[0m\u001b[0;34m(\u001b[0m\u001b[0mw\u001b[0m \u001b[0;34m/\u001b[0m \u001b[0mnp\u001b[0m\u001b[0;34m.\u001b[0m\u001b[0msqrt\u001b[0m\u001b[0;34m(\u001b[0m\u001b[0mlayers\u001b[0m\u001b[0;34m[\u001b[0m\u001b[0mi\u001b[0m\u001b[0;34m]\u001b[0m\u001b[0;34m)\u001b[0m\u001b[0;34m)\u001b[0m\u001b[0;34m\u001b[0m\u001b[0;34m\u001b[0m\u001b[0m\n\u001b[1;32m     20\u001b[0m             \u001b[0mself\u001b[0m\u001b[0;34m.\u001b[0m\u001b[0mV\u001b[0m\u001b[0;34m.\u001b[0m\u001b[0mappend\u001b[0m\u001b[0;34m(\u001b[0m\u001b[0mv\u001b[0m\u001b[0;34m)\u001b[0m\u001b[0;34m\u001b[0m\u001b[0;34m\u001b[0m\u001b[0m\n",
      "\u001b[0;31mTypeError\u001b[0m: data type not understood"
     ]
    }
   ],
   "source": [
    "# train the network\n",
    "print(\"training network...\")\n",
    "#create a network object with two hidden layer h1 = 32 units and h2 = 16 units\n",
    "# use alpha=0.5 and gamma=0.5\n",
    "# ENTER YOUR CODE HERE\n",
    "nn = NeuralNetwork([64,32,16,10], alpha=0.5, gamma=0.5)\n",
    "print(\"{}\".format(nn))\n",
    "# fit your network 1500 ephocs\n",
    "# ENTER YOUR CODE HERE\n",
    "losses5 = \n",
    "# evaluate the network\n",
    "print(\"evaluating network...\")\n",
    "# make prediction on test set\n",
    "# ENTER YOUR CODE HERE\n",
    "predictions2 = \n",
    "predictions2 = predictions2.argmax(axis=1)\n",
    "print(classification_report(testY.argmax(axis=1), predictions2))"
   ]
  },
  {
   "cell_type": "code",
   "execution_count": 34,
   "metadata": {},
   "outputs": [],
   "source": [
    "#plot losses with and without momentum"
   ]
  },
  {
   "cell_type": "code",
   "execution_count": null,
   "metadata": {},
   "outputs": [],
   "source": [
    "# try different gamma values"
   ]
  },
  {
   "cell_type": "code",
   "execution_count": null,
   "metadata": {},
   "outputs": [],
   "source": []
  },
  {
   "cell_type": "code",
   "execution_count": null,
   "metadata": {},
   "outputs": [],
   "source": []
  },
  {
   "cell_type": "code",
   "execution_count": null,
   "metadata": {},
   "outputs": [],
   "source": []
  }
 ],
 "metadata": {
  "kernelspec": {
   "display_name": "Python 3",
   "language": "python",
   "name": "python3"
  },
  "language_info": {
   "codemirror_mode": {
    "name": "ipython",
    "version": 3
   },
   "file_extension": ".py",
   "mimetype": "text/x-python",
   "name": "python",
   "nbconvert_exporter": "python",
   "pygments_lexer": "ipython3",
   "version": "3.8.12"
  },
  "latex_envs": {
   "LaTeX_envs_menu_present": true,
   "autoclose": false,
   "autocomplete": true,
   "bibliofile": "biblio.bib",
   "cite_by": "apalike",
   "current_citInitial": 1,
   "eqLabelWithNumbers": true,
   "eqNumInitial": 1,
   "hotkeys": {
    "equation": "Ctrl-E",
    "itemize": "Ctrl-I"
   },
   "labels_anchors": false,
   "latex_user_defs": false,
   "report_style_numbering": false,
   "user_envs_cfg": false
  }
 },
 "nbformat": 4,
 "nbformat_minor": 2
}
