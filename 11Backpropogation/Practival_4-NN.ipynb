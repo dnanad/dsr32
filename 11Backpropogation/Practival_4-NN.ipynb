{
 "cells": [
  {
   "cell_type": "markdown",
   "metadata": {},
   "source": [
    "# DSR - Practical 4 - Neural networks\n",
    "\n",
    "\n",
    "### Here we are going to implement a Multy Layered Neural Netwrok.\n",
    "### We will use and extreme case of SGD where the batch size is 1 (i.e updating weights after every sample)"
   ]
  },
  {
   "cell_type": "code",
   "execution_count": 2,
   "metadata": {},
   "outputs": [],
   "source": [
    "import numpy as np\n",
    "import matplotlib.pyplot as plt\n",
    "import random"
   ]
  },
  {
   "cell_type": "markdown",
   "metadata": {},
   "source": [
    "### multi layer perceptron class:\n",
    "\n",
    "loss function:\n",
    "$$ loss = \\frac{1}{N}\\sum(pred-true)^{2}$$\n"
   ]
  },
  {
   "cell_type": "code",
   "execution_count": 3,
   "metadata": {},
   "outputs": [],
   "source": [
    "class NeuralNetwork:\n",
    "    def __init__(self, layers, alpha=0.1):\n",
    "    # initialize the list of weights matrices, then store the\n",
    "    # network architecture and learning rate\n",
    "        random.seed(42)\n",
    "        self.W = []\n",
    "        self.layers = layers\n",
    "        self.alpha = alpha\n",
    "        # start looping from the index of the first layer but\n",
    "        # stop before we reach the last two layers\n",
    "        for i in np.arange(0, len(layers) - 2):\n",
    "            # randomly initialize a weight matrix connecting the\n",
    "            # number of nodes in each respective layer together,\n",
    "            # adding an extra node for the bias\n",
    "            w = np.random.randn(layers[i] + 1, layers[i + 1] + 1)\n",
    "            self.W.append(w / np.sqrt(layers[i]))\n",
    "        # in this example we let the last two layers   \n",
    "        # connections have no bias\n",
    "        w = np.random.randn(layers[-2] + 1, layers[-1])\n",
    "        self.W.append(w / np.sqrt(layers[-2]))\n",
    "    \n",
    "    def __repr__(self):\n",
    "        # construct and return a string that represents the network\n",
    "        # architecture\n",
    "        return \"NN architecture: {}\".format(\n",
    "        \"-\".join(str(l) for l in self.layers))\n",
    "    \n",
    "    def sigmoid(self, x):\n",
    "        # compute and return the sigmoid activation value for a\n",
    "        # given input value\n",
    "        sigmoid = 1/(1 + np.exp(-x))# ENTER YOUR CODE HERE\n",
    "        return sigmoid\n",
    "    def sigmoid_deriv(self, s):\n",
    "        # compute the derivative of the sigmoid function ASSUMING\n",
    "        # that `s` has already been passed through the `sigmoid`\n",
    "        # function\n",
    "        # ENTER YOUR CODE HERE\n",
    "        d_sigmoid = s * (1-s)\n",
    "        return d_sigmoid\n",
    "    \n",
    "    def fit(self, X, y, epochs=1000, displayUpdate=100):\n",
    "        # insert a column of 1's as the last entry in the feature\n",
    "        # matrix -- this little trick allows us to treat the bias\n",
    "        # as a trainable parameter within the weight matrix\n",
    "        \n",
    "        X = np.c_[X, np.ones((X.shape[0]))]\n",
    "        losses = []\n",
    "        # loop over the desired number of epochs\n",
    "        for epoch in np.arange(0, epochs):\n",
    "            # loop over each individual data point and train\n",
    "            # our network on it\n",
    "            for (x, target) in zip(X, y):\n",
    "                self.fit_partial(x, target)\n",
    "                # check to see if we should display a training update\n",
    "            if epoch == 0 or (epoch + 1) % displayUpdate == 0:\n",
    "                loss = self.calculate_loss(X, y)\n",
    "                print(\"[Training: ] epoch=\", epoch+1, \", loss=\",loss)\n",
    "                losses.append(loss)  \n",
    "        return losses\n",
    "                    \n",
    "    def fit_partial(self, x, y):\n",
    "        # construct our list of output activations for each layer\n",
    "        # as our data point flows through the network; the first\n",
    "        # activation is a special case -- it's just the input\n",
    "        # feature vector itself\n",
    "        A = [np.atleast_2d(x)]\n",
    "        # FEEDFORWARD:\n",
    "        # loop over the layers in the network\n",
    "        for layer in np.arange(0, len(self.W)):\n",
    "            # feedforward the activation at the current layer by\n",
    "            # taking the dot product between the activation and\n",
    "            # the weight matrix -- this is called the \"net input\"\n",
    "            # to the current layer\n",
    "            net = A[layer].dot(self.W[layer])\n",
    "            # computing the \"net output\" is simply applying our\n",
    "            # nonlinear activation function to the net input\n",
    "            out = self.sigmoid(net)# ENTER YOUR CODE HERE\n",
    "            # once we have the net output, add it to our list of\n",
    "            # activations\n",
    "            A.append(out)\n",
    "\n",
    "        # BACKPROPAGATION\n",
    "        # the first phase of backpropagation is to compute the\n",
    "        # difference between our *prediction* (the final output\n",
    "        # activation in the activations list) and the true target\n",
    "        # value\n",
    "        dloss = A[-1] - y\n",
    "\n",
    "        # from here, we need to apply the chain rule and build our\n",
    "        # list of deltas `D`; the first entry in the deltas is\n",
    "        # simply the error of the output layer times the derivative\n",
    "        # of our activation function for the output value\n",
    "        D = [dloss * self.sigmoid_deriv(A[-1])]\n",
    "        # once you understand the chain rule it becomes super easy\n",
    "        # to implement with a `for` loop -- simply loop over the\n",
    "        # layers in reverse order (ignoring the last two since we\n",
    "        # already have taken them into account)\n",
    "        for layer in np.arange(len(A) - 2, 0, -1):\n",
    "            # the delta for the current layer is equal to the delta\n",
    "            # of the *previous layer* dotted with the weight matrix\n",
    "            # of the current layer, followed by multiplying the delta\n",
    "            # by the derivative of the nonlinear activation function\n",
    "            # for the activations of the current layer\n",
    "            delta = D[-1].dot(self.W[layer].T)\n",
    "            delta = delta * self.sigmoid_deriv(A[layer])\n",
    "            D.append(delta)\n",
    "        # since we looped over our layers in reverse order we need to\n",
    "        # reverse the deltas\n",
    "        D = D[::-1]\n",
    "        # WEIGHT UPDATE PHASE\n",
    "        # loop over the layers\n",
    "        for layer in np.arange(0, len(self.W)):\n",
    "        # update our weights by taking the dot product of the layer\n",
    "        # activations with their respective deltas, then multiplying\n",
    "        # this value by some small learning rate and adding to our\n",
    "        # weight matrix -- this is where the actual \"learning\" takes\n",
    "        # place\n",
    "            self.W[layer] += -self.alpha * A[layer].T.dot(D[layer])\n",
    "            \n",
    "    def predict(self, X,addBias=False):\n",
    "        # initialize the output prediction as the input features -- this\n",
    "        # value will be (forward) propagated through the network to\n",
    "        # obtain the final prediction\n",
    "        p = np.atleast_2d(X)\n",
    "        # insert a column of 1's as the last entry in the feature\n",
    "        # matrix (bias)\n",
    "        if addBias:\n",
    "            p = np.c_[p, np.ones((p.shape[0]))]\n",
    "        # loop over our layers in the network\n",
    "        for layer in np.arange(0, len(self.W)):\n",
    "            # computing the output prediction is simply\n",
    "            # the forward pass\n",
    "            \n",
    "            p = self.sigmoid(np.dot(p, self.W[layer]))\n",
    "        return p\n",
    "    \n",
    "    def calculate_loss(self, X, targets):\n",
    "        # make predictions for the input data points then compute\n",
    "        # the loss\n",
    "        targets = np.atleast_2d(targets)\n",
    "        predictions = self.predict(X)\n",
    "        loss = (1/len(X)) * np.sum((predictions - targets) ** 2)\n",
    "        return loss"
   ]
  },
  {
   "cell_type": "code",
   "execution_count": 38,
   "metadata": {},
   "outputs": [
    {
     "name": "stdout",
     "output_type": "stream",
     "text": [
      "<bound method NeuralNetwork.__repr__ of NN architecture: 2-2-1>\n",
      "[Training: ] epoch= 1 , loss= 0.2536964446245214\n",
      "[Training: ] epoch= 100 , loss= 0.24857003873983793\n",
      "[Training: ] epoch= 200 , loss= 0.24722110867512204\n",
      "[Training: ] epoch= 300 , loss= 0.24445668833123757\n",
      "[Training: ] epoch= 400 , loss= 0.23818334033392707\n",
      "[Training: ] epoch= 500 , loss= 0.22437948092006738\n",
      "[Training: ] epoch= 600 , loss= 0.1991743916316168\n",
      "[Training: ] epoch= 700 , loss= 0.16272135117474223\n",
      "[Training: ] epoch= 800 , loss= 0.11673247657842842\n",
      "[Training: ] epoch= 900 , loss= 0.07219518801843014\n",
      "[Training: ] epoch= 1000 , loss= 0.04328586173844601\n"
     ]
    }
   ],
   "source": [
    "# construct the XOR dataset\n",
    "X = np.array([[0, 0], [0, 1], [1, 0], [1, 1]])\n",
    "y = np.array([[0], [1], [1], [0]])\n",
    "\n",
    "# define our 2-2-1 neural network and train it\n",
    "nn = NeuralNetwork(layers=[2, 2, 1], alpha=0.3)\n",
    "print(nn.__repr__)\n",
    "# fit the Neural Network\n",
    "losses = nn.fit(X,y, epochs=1000)"
   ]
  },
  {
   "cell_type": "code",
   "execution_count": 39,
   "metadata": {},
   "outputs": [
    {
     "name": "stdout",
     "output_type": "stream",
     "text": [
      "[[0.16491884]]\n",
      "data= [0 0] , ground-truth= [0] , pred=, [[0.16491884]]  step= 0\n",
      "[[0.7561898]]\n",
      "data= [0 1] , ground-truth= [1] , pred=, [[0.7561898]]  step= 1\n",
      "[[0.8424357]]\n",
      "data= [1 0] , ground-truth= [1] , pred=, [[0.8424357]]  step= 1\n",
      "[[0.24834512]]\n",
      "data= [1 1] , ground-truth= [0] , pred=, [[0.24834512]]  step= 0\n"
     ]
    }
   ],
   "source": [
    "# now that our network is trained, loop over the XOR data points\n",
    "for (x, target) in zip(X, y):\n",
    "    # make a prediction on the data point and display the result\n",
    "    # to our console\n",
    "    pred = nn.predict(x, addBias=True)\n",
    "    print(pred)\n",
    "    step = 1 if pred > 0.5 else 0\n",
    "    print(\"data=\",x,\", ground-truth=\",target,\", pred=,\",pred,\" step=\",step)"
   ]
  },
  {
   "cell_type": "code",
   "execution_count": 40,
   "metadata": {},
   "outputs": [
    {
     "data": {
      "text/plain": [
       "[<matplotlib.lines.Line2D at 0x180ca02a550>]"
      ]
     },
     "execution_count": 40,
     "metadata": {},
     "output_type": "execute_result"
    },
    {
     "data": {
      "image/png": "[encoded data removed]",
      "text/plain": [
       "<Figure size 432x288 with 1 Axes>"
      ]
     },
     "metadata": {
      "needs_background": "light"
     },
     "output_type": "display_data"
    }
   ],
   "source": [
    "# plot the losses as function of training\n",
    "plt.plot(losses)"
   ]
  },
  {
   "cell_type": "markdown",
   "metadata": {},
   "source": [
    " ### Repeat the training with a NN with [2,1] architechture"
   ]
  },
  {
   "cell_type": "code",
   "execution_count": 11,
   "metadata": {},
   "outputs": [
    {
     "name": "stdout",
     "output_type": "stream",
     "text": [
      "<bound method NeuralNetwork.__repr__ of NN architecture: 2-1>\n",
      "[Training: ] epoch= 1 , loss= 0.25925178630836354\n",
      "[Training: ] epoch= 100 , loss= 0.25054153071196505\n"
     ]
    }
   ],
   "source": [
    "### ENTER YOUR CODE HERE\n",
    "nn = NeuralNetwork(layers=[2, 1], alpha=0.3)\n",
    "print(nn.__repr__)\n",
    "# fit the Neural Network using 100 epochs\n",
    "### ENTER YOUR CODE HERE\n",
    "losses= nn.fit(X,y, epochs=100)"
   ]
  },
  {
   "cell_type": "code",
   "execution_count": 16,
   "metadata": {},
   "outputs": [
    {
     "name": "stdout",
     "output_type": "stream",
     "text": [
      "data= [0 0] , ground-truth= [0] , pred=, [[0.50893568]]  step= 1\n",
      "data= [0 1] , ground-truth= [1] , pred=, [[0.5231663]]  step= 1\n",
      "data= [1 0] , ground-truth= [1] , pred=, [[0.46573118]]  step= 0\n",
      "data= [1 1] , ground-truth= [0] , pred=, [[0.47993441]]  step= 0\n"
     ]
    }
   ],
   "source": [
    "# now that our network is trained, loop over the XOR data points\n",
    "for (x, target) in zip(X, y):\n",
    "    # make a prediction on the data point and display the result\n",
    "    # to our console\n",
    "    pred = nn.predict(x, addBias=True)\n",
    "    step = 1 if pred > 0.5 else 0\n",
    "    print(\"data=\",x,\", ground-truth=\",target,\", pred=,\",pred,\" step=\",step)"
   ]
  },
  {
   "cell_type": "markdown",
   "metadata": {},
   "source": [
    "Notice that this network consisting of 1 neuron with two inputs is not enough for the XOR problem"
   ]
  },
  {
   "cell_type": "markdown",
   "metadata": {},
   "source": [
    "### Classification Problem"
   ]
  },
  {
   "cell_type": "code",
   "execution_count": 17,
   "metadata": {},
   "outputs": [],
   "source": [
    "from sklearn.preprocessing import LabelBinarizer\n",
    "from sklearn.model_selection import train_test_split\n",
    "from sklearn.metrics import classification_report\n",
    "from sklearn import datasets"
   ]
  },
  {
   "cell_type": "code",
   "execution_count": 18,
   "metadata": {},
   "outputs": [
    {
     "name": "stdout",
     "output_type": "stream",
     "text": [
      "loading MNIST (sample) dataset...\n",
      "samples: 1797, dim: 64\n"
     ]
    }
   ],
   "source": [
    "# load the MNIST dataset and apply min/max scaling to scale the\n",
    "# pixel intensity values to the range [0, 1] (each image is\n",
    "# represented by an 8 x 8 = 64-dim feature vector)\n",
    "print(\"loading MNIST (sample) dataset...\")\n",
    "digits = datasets.load_digits()\n",
    "data = digits.data.astype(\"float\")\n",
    "data = (data - data.min()) / (data.max() - data.min())\n",
    "print(\"samples: {}, dim: {}\".format(data.shape[0],\n",
    "data.shape[1]))\n",
    "# construct the training and testing splits\n",
    "(trainX, testX, trainY, testY) = train_test_split(data,\n",
    "digits.target, test_size=0.25)\n",
    "# convert the labels from integers to vectors: 1 = [0,1,0,0,0,0,0,0,0,0]\n",
    "lb=LabelBinarizer()\n",
    "trainY = LabelBinarizer().fit_transform(trainY)\n",
    "testY = lb.fit_transform(testY)"
   ]
  },
  {
   "cell_type": "code",
   "execution_count": 19,
   "metadata": {},
   "outputs": [
    {
     "data": {
      "text/plain": [
       "array([0.    , 0.    , 0.3125, 0.75  , 1.    , 0.4375, 0.    , 0.    ,\n",
       "       0.    , 0.3125, 0.875 , 0.25  , 0.5625, 0.9375, 0.3125, 0.    ,\n",
       "       0.    , 0.25  , 0.8125, 0.375 , 0.875 , 0.375 , 0.125 , 0.    ,\n",
       "       0.    , 0.0625, 0.875 , 1.    , 0.125 , 0.    , 0.    , 0.    ,\n",
       "       0.    , 0.1875, 0.9375, 0.75  , 0.5625, 0.    , 0.    , 0.    ,\n",
       "       0.    , 0.3125, 0.75  , 0.    , 0.625 , 0.4375, 0.    , 0.    ,\n",
       "       0.    , 0.1875, 0.9375, 0.25  , 0.125 , 0.9375, 0.    , 0.    ,\n",
       "       0.    , 0.    , 0.3125, 0.875 , 0.875 , 0.4375, 0.    , 0.    ])"
      ]
     },
     "execution_count": 19,
     "metadata": {},
     "output_type": "execute_result"
    }
   ],
   "source": [
    "trainX[3]"
   ]
  },
  {
   "cell_type": "code",
   "execution_count": 20,
   "metadata": {},
   "outputs": [
    {
     "data": {
      "image/png": "[encoded data removed]",
      "text/plain": [
       "<Figure size 432x288 with 4 Axes>"
      ]
     },
     "metadata": {
      "needs_background": "light"
     },
     "output_type": "display_data"
    }
   ],
   "source": [
    "for i in range(1,5):\n",
    "    plt.subplot(1,4,i)\n",
    "    plt.imshow(np.array(data[i]).reshape(8,8),cmap='gray')"
   ]
  },
  {
   "cell_type": "code",
   "execution_count": 42,
   "metadata": {},
   "outputs": [
    {
     "name": "stdout",
     "output_type": "stream",
     "text": [
      "training network...\n",
      "NN architecture: 64-32-16-10\n",
      "[Training: ] epoch= 1 , loss= 0.898531043392034\n",
      "[Training: ] epoch= 100 , loss= 0.0045939296757999395\n",
      "[Training: ] epoch= 200 , loss= 0.003125807936882842\n",
      "[Training: ] epoch= 300 , loss= 0.0025233257400791593\n",
      "[Training: ] epoch= 400 , loss= 0.0016620576617723676\n",
      "[Training: ] epoch= 500 , loss= 0.0008880568532984698\n",
      "[Training: ] epoch= 600 , loss= 0.000847639362902305\n",
      "[Training: ] epoch= 700 , loss= 0.0008258761572605949\n",
      "[Training: ] epoch= 800 , loss= 8.177655701132828e-05\n",
      "[Training: ] epoch= 900 , loss= 6.495160840665104e-05\n",
      "[Training: ] epoch= 1000 , loss= 5.5482651129582444e-05\n",
      "[Training: ] epoch= 1100 , loss= 4.866707166679998e-05\n",
      "[Training: ] epoch= 1200 , loss= 4.340851815795143e-05\n",
      "[Training: ] epoch= 1300 , loss= 3.919284197575439e-05\n",
      "[Training: ] epoch= 1400 , loss= 3.572417927803444e-05\n",
      "[Training: ] epoch= 1500 , loss= 3.281398193194769e-05\n",
      "evaluating network...\n"
     ]
    }
   ],
   "source": [
    "# train the network\n",
    "print(\"training network...\")\n",
    "#create a network object with two hidden layer h1 = 32 units and h2 = 16 units\n",
    "# ENTER YOUR CODE HERE\n",
    "nn = NeuralNetwork(layers=[64, 32, 16, 10], alpha=0.3)\n",
    "print(\"{}\".format(nn))\n",
    "# fit your network using 1500 epochs\n",
    "# ENTER YOUR CODE HERE\n",
    "losses2 = nn.fit(trainX,trainY, epochs=1500)\n",
    "# evaluate the network\n",
    "print(\"evaluating network...\")\n",
    "# test your network on the test data set (remember to set addBias to True)\n",
    "# ENTER YOUR CODE HERE\n"
   ]
  },
  {
   "cell_type": "code",
   "execution_count": 43,
   "metadata": {},
   "outputs": [
    {
     "name": "stdout",
     "output_type": "stream",
     "text": [
      "              precision    recall  f1-score   support\n",
      "\n",
      "           0       1.00      0.98      0.99        47\n",
      "           1       0.98      1.00      0.99        52\n",
      "           2       0.98      0.98      0.98        44\n",
      "           3       1.00      0.98      0.99        57\n",
      "           4       0.98      1.00      0.99        40\n",
      "           5       0.98      1.00      0.99        48\n",
      "           6       0.98      1.00      0.99        42\n",
      "           7       1.00      0.98      0.99        46\n",
      "           8       1.00      0.97      0.99        37\n",
      "           9       0.97      0.97      0.97        37\n",
      "\n",
      "    accuracy                           0.99       450\n",
      "   macro avg       0.99      0.99      0.99       450\n",
      "weighted avg       0.99      0.99      0.99       450\n",
      "\n"
     ]
    }
   ],
   "source": [
    "predictions = nn.predict(testX, addBias=True)\n",
    "# there is a value outputed on each of the output nodes. we choose the one with the highest\n",
    "# value to represent the predicted label\n",
    "predictions = predictions.argmax(axis=1)\n",
    "print(classification_report(testY.argmax(axis=1), predictions))"
   ]
  },
  {
   "cell_type": "code",
   "execution_count": 44,
   "metadata": {},
   "outputs": [],
   "source": [
    "# we now transform the labels of the test set back to integers from vectors for plotting purposes\n",
    "testY=lb.inverse_transform(testY)"
   ]
  },
  {
   "cell_type": "code",
   "execution_count": 45,
   "metadata": {},
   "outputs": [
    {
     "data": {
      "text/plain": [
       "<matplotlib.collections.PathCollection at 0x180ca163550>"
      ]
     },
     "execution_count": 45,
     "metadata": {},
     "output_type": "execute_result"
    },
    {
     "data": {
      "image/png": "[encoded data removed]",
      "text/plain": [
       "<Figure size 432x288 with 1 Axes>"
      ]
     },
     "metadata": {
      "needs_background": "light"
     },
     "output_type": "display_data"
    }
   ],
   "source": [
    "\n",
    "plt.scatter(np.arange(len(predictions)),testY-predictions)"
   ]
  },
  {
   "cell_type": "code",
   "execution_count": 46,
   "metadata": {},
   "outputs": [
    {
     "data": {
      "text/plain": [
       "[<matplotlib.lines.Line2D at 0x180ca1aa250>]"
      ]
     },
     "execution_count": 46,
     "metadata": {},
     "output_type": "execute_result"
    },
    {
     "data": {
      "image/png": "[encoded data removed]",
      "text/plain": [
       "<Figure size 432x288 with 1 Axes>"
      ]
     },
     "metadata": {
      "needs_background": "light"
     },
     "output_type": "display_data"
    }
   ],
   "source": [
    "# plot losses vs epochs\n",
    "plt.plot(np.concatenate(([0], np.arange(1,1500,100))),losses2)"
   ]
  },
  {
   "cell_type": "code",
   "execution_count": 78,
   "metadata": {},
   "outputs": [
    {
     "data": {
      "text/plain": [
       "<matplotlib.collections.PathCollection at 0x180ccb6bac0>"
      ]
     },
     "execution_count": 78,
     "metadata": {},
     "output_type": "execute_result"
    },
    {
     "data": {
      "image/png": "[encoded data removed]",
      "text/plain": [
       "<Figure size 432x288 with 1 Axes>"
      ]
     },
     "metadata": {
      "needs_background": "light"
     },
     "output_type": "display_data"
    }
   ],
   "source": [
    "import sklearn.datasets\n",
    "#  load a classification dataset from sklearn\n",
    "X, Y = sklearn.datasets.make_moons(200, noise=0.150)\n",
    "plt.scatter(X[:,0], X[:,1], s=42, c=Y, cmap=plt.cm.Set1)\n",
    "# y=Y.reshape(-1,1)"
   ]
  },
  {
   "cell_type": "code",
   "execution_count": 79,
   "metadata": {},
   "outputs": [
    {
     "data": {
      "text/plain": [
       "(200, 2)"
      ]
     },
     "execution_count": 79,
     "metadata": {},
     "output_type": "execute_result"
    }
   ],
   "source": [
    "X.shape"
   ]
  },
  {
   "cell_type": "code",
   "execution_count": 80,
   "metadata": {},
   "outputs": [
    {
     "data": {
      "text/plain": [
       "(1000, 2)"
      ]
     },
     "execution_count": 80,
     "metadata": {},
     "output_type": "execute_result"
    }
   ],
   "source": [
    "y=np.concatenate((y,np.logical_not(y).astype('int')),axis=1)\n",
    "y.shape"
   ]
  },
  {
   "cell_type": "code",
   "execution_count": 81,
   "metadata": {},
   "outputs": [
    {
     "name": "stdout",
     "output_type": "stream",
     "text": [
      "[Training: ] epoch= 1 , loss= 50.876715642142294\n",
      "[Training: ] epoch= 100 , loss= 62.85835399589027\n",
      "[Training: ] epoch= 200 , loss= 70.27227476564967\n",
      "[Training: ] epoch= 300 , loss= 73.51256901786105\n",
      "[Training: ] epoch= 400 , loss= 75.27136546337843\n",
      "[Training: ] epoch= 500 , loss= 76.2649134798911\n",
      "[Training: ] epoch= 600 , loss= 76.84633705303857\n",
      "[Training: ] epoch= 700 , loss= 77.19523255258943\n",
      "[Training: ] epoch= 800 , loss= 77.4079200946496\n",
      "[Training: ] epoch= 900 , loss= 77.53900358766316\n",
      "[Training: ] epoch= 1000 , loss= 77.62069385941365\n",
      "[Training: ] epoch= 1100 , loss= 77.67244333734726\n",
      "[Training: ] epoch= 1200 , loss= 77.70612579816186\n",
      "[Training: ] epoch= 1300 , loss= 77.72900059123076\n",
      "[Training: ] epoch= 1400 , loss= 77.74548567182626\n",
      "[Training: ] epoch= 1500 , loss= 77.75824651494338\n",
      "[Training: ] epoch= 1600 , loss= 77.76887291581545\n",
      "[Training: ] epoch= 1700 , loss= 77.7783003027854\n",
      "[Training: ] epoch= 1800 , loss= 77.78707061616473\n",
      "[Training: ] epoch= 1900 , loss= 77.79549229449559\n",
      "[Training: ] epoch= 2000 , loss= 77.80373718467918\n",
      "[Training: ] epoch= 2100 , loss= 77.81189842491636\n",
      "[Training: ] epoch= 2200 , loss= 77.82002449386474\n",
      "[Training: ] epoch= 2300 , loss= 77.8281389184592\n",
      "[Training: ] epoch= 2400 , loss= 77.83625149017018\n",
      "[Training: ] epoch= 2500 , loss= 77.84436453984286\n",
      "[Training: ] epoch= 2600 , loss= 77.85247639029261\n",
      "[Training: ] epoch= 2700 , loss= 77.86058322933611\n",
      "[Training: ] epoch= 2800 , loss= 77.8686801179599\n",
      "[Training: ] epoch= 2900 , loss= 77.87676153590826\n",
      "[Training: ] epoch= 3000 , loss= 77.88482168563523\n",
      "[Training: ] epoch= 3100 , loss= 77.89285467252412\n",
      "[Training: ] epoch= 3200 , loss= 77.90085462217931\n",
      "[Training: ] epoch= 3300 , loss= 77.90881576485194\n",
      "[Training: ] epoch= 3400 , loss= 77.91673250112373\n",
      "[Training: ] epoch= 3500 , loss= 77.92459945511055\n",
      "[Training: ] epoch= 3600 , loss= 77.93241151782017\n",
      "[Training: ] epoch= 3700 , loss= 77.94016388183068\n",
      "[Training: ] epoch= 3800 , loss= 77.9478520679613\n",
      "[Training: ] epoch= 3900 , loss= 77.95547194455385\n",
      "[Training: ] epoch= 4000 , loss= 77.96301974004078\n",
      "[Training: ] epoch= 4100 , loss= 77.97049204956184\n",
      "[Training: ] epoch= 4200 , loss= 77.97788583643184\n",
      "[Training: ] epoch= 4300 , loss= 77.9851984292616\n",
      "[Training: ] epoch= 4400 , loss= 77.99242751549745\n",
      "[Training: ] epoch= 4500 , loss= 77.99957113208586\n",
      "[Training: ] epoch= 4600 , loss= 78.00662765389643\n",
      "[Training: ] epoch= 4700 , loss= 78.0135957804484\n",
      "[Training: ] epoch= 4800 , loss= 78.02047452141734\n",
      "[Training: ] epoch= 4900 , loss= 78.02726318131751\n",
      "[Training: ] epoch= 5000 , loss= 78.03396134368415\n",
      "[Training: ] epoch= 5100 , loss= 78.04056885502888\n",
      "[Training: ] epoch= 5200 , loss= 78.04708580877687\n",
      "[Training: ] epoch= 5300 , loss= 78.05351252936204\n",
      "[Training: ] epoch= 5400 , loss= 78.05984955660722\n",
      "[Training: ] epoch= 5500 , loss= 78.0660976304931\n",
      "[Training: ] epoch= 5600 , loss= 78.07225767638771\n",
      "[Training: ] epoch= 5700 , loss= 78.07833079079253\n",
      "[Training: ] epoch= 5800 , loss= 78.0843182276381\n",
      "[Training: ] epoch= 5900 , loss= 78.090221385155\n",
      "[Training: ] epoch= 6000 , loss= 78.09604179332814\n",
      "[Training: ] epoch= 6100 , loss= 78.10178110193986\n",
      "[Training: ] epoch= 6200 , loss= 78.10744106919815\n",
      "[Training: ] epoch= 6300 , loss= 78.11302355093915\n",
      "[Training: ] epoch= 6400 , loss= 78.11853049039655\n",
      "[Training: ] epoch= 6500 , loss= 78.12396390851828\n",
      "[Training: ] epoch= 6600 , loss= 78.12932589481659\n",
      "[Training: ] epoch= 6700 , loss= 78.13461859873551\n",
      "[Training: ] epoch= 6800 , loss= 78.13984422151412\n",
      "[Training: ] epoch= 6900 , loss= 78.14500500852982\n",
      "[Training: ] epoch= 7000 , loss= 78.15010324210121\n",
      "[Training: ] epoch= 7100 , loss= 78.15514123473427\n",
      "[Training: ] epoch= 7200 , loss= 78.1601213227926\n",
      "[Training: ] epoch= 7300 , loss= 78.16504586057428\n",
      "[Training: ] epoch= 7400 , loss= 78.16991721477818\n",
      "[Training: ] epoch= 7500 , loss= 78.17473775934378\n",
      "[Training: ] epoch= 7600 , loss= 78.17950987064768\n",
      "[Training: ] epoch= 7700 , loss= 78.18423592303964\n",
      "[Training: ] epoch= 7800 , loss= 78.18891828470726\n",
      "[Training: ] epoch= 7900 , loss= 78.19355931384753\n",
      "[Training: ] epoch= 8000 , loss= 78.19816135513715\n",
      "[Training: ] epoch= 8100 , loss= 78.20272673648242\n",
      "[Training: ] epoch= 8200 , loss= 78.20725776603732\n",
      "[Training: ] epoch= 8300 , loss= 78.21175672947396\n",
      "[Training: ] epoch= 8400 , loss= 78.21622588749364\n",
      "[Training: ] epoch= 8500 , loss= 78.22066747356241\n",
      "[Training: ] epoch= 8600 , loss= 78.22508369185886\n",
      "[Training: ] epoch= 8700 , loss= 78.22947671542262\n",
      "[Training: ] epoch= 8800 , loss= 78.23384868448589\n",
      "[Training: ] epoch= 8900 , loss= 78.23820170497811\n",
      "[Training: ] epoch= 9000 , loss= 78.24253784718995\n",
      "[Training: ] epoch= 9100 , loss= 78.24685914458234\n",
      "[Training: ] epoch= 9200 , loss= 78.25116759272882\n",
      "[Training: ] epoch= 9300 , loss= 78.25546514837717\n",
      "[Training: ] epoch= 9400 , loss= 78.25975372861764\n",
      "[Training: ] epoch= 9500 , loss= 78.26403521014437\n",
      "[Training: ] epoch= 9600 , loss= 78.2683114285983\n",
      "[Training: ] epoch= 9700 , loss= 78.27258417797644\n",
      "[Training: ] epoch= 9800 , loss= 78.27685521009708\n",
      "[Training: ] epoch= 9900 , loss= 78.28112623410514\n",
      "[Training: ] epoch= 10000 , loss= 78.28539891600755\n"
     ]
    }
   ],
   "source": [
    "# train a network of shape with a single hidden layer of 3 units\n",
    "# (not input layer and not output layer) \n",
    "# and learning rate of 0.01\n",
    "# ENTER YOUR CODE HERE\n",
    "nn = NeuralNetwork(layers=[2, 3, 1], alpha=0.01)\n",
    "# fit model using 10000 epochs\n",
    "# ENTER YOUR CODE HERE\n",
    "\n",
    "losses3 = nn.fit(X,Y, epochs=10000)"
   ]
  },
  {
   "cell_type": "code",
   "execution_count": 82,
   "metadata": {},
   "outputs": [
    {
     "ename": "IndexError",
     "evalue": "index 1 is out of bounds for axis 1 with size 1",
     "output_type": "error",
     "traceback": [
      "\u001b[1;31m---------------------------------------------------------------------------\u001b[0m",
      "\u001b[1;31mIndexError\u001b[0m                                Traceback (most recent call last)",
      "\u001b[1;32me:\\Project\\dsr32\\11Backpropogation\\Practival_4-NN.ipynb Cell 26\u001b[0m in \u001b[0;36m<cell line: 11>\u001b[1;34m()\u001b[0m\n\u001b[0;32m      <a href='vscode-notebook-cell:/e%3A/Project/dsr32/11Backpropogation/Practival_4-NN.ipynb#X33sZmlsZQ%3D%3D?line=7'>8</a>\u001b[0m Z \u001b[39m=\u001b[39m nn\u001b[39m.\u001b[39mpredict(np\u001b[39m.\u001b[39mc_[xx\u001b[39m.\u001b[39mravel(), yy\u001b[39m.\u001b[39mravel()],addBias\u001b[39m=\u001b[39m\u001b[39mTrue\u001b[39;00m)\n\u001b[0;32m     <a href='vscode-notebook-cell:/e%3A/Project/dsr32/11Backpropogation/Practival_4-NN.ipynb#X33sZmlsZQ%3D%3D?line=9'>10</a>\u001b[0m \u001b[39m# Plot the contour and training examples\u001b[39;00m\n\u001b[1;32m---> <a href='vscode-notebook-cell:/e%3A/Project/dsr32/11Backpropogation/Practival_4-NN.ipynb#X33sZmlsZQ%3D%3D?line=10'>11</a>\u001b[0m plt\u001b[39m.\u001b[39mcontourf(xx, yy, Z[:,\u001b[39m1\u001b[39;49m]\u001b[39m.\u001b[39mreshape(xx\u001b[39m.\u001b[39mshape), cmap\u001b[39m=\u001b[39mplt\u001b[39m.\u001b[39mcm\u001b[39m.\u001b[39mSet1, alpha\u001b[39m=\u001b[39m\u001b[39m0.2\u001b[39m)\n\u001b[0;32m     <a href='vscode-notebook-cell:/e%3A/Project/dsr32/11Backpropogation/Practival_4-NN.ipynb#X33sZmlsZQ%3D%3D?line=11'>12</a>\u001b[0m plt\u001b[39m.\u001b[39mscatter(X[:, \u001b[39m0\u001b[39m], X[:, \u001b[39m1\u001b[39m], c\u001b[39m=\u001b[39mY, cmap\u001b[39m=\u001b[39mplt\u001b[39m.\u001b[39mcm\u001b[39m.\u001b[39mSet1)\n",
      "\u001b[1;31mIndexError\u001b[0m: index 1 is out of bounds for axis 1 with size 1"
     ]
    }
   ],
   "source": [
    "# Set min and max values and give it some padding\n",
    "x_min, x_max = X[:, 0].min() - .5, X[:, 0].max() + .5\n",
    "y_min, y_max = X[:, 1].min() - .5, X[:, 1].max() + .5\n",
    "h = 0.01\n",
    "# Generate a grid of points with distance h between them\n",
    "xx, yy = np.meshgrid(np.arange(x_min, x_max, h), np.arange(y_min, y_max, h))\n",
    "# Predict the function value for the whole gid\n",
    "Z = nn.predict(np.c_[xx.ravel(), yy.ravel()],addBias=True)\n",
    "\n",
    "# Plot the contour and training examples\n",
    "plt.contourf(xx, yy, Z[:,1].reshape(xx.shape), cmap=plt.cm.Set1, alpha=0.2)\n",
    "plt.scatter(X[:, 0], X[:, 1], c=Y, cmap=plt.cm.Set1)"
   ]
  },
  {
   "cell_type": "markdown",
   "metadata": {},
   "source": [
    "### 1. change the learnig rate (10 times bigger), did the loss decrease faster?\n",
    "### 2. try different NN architecutres and see how performance chages"
   ]
  },
  {
   "cell_type": "markdown",
   "metadata": {},
   "source": [
    "### Regression Problem"
   ]
  },
  {
   "cell_type": "code",
   "execution_count": 70,
   "metadata": {},
   "outputs": [],
   "source": [
    "X = np.random.uniform(-1, 1, size=1000)\n",
    "\n",
    "y= np.power(X,2)+ np.random.normal(0, 1, size=X.shape[0]) * 0.2\n",
    "X = X.reshape(-1,1)\n",
    "y = y.reshape(-1,1)"
   ]
  },
  {
   "cell_type": "code",
   "execution_count": 71,
   "metadata": {},
   "outputs": [
    {
     "data": {
      "text/plain": [
       "<matplotlib.collections.PathCollection at 0x180cc9d1d00>"
      ]
     },
     "execution_count": 71,
     "metadata": {},
     "output_type": "execute_result"
    },
    {
     "data": {
      "image/png": "[encoded data removed]",
      "text/plain": [
       "<Figure size 432x288 with 1 Axes>"
      ]
     },
     "metadata": {
      "needs_background": "light"
     },
     "output_type": "display_data"
    }
   ],
   "source": [
    "plt.scatter(X,y)"
   ]
  },
  {
   "cell_type": "code",
   "execution_count": 73,
   "metadata": {},
   "outputs": [
    {
     "name": "stdout",
     "output_type": "stream",
     "text": [
      "[Training: ] epoch= 1 , loss= 0.1322485246359219\n",
      "[Training: ] epoch= 100 , loss= 0.09344657106937487\n",
      "[Training: ] epoch= 200 , loss= 0.04761885901858496\n",
      "[Training: ] epoch= 300 , loss= 0.0434484240279223\n",
      "[Training: ] epoch= 400 , loss= 0.04283275994333285\n",
      "[Training: ] epoch= 500 , loss= 0.04267051300226848\n",
      "[Training: ] epoch= 600 , loss= 0.04259876789352701\n",
      "[Training: ] epoch= 700 , loss= 0.04255336185715836\n",
      "[Training: ] epoch= 800 , loss= 0.042519005217179176\n",
      "[Training: ] epoch= 900 , loss= 0.04249065942592729\n",
      "[Training: ] epoch= 1000 , loss= 0.0424661314483548\n"
     ]
    }
   ],
   "source": [
    "nn = NeuralNetwork(layers=[1, 6, 1], alpha=0.01)\n",
    "losses4 = nn.fit(X,y)"
   ]
  },
  {
   "cell_type": "code",
   "execution_count": 74,
   "metadata": {},
   "outputs": [
    {
     "data": {
      "text/plain": [
       "[<matplotlib.lines.Line2D at 0x180cca48b50>]"
      ]
     },
     "execution_count": 74,
     "metadata": {},
     "output_type": "execute_result"
    },
    {
     "data": {
      "image/png": "[encoded data removed]",
      "text/plain": [
       "<Figure size 432x288 with 1 Axes>"
      ]
     },
     "metadata": {
      "needs_background": "light"
     },
     "output_type": "display_data"
    }
   ],
   "source": [
    "plt.plot(losses4)"
   ]
  },
  {
   "cell_type": "code",
   "execution_count": 75,
   "metadata": {},
   "outputs": [
    {
     "data": {
      "text/plain": [
       "[<matplotlib.lines.Line2D at 0x180cca8d550>]"
      ]
     },
     "execution_count": 75,
     "metadata": {},
     "output_type": "execute_result"
    },
    {
     "data": {
      "image/png": "[encoded data removed]",
      "text/plain": [
       "<Figure size 432x288 with 1 Axes>"
      ]
     },
     "metadata": {
      "needs_background": "light"
     },
     "output_type": "display_data"
    }
   ],
   "source": [
    "plt.scatter(X,y)\n",
    "y_hat =  nn.predict(np.sort(X,axis=0),addBias=True)\n",
    "plt.plot(np.sort(X,axis=0),y_hat,c='red')"
   ]
  },
  {
   "cell_type": "code",
   "execution_count": 24,
   "metadata": {},
   "outputs": [
    {
     "data": {
      "text/plain": [
       "(1000, 1)"
      ]
     },
     "execution_count": 24,
     "metadata": {},
     "output_type": "execute_result"
    }
   ],
   "source": [
    "X.shape"
   ]
  },
  {
   "cell_type": "markdown",
   "metadata": {},
   "source": [
    "### try different NN architecutres and see how performance chages \n",
    "### try different learning rates and see if you can improve the results"
   ]
  },
  {
   "cell_type": "code",
   "execution_count": null,
   "metadata": {},
   "outputs": [],
   "source": []
  },
  {
   "cell_type": "code",
   "execution_count": null,
   "metadata": {},
   "outputs": [],
   "source": []
  },
  {
   "cell_type": "markdown",
   "metadata": {},
   "source": [
    "### Change the Neuralnetwrok class such that you use the momentum rule for weights update. retrain the MNIST dataset.  How did the training go? are the losses smaller is the accuracy the same? what does it mean?"
   ]
  },
  {
   "cell_type": "code",
   "execution_count": 37,
   "metadata": {},
   "outputs": [],
   "source": []
  },
  {
   "cell_type": "code",
   "execution_count": 38,
   "metadata": {},
   "outputs": [
    {
     "name": "stdout",
     "output_type": "stream",
     "text": [
      "loading MNIST (sample) dataset...\n",
      "samples: 1797, dim: 64\n"
     ]
    }
   ],
   "source": [
    "# load the MNIST dataset and apply min/max scaling to scale the\n",
    "# pixel intensity values to the range [0, 1] (each image is\n",
    "# represented by an 8 x 8 = 64-dim feature vector)\n",
    "print(\"loading MNIST (sample) dataset...\")\n",
    "digits = datasets.load_digits()\n",
    "data = digits.data.astype(\"float\")\n",
    "data = (data - data.min()) / (data.max() - data.min())\n",
    "print(\"samples: {}, dim: {}\".format(data.shape[0],\n",
    "data.shape[1]))\n",
    "# construct the training and testing splits\n",
    "(trainX, testX, trainY, testY) = train_test_split(data,\n",
    "digits.target, test_size=0.25)\n",
    "# convert the labels from integers to vectors:1 = [0,1,0,0,0,0,0,0,0,0]\n",
    "lb=LabelBinarizer()\n",
    "trainY =lb.fit_transform(trainY)\n",
    "testY = lb.transform(testY)"
   ]
  },
  {
   "cell_type": "code",
   "execution_count": 36,
   "metadata": {},
   "outputs": [
    {
     "name": "stdout",
     "output_type": "stream",
     "text": [
      "training network...\n"
     ]
    },
    {
     "ename": "TypeError",
     "evalue": "data type not understood",
     "output_type": "error",
     "traceback": [
      "\u001b[0;31m---------------------------------------------------------------------------\u001b[0m",
      "\u001b[0;31mTypeError\u001b[0m                                 Traceback (most recent call last)",
      "\u001b[0;32m<ipython-input-36-937cf186f68b>\u001b[0m in \u001b[0;36m<module>\u001b[0;34m\u001b[0m\n\u001b[1;32m      4\u001b[0m \u001b[0;31m# use alpha=0.5 and gamma=0.5\u001b[0m\u001b[0;34m\u001b[0m\u001b[0;34m\u001b[0m\u001b[0;34m\u001b[0m\u001b[0m\n\u001b[1;32m      5\u001b[0m \u001b[0;31m# ENTER YOUR CODE HERE\u001b[0m\u001b[0;34m\u001b[0m\u001b[0;34m\u001b[0m\u001b[0;34m\u001b[0m\u001b[0m\n\u001b[0;32m----> 6\u001b[0;31m \u001b[0mnn\u001b[0m \u001b[0;34m=\u001b[0m \u001b[0mNeuralNetwork\u001b[0m\u001b[0;34m(\u001b[0m\u001b[0;34m[\u001b[0m\u001b[0;36m64\u001b[0m\u001b[0;34m,\u001b[0m\u001b[0;36m32\u001b[0m\u001b[0;34m,\u001b[0m\u001b[0;36m16\u001b[0m\u001b[0;34m,\u001b[0m\u001b[0;36m10\u001b[0m\u001b[0;34m]\u001b[0m\u001b[0;34m,\u001b[0m \u001b[0malpha\u001b[0m\u001b[0;34m=\u001b[0m\u001b[0;36m0.5\u001b[0m\u001b[0;34m,\u001b[0m \u001b[0mgamma\u001b[0m\u001b[0;34m=\u001b[0m\u001b[0;36m0.5\u001b[0m\u001b[0;34m)\u001b[0m\u001b[0;34m\u001b[0m\u001b[0;34m\u001b[0m\u001b[0m\n\u001b[0m\u001b[1;32m      7\u001b[0m \u001b[0mprint\u001b[0m\u001b[0;34m(\u001b[0m\u001b[0;34m\"{}\"\u001b[0m\u001b[0;34m.\u001b[0m\u001b[0mformat\u001b[0m\u001b[0;34m(\u001b[0m\u001b[0mnn\u001b[0m\u001b[0;34m)\u001b[0m\u001b[0;34m)\u001b[0m\u001b[0;34m\u001b[0m\u001b[0;34m\u001b[0m\u001b[0m\n\u001b[1;32m      8\u001b[0m \u001b[0;31m# fit your network 1500 ephocs\u001b[0m\u001b[0;34m\u001b[0m\u001b[0;34m\u001b[0m\u001b[0;34m\u001b[0m\u001b[0m\n",
      "\u001b[0;32m<ipython-input-34-11368438ec38>\u001b[0m in \u001b[0;36m__init__\u001b[0;34m(self, layers, alpha, gamma)\u001b[0m\n\u001b[1;32m     16\u001b[0m             \u001b[0;31m# adding an extra node for the bias\u001b[0m\u001b[0;34m\u001b[0m\u001b[0;34m\u001b[0m\u001b[0;34m\u001b[0m\u001b[0m\n\u001b[1;32m     17\u001b[0m             \u001b[0mw\u001b[0m \u001b[0;34m=\u001b[0m \u001b[0mnp\u001b[0m\u001b[0;34m.\u001b[0m\u001b[0mrandom\u001b[0m\u001b[0;34m.\u001b[0m\u001b[0mrandn\u001b[0m\u001b[0;34m(\u001b[0m\u001b[0mlayers\u001b[0m\u001b[0;34m[\u001b[0m\u001b[0mi\u001b[0m\u001b[0;34m]\u001b[0m \u001b[0;34m+\u001b[0m \u001b[0;36m1\u001b[0m\u001b[0;34m,\u001b[0m \u001b[0mlayers\u001b[0m\u001b[0;34m[\u001b[0m\u001b[0mi\u001b[0m \u001b[0;34m+\u001b[0m \u001b[0;36m1\u001b[0m\u001b[0;34m]\u001b[0m \u001b[0;34m+\u001b[0m \u001b[0;36m1\u001b[0m\u001b[0;34m)\u001b[0m\u001b[0;34m\u001b[0m\u001b[0;34m\u001b[0m\u001b[0m\n\u001b[0;32m---> 18\u001b[0;31m             \u001b[0mv\u001b[0m \u001b[0;34m=\u001b[0m \u001b[0mnp\u001b[0m\u001b[0;34m.\u001b[0m\u001b[0mzeros\u001b[0m\u001b[0;34m(\u001b[0m\u001b[0mlayers\u001b[0m\u001b[0;34m[\u001b[0m\u001b[0mi\u001b[0m\u001b[0;34m]\u001b[0m \u001b[0;34m+\u001b[0m \u001b[0;36m1\u001b[0m\u001b[0;34m,\u001b[0m \u001b[0mlayers\u001b[0m\u001b[0;34m[\u001b[0m\u001b[0mi\u001b[0m \u001b[0;34m+\u001b[0m \u001b[0;36m1\u001b[0m\u001b[0;34m]\u001b[0m \u001b[0;34m+\u001b[0m \u001b[0;36m1\u001b[0m\u001b[0;34m)\u001b[0m\u001b[0;34m\u001b[0m\u001b[0;34m\u001b[0m\u001b[0m\n\u001b[0m\u001b[1;32m     19\u001b[0m             \u001b[0mself\u001b[0m\u001b[0;34m.\u001b[0m\u001b[0mW\u001b[0m\u001b[0;34m.\u001b[0m\u001b[0mappend\u001b[0m\u001b[0;34m(\u001b[0m\u001b[0mw\u001b[0m \u001b[0;34m/\u001b[0m \u001b[0mnp\u001b[0m\u001b[0;34m.\u001b[0m\u001b[0msqrt\u001b[0m\u001b[0;34m(\u001b[0m\u001b[0mlayers\u001b[0m\u001b[0;34m[\u001b[0m\u001b[0mi\u001b[0m\u001b[0;34m]\u001b[0m\u001b[0;34m)\u001b[0m\u001b[0;34m)\u001b[0m\u001b[0;34m\u001b[0m\u001b[0;34m\u001b[0m\u001b[0m\n\u001b[1;32m     20\u001b[0m             \u001b[0mself\u001b[0m\u001b[0;34m.\u001b[0m\u001b[0mV\u001b[0m\u001b[0;34m.\u001b[0m\u001b[0mappend\u001b[0m\u001b[0;34m(\u001b[0m\u001b[0mv\u001b[0m\u001b[0;34m)\u001b[0m\u001b[0;34m\u001b[0m\u001b[0;34m\u001b[0m\u001b[0m\n",
      "\u001b[0;31mTypeError\u001b[0m: data type not understood"
     ]
    }
   ],
   "source": [
    "# train the network\n",
    "print(\"training network...\")\n",
    "#create a network object with two hidden layer h1 = 32 units and h2 = 16 units\n",
    "# use alpha=0.5 and gamma=0.5\n",
    "# ENTER YOUR CODE HERE\n",
    "nn = NeuralNetwork([64,32,16,10], alpha=0.5, gamma=0.5)\n",
    "print(\"{}\".format(nn))\n",
    "# fit your network 1500 ephocs\n",
    "# ENTER YOUR CODE HERE\n",
    "losses5 = \n",
    "# evaluate the network\n",
    "print(\"evaluating network...\")\n",
    "# make prediction on test set\n",
    "# ENTER YOUR CODE HERE\n",
    "predictions2 = \n",
    "predictions2 = predictions2.argmax(axis=1)\n",
    "print(classification_report(testY.argmax(axis=1), predictions2))"
   ]
  },
  {
   "cell_type": "code",
   "execution_count": 34,
   "metadata": {},
   "outputs": [],
   "source": [
    "#plot losses with and without momentum"
   ]
  },
  {
   "cell_type": "code",
   "execution_count": null,
   "metadata": {},
   "outputs": [],
   "source": [
    "# try different gamma values"
   ]
  },
  {
   "cell_type": "code",
   "execution_count": null,
   "metadata": {},
   "outputs": [],
   "source": []
  },
  {
   "cell_type": "code",
   "execution_count": null,
   "metadata": {},
   "outputs": [],
   "source": []
  },
  {
   "cell_type": "code",
   "execution_count": null,
   "metadata": {},
   "outputs": [],
   "source": []
  }
 ],
 "metadata": {
  "kernelspec": {
   "display_name": "Python 3.9.12 ('base')",
   "language": "python",
   "name": "python3"
  },
  "language_info": {
   "codemirror_mode": {
    "name": "ipython",
    "version": 3
   },
   "file_extension": ".py",
   "mimetype": "text/x-python",
   "name": "python",
   "nbconvert_exporter": "python",
   "pygments_lexer": "ipython3",
   "version": "3.9.12"
  },
  "latex_envs": {
   "LaTeX_envs_menu_present": true,
   "autoclose": false,
   "autocomplete": true,
   "bibliofile": "biblio.bib",
   "cite_by": "apalike",
   "current_citInitial": 1,
   "eqLabelWithNumbers": true,
   "eqNumInitial": 1,
   "hotkeys": {
    "equation": "Ctrl-E",
    "itemize": "Ctrl-I"
   },
   "labels_anchors": false,
   "latex_user_defs": false,
   "report_style_numbering": false,
   "user_envs_cfg": false
  },
  "vscode": {
   "interpreter": {
    "hash": "2f18dd2cd69379a5e7e03e775ee465bc8ba64293217bea5993fcb033d5079037"
   }
  }
 },
 "nbformat": 4,
 "nbformat_minor": 2
}
