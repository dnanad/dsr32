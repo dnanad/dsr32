{
 "cells": [
  {
   "cell_type": "markdown",
   "metadata": {},
   "source": [
    "# DSR - Practical 1 - Perceptron\n",
    "\n",
    "## perceptron and the delta rule\n",
    "\n",
    "#### Perceptron training:\n",
    "1. Initialize weights vector with small random numbers\n",
    "2. Repeat until convergence:\n",
    "    Loop over feature vector (𝑥j) and labels (li) in training set D.\n",
    "    Take 𝑥 and pass it through the perceptron, calculating the output values: \n",
    "    $$ y_{j}=w(t)\\cdot x_{j}=ƒ(w(t)){x_{j}}$$\n",
    "    Update weights: \n",
    "    $$ w_{i}(t+1)=w_{i}(t)+\\alpha(l_{j}-y_{j})x_{j}$$  \n",
    "    for all 0 <= i < n\n",
    "3. Terminate criterion"
   ]
  },
  {
   "cell_type": "code",
   "execution_count": 1,
   "metadata": {},
   "outputs": [],
   "source": [
    "import numpy as np\n",
    "import matplotlib.pyplot as plt"
   ]
  },
  {
   "cell_type": "code",
   "execution_count": 2,
   "metadata": {},
   "outputs": [
    {
     "data": {
      "text/plain": [
       "array([ 0.18279216, -0.50227646,  0.59622321, -0.28000422, -0.30458207])"
      ]
     },
     "execution_count": 2,
     "metadata": {},
     "output_type": "execute_result"
    }
   ],
   "source": [
    "N = 5\n",
    "np.random.randn(N) / np.sqrt(N)"
   ]
  },
  {
   "cell_type": "markdown",
   "metadata": {},
   "source": [
    "### Update the perceptron class where it sais: # ENTER YOUR CODE HERE"
   ]
  },
  {
   "cell_type": "markdown",
   "metadata": {},
   "source": [
    "# Class\n",
    "- i = 3, then i is an object\n",
    "- import BlaBlaBla\n",
    "- __init__ initiats few variables\n",
    "- self is available through out\n",
    "- then different methods like functions\n",
    "- the following method can be used for only linearly seprable classification problem"
   ]
  },
  {
   "cell_type": "code",
   "execution_count": 75,
   "metadata": {},
   "outputs": [],
   "source": [
    "class Perceptron:\n",
    "    # N is the length of are input feature \n",
    "    # alpha learning rate\n",
    "    def __init__(self, N, alpha=0.1):\n",
    "        # initialize the weight matrix and store the learning rate\n",
    "        self.W = np.random.randn(N) / np.sqrt(N) # normalizing the weigts \n",
    "        self.N = N\n",
    "        self.alpha = alpha\n",
    "\n",
    "    # def sigmoid(x):\n",
    "    #     return 1/(1+np.exp(-x))   \n",
    "        \n",
    "    def step(self, x):\n",
    "        # apply a step activation function\n",
    "        # ENTER YOUR CODE HERE\n",
    "        return 1 if x > 0 else 0\n",
    "        # if x <= 0:\n",
    "        #     return 0\n",
    "        # else:\n",
    "        #     return 1 \n",
    "    \n",
    "    def fit(self, X, y, epochs=10, addBias=True):\n",
    "        # insert a column of 1's as the last entry in the feature\n",
    "        # matrix -- this little trick allows us to treat the bias\n",
    "        # as a trainable parameter within the weight matrix\n",
    "        print(\"Dimension of the input:\", self.W.shape[0])\n",
    "        if addBias:\n",
    "            print(addBias)\n",
    "            X = np.c_[X, np.ones((X.shape[0]))]\n",
    "            self.W = np.random.randn(self.N+1) / np.sqrt(self.N)\n",
    "            print(\"Dimension of the input after adding the bias:\", self.W.shape[0])# dimension increses by 1 since we added the bias\n",
    "        \n",
    "        # loop over the desired number of epochs\n",
    "        w = self.W\n",
    "        \n",
    "        for epoch in np.arange(0, epochs):\n",
    "            # loop over each individual data point\n",
    "                for (x, target) in zip(X, y):\n",
    "                # take the dot product between the input features\n",
    "                # and the weight matrix, then pass this value\n",
    "                # through the step function to obtain the prediction\n",
    "                    \n",
    "                    # ENTER YOUR CODE HERE FOR \n",
    "                    net = np.dot(x, self.W)\n",
    "                \n",
    "                    p = self.step(net)\n",
    "                    # perform weight update if prediction\n",
    "                    # does not match trget\n",
    "                    if p != target:\n",
    "                        # calculate delta\n",
    "                        delta =  target - p\n",
    "                        # update the weight matrix\n",
    "                        # ENTER YOUR CODE HERE\n",
    "                        self.W = self.W + self.alpha * delta * x\n",
    "                        w = np.append(w, self.W)\n",
    "                                                \n",
    "        return w\n",
    "    def predict(self, X, addBias=True):\n",
    "        # ensure our input is a matrix\n",
    "        X = np.atleast_2d(X)\n",
    "        # check to see if the bias column should be added\n",
    "        if addBias:\n",
    "            # insert a column of 1's as the last entry in the feature\n",
    "            # matrix (bias)\n",
    "            X = np.c_[X, np.ones((X.shape[0]))]\n",
    "            # take the dot product between the input features and the\n",
    "            # weight matrix, then pass the value through the step\n",
    "            # function\n",
    "        return self.step(np.dot(X, self.W))\n",
    "    "
   ]
  },
  {
   "cell_type": "markdown",
   "metadata": {},
   "source": [
    "## Logical OR dataset"
   ]
  },
  {
   "cell_type": "code",
   "execution_count": 76,
   "metadata": {},
   "outputs": [
    {
     "name": "stdout",
     "output_type": "stream",
     "text": [
      "training perceptron...\n",
      "Dimension of the input: 2\n"
     ]
    },
    {
     "data": {
      "text/plain": [
       "array([0.36334882, 0.67570333])"
      ]
     },
     "execution_count": 76,
     "metadata": {},
     "output_type": "execute_result"
    }
   ],
   "source": [
    "# construct the OR dataset\n",
    "X = np.array([[0, 0], [0, 1], [1, 0], [1, 1]])\n",
    "y = np.array([[0], [1], [1], [1]])\n",
    "\n",
    "# define our perceptron and train it\n",
    "print(\"training perceptron...\")\n",
    "p = Perceptron(X.shape[1], alpha=0.1)\n",
    "p.fit(X, y, epochs=20,addBias=False)"
   ]
  },
  {
   "cell_type": "code",
   "execution_count": 77,
   "metadata": {},
   "outputs": [
    {
     "name": "stdout",
     "output_type": "stream",
     "text": [
      "testing perceptron...\n",
      "data=[0 0], true_label=0, pred=0\n",
      "data=[0 1], true_label=1, pred=1\n",
      "data=[1 0], true_label=1, pred=1\n",
      "data=[1 1], true_label=1, pred=1\n"
     ]
    }
   ],
   "source": [
    "# now that our perceptron is trained we can evaluate it\n",
    "print(\"testing perceptron...\")\n",
    "\n",
    "# now that our network is trained, loop over the data points\n",
    "for (x, target) in zip(X, y):\n",
    "    # make a prediction on the data point and display the result\n",
    "    # to our console\n",
    "    pred = p.predict(x,addBias=False)\n",
    "    print(\"data={}, true_label={}, pred={}\".format(x, target[0], pred))"
   ]
  },
  {
   "cell_type": "markdown",
   "metadata": {},
   "source": [
    "## logical AND dataset"
   ]
  },
  {
   "cell_type": "code",
   "execution_count": 78,
   "metadata": {},
   "outputs": [],
   "source": [
    "# np.shape(X)"
   ]
  },
  {
   "cell_type": "code",
   "execution_count": 79,
   "metadata": {},
   "outputs": [
    {
     "name": "stdout",
     "output_type": "stream",
     "text": [
      "training perceptron...\n",
      "Dimension of the input: 2\n",
      "data=[0 0], true_label=0, pred=0\n",
      "data=[0 1], true_label=0, pred=1\n",
      "data=[1 0], true_label=0, pred=1\n",
      "data=[1 1], true_label=1, pred=1\n"
     ]
    }
   ],
   "source": [
    "# construct the AND dataset\n",
    "X = np.array([[0, 0], [0, 1], [1, 0], [1, 1]])\n",
    "y = np.array([[0], [0], [0], [1]])\n",
    "\n",
    "# create a perceptron instance and fit it to the above dataset\n",
    "### ENTER YOUR CODE HERE\n",
    "# define our perceptron and train it\n",
    "print(\"training perceptron...\")\n",
    "p = Perceptron(X.shape[1], alpha=0.1)\n",
    "p.fit(X, y, epochs=200,addBias=False)\n",
    "\n",
    "# now that our network is trained, loop over the data points\n",
    "for (x, target) in zip(X, y):\n",
    "    # make a prediction on the data point and display the result\n",
    "    # to our console\n",
    "    pred = p.predict(x,addBias=False)\n",
    "    print(\"data={}, true_label={}, pred={}\".format(\n",
    "        x, target[0], pred))\n"
   ]
  },
  {
   "cell_type": "markdown",
   "metadata": {},
   "source": [
    "## did it work?\n",
    "### try changing the addBias to True and see if this helps.\n",
    "#### what is this bias parameter???"
   ]
  },
  {
   "cell_type": "code",
   "execution_count": 80,
   "metadata": {},
   "outputs": [
    {
     "name": "stdout",
     "output_type": "stream",
     "text": [
      "training perceptron...\n",
      "Dimension of the input: 2\n",
      "True\n",
      "Dimension of the input after adding the bias: 3\n"
     ]
    },
    {
     "data": {
      "text/plain": [
       "array([ 0.82992661,  0.44257468, -0.23758522,  0.82992661,  0.34257468,\n",
       "       -0.33758522,  0.72992661,  0.34257468, -0.43758522,  0.62992661,\n",
       "        0.34257468, -0.53758522,  0.52992661,  0.34257468, -0.63758522])"
      ]
     },
     "execution_count": 80,
     "metadata": {},
     "output_type": "execute_result"
    }
   ],
   "source": [
    "# ENTER YOUR CODE HERE\n",
    "# construct the AND dataset\n",
    "X = np.array([[0, 0], [0, 1], [1, 0], [1, 1]])\n",
    "y = np.array([[0], [0], [0], [1]])\n",
    "\n",
    "# create a perceptron instance and fit it to the above dataset\n",
    "### ENTER YOUR CODE HERE\n",
    "# define our perceptron and train it\n",
    "print(\"training perceptron...\")\n",
    "p = Perceptron(X.shape[1], alpha=0.1)\n",
    "p.fit(X, y, epochs=20,addBias=True)\n"
   ]
  },
  {
   "cell_type": "code",
   "execution_count": 81,
   "metadata": {},
   "outputs": [
    {
     "name": "stdout",
     "output_type": "stream",
     "text": [
      "data=[0 0], true_label=0, pred=0\n",
      "data=[0 1], true_label=0, pred=0\n",
      "data=[1 0], true_label=0, pred=0\n",
      "data=[1 1], true_label=1, pred=1\n"
     ]
    }
   ],
   "source": [
    "# now that our network is trained, loop over the data points\n",
    "for (x, target) in zip(X, y):\n",
    "    # make a prediction on the data point and display the result\n",
    "    # to our console\n",
    "    pred = p.predict(x,addBias=True)\n",
    "    print(\"data={}, true_label={}, pred={}\".format(\n",
    "        x, target[0], pred))\n"
   ]
  },
  {
   "cell_type": "markdown",
   "metadata": {},
   "source": [
    "## change the perceptron class such that you return the wieghts after each iteration"
   ]
  },
  {
   "cell_type": "code",
   "execution_count": 83,
   "metadata": {},
   "outputs": [
    {
     "name": "stdout",
     "output_type": "stream",
     "text": [
      "Dimension of the input: 2\n",
      "True\n",
      "Dimension of the input after adding the bias: 3\n",
      "data=[0 0], true_label=0, pred=0\n",
      "data=[0 1], true_label=0, pred=0\n",
      "data=[1 0], true_label=0, pred=0\n",
      "data=[1 1], true_label=1, pred=1\n"
     ]
    },
    {
     "data": {
      "text/plain": [
       "[<matplotlib.lines.Line2D at 0x15c3f9b8610>]"
      ]
     },
     "execution_count": 83,
     "metadata": {},
     "output_type": "execute_result"
    },
    {
     "data": {
      "image/png": "[encoded data removed]",
      "text/plain": [
       "<Figure size 432x288 with 1 Axes>"
      ]
     },
     "metadata": {
      "needs_background": "light"
     },
     "output_type": "display_data"
    }
   ],
   "source": [
    "## change the Perceptron class such that you save the weights \n",
    "## during training and return them then plot them\n",
    "# ENTER YOUR CODE HERE\n",
    "p = Perceptron(X.shape[1], alpha=0.1)\n",
    "w = p.fit(X, y, epochs=20,addBias=True)\n",
    "\n",
    "w1 = w[0:len(w):3]\n",
    "w2 = w[1:len(w):3]\n",
    "w3 = w[2:len(w):3]\n",
    "\n",
    "for (x, target) in zip(X, y):\n",
    "    # make a prediction on the data point and display the result\n",
    "    # to our console\n",
    "    pred = p.predict(x,addBias=True)\n",
    "    print(\"data={}, true_label={}, pred={}\".format(\n",
    "        x, target[0], pred))\n",
    "    \n",
    "plt.plot(w1)\n",
    "plt.plot(w2)\n",
    "plt.plot(w3)\n",
    "\n"
   ]
  },
  {
   "cell_type": "markdown",
   "metadata": {},
   "source": [
    "### change learning rate to 0.01 and repeat "
   ]
  },
  {
   "cell_type": "markdown",
   "metadata": {},
   "source": [
    "### what does reducing the learing rate do?"
   ]
  },
  {
   "cell_type": "code",
   "execution_count": 84,
   "metadata": {},
   "outputs": [
    {
     "name": "stdout",
     "output_type": "stream",
     "text": [
      "Dimension of the input: 2\n",
      "True\n",
      "Dimension of the input after adding the bias: 3\n",
      "data=[0 0], true_label=0, pred=1\n",
      "data=[0 1], true_label=0, pred=1\n",
      "data=[1 0], true_label=0, pred=1\n",
      "data=[1 1], true_label=1, pred=1\n"
     ]
    },
    {
     "data": {
      "text/plain": [
       "[<matplotlib.lines.Line2D at 0x15c3fa2b400>]"
      ]
     },
     "execution_count": 84,
     "metadata": {},
     "output_type": "execute_result"
    },
    {
     "data": {
      "image/png": "[encoded data removed]",
      "text/plain": [
       "<Figure size 432x288 with 1 Axes>"
      ]
     },
     "metadata": {
      "needs_background": "light"
     },
     "output_type": "display_data"
    }
   ],
   "source": [
    "## change the Perceptron class such that you save the weights \n",
    "## during training and return them then plot them\n",
    "# ENTER YOUR CODE HERE\n",
    "p = Perceptron(X.shape[1], alpha=0.01)\n",
    "w = p.fit(X, y, epochs=20,addBias=True)\n",
    "\n",
    "w1 = w[0:len(w):3]\n",
    "w2 = w[1:len(w):3]\n",
    "w3 = w[2:len(w):3]\n",
    "\n",
    "for (x, target) in zip(X, y):\n",
    "    # make a prediction on the data point and display the result\n",
    "    # to our console\n",
    "    pred = p.predict(x,addBias=True)\n",
    "    print(\"data={}, true_label={}, pred={}\".format(\n",
    "        x, target[0], pred))\n",
    "    \n",
    "plt.plot(w1)\n",
    "plt.plot(w2)\n",
    "plt.plot(w3)\n",
    "\n"
   ]
  },
  {
   "cell_type": "markdown",
   "metadata": {},
   "source": [
    "### Train the perceptron on he XOR data set\n"
   ]
  },
  {
   "cell_type": "code",
   "execution_count": 85,
   "metadata": {},
   "outputs": [
    {
     "name": "stdout",
     "output_type": "stream",
     "text": [
      "Dimension of the input: 2\n",
      "True\n",
      "Dimension of the input after adding the bias: 3\n",
      "data=[0 0], true_label=0, pred=1\n",
      "data=[0 1], true_label=1, pred=0\n",
      "data=[1 0], true_label=1, pred=0\n",
      "data=[1 1], true_label=0, pred=0\n"
     ]
    },
    {
     "data": {
      "text/plain": [
       "[<matplotlib.lines.Line2D at 0x15c3fa92ca0>]"
      ]
     },
     "execution_count": 85,
     "metadata": {},
     "output_type": "execute_result"
    },
    {
     "data": {
      "image/png": "[encoded data removed]",
      "text/plain": [
       "<Figure size 432x288 with 1 Axes>"
      ]
     },
     "metadata": {
      "needs_background": "light"
     },
     "output_type": "display_data"
    }
   ],
   "source": [
    "# construct the XOR dataset\n",
    "X = np.array([[0, 0], [0, 1], [1, 0], [1, 1]])\n",
    "y = np.array([[0], [1], [1], [0]])\n",
    "# ENTER YOUR CODE HERE\n",
    "p = Perceptron(X.shape[1], alpha=0.1)\n",
    "w = p.fit(X, y, epochs=20,addBias=True)\n",
    "\n",
    "w1 = w[0:len(w):3]\n",
    "w2 = w[1:len(w):3]\n",
    "w3 = w[2:len(w):3]\n",
    "\n",
    "for (x, target) in zip(X, y):\n",
    "    # make a prediction on the data point and display the result\n",
    "    # to our console\n",
    "    pred = p.predict(x,addBias=True)\n",
    "    print(\"data={}, true_label={}, pred={}\".format(\n",
    "        x, target[0], pred))\n",
    "    \n",
    "plt.plot(w1)\n",
    "plt.plot(w2)\n",
    "plt.plot(w3)\n"
   ]
  },
  {
   "cell_type": "markdown",
   "metadata": {},
   "source": [
    "### Were you able to solve the XOR problem? \n",
    "### How is this problem different then the AND and OR problems?\n"
   ]
  },
  {
   "cell_type": "markdown",
   "metadata": {},
   "source": [
    "### Perceptron for a regression problem"
   ]
  },
  {
   "cell_type": "code",
   "execution_count": 86,
   "metadata": {},
   "outputs": [],
   "source": [
    "X = np.arange (0,100,1)\n",
    "noise = np.random.normal(loc=0.0, scale=5, size=100)\n",
    "y = 70 + 1.2*X + noise\n",
    "\n",
    "# normalization of inputs and lables \n",
    "y=y/np.max(X)\n",
    "X=X/np.max(X)"
   ]
  },
  {
   "cell_type": "code",
   "execution_count": 87,
   "metadata": {},
   "outputs": [
    {
     "data": {
      "text/plain": [
       "<matplotlib.collections.PathCollection at 0x15c40ab5670>"
      ]
     },
     "execution_count": 87,
     "metadata": {},
     "output_type": "execute_result"
    },
    {
     "data": {
      "image/png": "[encoded data removed]",
      "text/plain": [
       "<Figure size 432x288 with 1 Axes>"
      ]
     },
     "metadata": {
      "needs_background": "light"
     },
     "output_type": "display_data"
    }
   ],
   "source": [
    "plt.scatter(X, y)"
   ]
  },
  {
   "cell_type": "markdown",
   "metadata": {},
   "source": [
    "#### How should you change the dyrp (activation) function to fit a regression problem???"
   ]
  },
  {
   "cell_type": "code",
   "execution_count": 88,
   "metadata": {},
   "outputs": [],
   "source": [
    "# implement the perceptron class here for regression\n",
    "# ENTER YOUR CODE HERE\n",
    "class Perceptron:\n",
    "    # N is the length of are input feature \n",
    "    # alpha learning rate\n",
    "    def __init__(self, N, alpha=0.1):\n",
    "        # initialize the weight matrix and store the learning rate\n",
    "        self.W = np.random.randn(N) / np.sqrt(N) # normalizing the weigts \n",
    "        self.N = N\n",
    "        self.alpha = alpha\n",
    "\n",
    "    # def sigmoid(x):\n",
    "    #     return 1/(1+np.exp(-x))   \n",
    "        \n",
    "    def step(self, x):\n",
    "        # apply a step activation function\n",
    "        # ENTER YOUR CODE HERE\n",
    "        return x if x > 0 else 0\n",
    "        # if x <= 0:\n",
    "        #     return 0\n",
    "        # else:\n",
    "        #     return 1 \n",
    "    \n",
    "    def fit(self, X, y, epochs=10, addBias=True):\n",
    "        # insert a column of 1's as the last entry in the feature\n",
    "        # matrix -- this little trick allows us to treat the bias\n",
    "        # as a trainable parameter within the weight matrix\n",
    "        print(\"Dimension of the input:\", self.W.shape[0])\n",
    "        if addBias:\n",
    "            print(addBias)\n",
    "            X = np.c_[X, np.ones((X.shape[0]))]\n",
    "            self.W = np.random.randn(self.N+1) / np.sqrt(self.N)\n",
    "            print(\"Dimension of the input after adding the bias:\", self.W.shape[0])# dimension increses by 1 since we added the bias\n",
    "        \n",
    "        # loop over the desired number of epochs\n",
    "        w = self.W\n",
    "        \n",
    "        for epoch in np.arange(0, epochs):\n",
    "            # loop over each individual data point\n",
    "                for (x, target) in zip(X, y):\n",
    "                # take the dot product between the input features\n",
    "                # and the weight matrix, then pass this value\n",
    "                # through the step function to obtain the prediction\n",
    "                    \n",
    "                    # ENTER YOUR CODE HERE FOR \n",
    "                    net = np.dot(x, self.W)\n",
    "                \n",
    "                    p = self.step(net)\n",
    "                    # perform weight update if prediction\n",
    "                    # does not match trget\n",
    "                    if p != target:\n",
    "                        # calculate delta\n",
    "                        delta =  target - p\n",
    "                        # update the weight matrix\n",
    "                        # ENTER YOUR CODE HERE\n",
    "                        self.W = self.W + self.alpha * delta * x\n",
    "                        w = np.append(w, self.W)\n",
    "                                                \n",
    "        return w\n",
    "    def predict(self, X, addBias=True):\n",
    "        # ensure our input is a matrix\n",
    "        X = np.atleast_2d(X)\n",
    "        # check to see if the bias column should be added\n",
    "        if addBias:\n",
    "            # insert a column of 1's as the last entry in the feature\n",
    "            # matrix (bias)\n",
    "            X = np.c_[X, np.ones((X.shape[0]))]\n",
    "            # take the dot product between the input features and the\n",
    "            # weight matrix, then pass the value through the step\n",
    "            # function\n",
    "        return self.step(np.dot(X, self.W))\n",
    "    "
   ]
  },
  {
   "cell_type": "code",
   "execution_count": 101,
   "metadata": {},
   "outputs": [
    {
     "name": "stdout",
     "output_type": "stream",
     "text": [
      "Dimension of the input: 1\n",
      "True\n",
      "Dimension of the input after adding the bias: 2\n",
      "training perceptron...\n"
     ]
    }
   ],
   "source": [
    "# define our perceptron and train it with and without bias\n",
    "\n",
    "p = Perceptron(1, alpha=0.1)\n",
    "w=p.fit(X, y, epochs=20, addBias=True)\n",
    "print(\"training perceptron...\")"
   ]
  },
  {
   "cell_type": "code",
   "execution_count": 102,
   "metadata": {},
   "outputs": [
    {
     "name": "stdout",
     "output_type": "stream",
     "text": [
      "(10,)\n"
     ]
    },
    {
     "data": {
      "text/plain": [
       "[<matplotlib.lines.Line2D at 0x15c3e5c21f0>]"
      ]
     },
     "execution_count": 102,
     "metadata": {},
     "output_type": "execute_result"
    },
    {
     "data": {
      "image/png": "[encoded data removed]",
      "text/plain": [
       "<Figure size 432x288 with 1 Axes>"
      ]
     },
     "metadata": {
      "needs_background": "light"
     },
     "output_type": "display_data"
    }
   ],
   "source": [
    "# PLOT DATA AS ABOVE AND ADD A PLOT OF THE PREDICTION\n",
    "### ENTER YOUR CODE HERE\n",
    "plt.scatter(X,y)\n",
    "x = np.arange(0,1,0.1)\n",
    "print(x.shape)\n",
    "predictions=[]\n",
    "for xx in x:\n",
    "    pred=p.predict(xx,addBias=True)\n",
    "    predictions.append(pred)\n",
    "plt.plot(x,predictions,c=\"red\")    "
   ]
  },
  {
   "cell_type": "code",
   "execution_count": 103,
   "metadata": {},
   "outputs": [
    {
     "name": "stdout",
     "output_type": "stream",
     "text": [
      "(10,)\n"
     ]
    },
    {
     "data": {
      "text/plain": [
       "[<matplotlib.lines.Line2D at 0x15c3e4f0790>]"
      ]
     },
     "execution_count": 103,
     "metadata": {},
     "output_type": "execute_result"
    },
    {
     "data": {
      "image/png": "[encoded data removed]",
      "text/plain": [
       "<Figure size 432x288 with 1 Axes>"
      ]
     },
     "metadata": {
      "needs_background": "light"
     },
     "output_type": "display_data"
    }
   ],
   "source": [
    "# PLOTTING DATA AS ABOVE AND ADD A PLOT OF THE PREDICTION\n",
    "\n",
    "plt.scatter(X,y)\n",
    "x = np.arange(0,1,0.1)\n",
    "print(x.shape)\n",
    "predictions=[]\n",
    "for xx in x:\n",
    "    pred=p.predict(xx,addBias=True)\n",
    "    predictions.append(pred)\n",
    "plt.plot(x,predictions,c=\"red\")    "
   ]
  },
  {
   "cell_type": "code",
   "execution_count": 104,
   "metadata": {},
   "outputs": [
    {
     "name": "stdout",
     "output_type": "stream",
     "text": [
      "Dimension of the input: 1\n",
      "training perceptron...\n",
      "(10,)\n"
     ]
    },
    {
     "name": "stderr",
     "output_type": "stream",
     "text": [
      "c:\\Users\\DAnand\\anaconda3\\lib\\site-packages\\numpy\\core\\shape_base.py:65: VisibleDeprecationWarning: Creating an ndarray from ragged nested sequences (which is a list-or-tuple of lists-or-tuples-or ndarrays with different lengths or shapes) is deprecated. If you meant to do this, you must specify 'dtype=object' when creating the ndarray.\n",
      "  ary = asanyarray(ary)\n"
     ]
    },
    {
     "data": {
      "text/plain": [
       "[<matplotlib.lines.Line2D at 0x15c40d8c520>]"
      ]
     },
     "execution_count": 104,
     "metadata": {},
     "output_type": "execute_result"
    },
    {
     "data": {
      "image/png": "[encoded data removed]",
      "text/plain": [
       "<Figure size 432x288 with 1 Axes>"
      ]
     },
     "metadata": {
      "needs_background": "light"
     },
     "output_type": "display_data"
    }
   ],
   "source": [
    "# define our perceptron and train it\n",
    "\n",
    "p = Perceptron(1, alpha=0.1)\n",
    "w=p.fit(X, y, epochs=20,addBias=False)\n",
    "print(\"training perceptron...\")\n",
    "# PLOT DATA AS ABOVE AND ADD A PLOT OF THE PREDICTION\n",
    "### ENTER YOUR CODE HERE\n",
    "plt.scatter(X,y)\n",
    "x = np.arange(0,1,0.1)\n",
    "print(x.shape)\n",
    "predictions=[]\n",
    "for xx in x:\n",
    "    pred=p.predict(xx,addBias=False)\n",
    "    predictions.append(pred)\n",
    "plt.plot(x,predictions,c=\"red\")    "
   ]
  },
  {
   "cell_type": "markdown",
   "metadata": {},
   "source": [
    "### What is the difference with and without Bias? "
   ]
  },
  {
   "cell_type": "code",
   "execution_count": 105,
   "metadata": {},
   "outputs": [],
   "source": [
    "X = np.arange (0,100,1)\n",
    "noise = np.random.normal(loc=0.0, scale=5, size=100)\n",
    "y = 70 + 1.2*X + noise\n",
    "\n",
    "# # normalization of inputs and lables \n",
    "# y=y/np.max(X)\n",
    "# X=X/np.max(X)"
   ]
  },
  {
   "cell_type": "markdown",
   "metadata": {},
   "source": [
    "### repeat the training without the normalization of the data, what happend?"
   ]
  },
  {
   "cell_type": "code",
   "execution_count": 106,
   "metadata": {},
   "outputs": [
    {
     "name": "stdout",
     "output_type": "stream",
     "text": [
      "Dimension of the input: 1\n",
      "training perceptron...\n",
      "(10,)\n"
     ]
    },
    {
     "name": "stderr",
     "output_type": "stream",
     "text": [
      "c:\\Users\\DAnand\\anaconda3\\lib\\site-packages\\numpy\\core\\shape_base.py:65: VisibleDeprecationWarning: Creating an ndarray from ragged nested sequences (which is a list-or-tuple of lists-or-tuples-or ndarrays with different lengths or shapes) is deprecated. If you meant to do this, you must specify 'dtype=object' when creating the ndarray.\n",
      "  ary = asanyarray(ary)\n"
     ]
    },
    {
     "data": {
      "text/plain": [
       "[<matplotlib.lines.Line2D at 0x15c40de7ac0>]"
      ]
     },
     "execution_count": 106,
     "metadata": {},
     "output_type": "execute_result"
    },
    {
     "data": {
      "image/png": "[encoded data removed]",
      "text/plain": [
       "<Figure size 432x288 with 1 Axes>"
      ]
     },
     "metadata": {
      "needs_background": "light"
     },
     "output_type": "display_data"
    }
   ],
   "source": [
    "# ENTER YOUR CODE HERE\n",
    "# define our perceptron and train it\n",
    "\n",
    "p = Perceptron(1, alpha=0.01)\n",
    "w=p.fit(X, y, epochs=50,addBias=False)\n",
    "print(\"training perceptron...\")\n",
    "# PLOT DATA AS ABOVE AND ADD A PLOT OF THE PREDICTION\n",
    "### ENTER YOUR CODE HERE\n",
    "plt.scatter(X,y)\n",
    "x = np.arange(0,1,0.1)\n",
    "print(x.shape)\n",
    "predictions=[]\n",
    "for xx in x:\n",
    "    pred=p.predict(xx,addBias=False)\n",
    "    predictions.append(pred)\n",
    "plt.plot(x,predictions,c=\"red\")  "
   ]
  },
  {
   "cell_type": "markdown",
   "metadata": {},
   "source": [
    "### where you able to train the model? Why not? plot the weights and see how they look when the data is normalized and when the data is not normalized."
   ]
  },
  {
   "cell_type": "code",
   "execution_count": 107,
   "metadata": {},
   "outputs": [
    {
     "data": {
      "text/plain": [
       "[<matplotlib.lines.Line2D at 0x15c40e57820>]"
      ]
     },
     "execution_count": 107,
     "metadata": {},
     "output_type": "execute_result"
    },
    {
     "data": {
      "image/png": "[encoded data removed]",
      "text/plain": [
       "<Figure size 432x288 with 1 Axes>"
      ]
     },
     "metadata": {
      "needs_background": "light"
     },
     "output_type": "display_data"
    }
   ],
   "source": [
    "# PLOT THE WEIGHTS AS A FUNCTION OF TRAINING\n",
    "# ENTER YOUR CODE HERE\n",
    "# PLOT THE WEIGHTS AS A FUNCTION OF TRAINING\n",
    "plt.plot(w[0:len(w):2])\n",
    "plt.plot(w[1:len(w):2])"
   ]
  },
  {
   "cell_type": "markdown",
   "metadata": {},
   "source": [
    "### using the normalized data retrain the perceptron only initial the weights using the following:\n",
    "self.W = np.random.randn(N) * 1000\n",
    "\n",
    "#### What do you think will happen, why?\n"
   ]
  },
  {
   "cell_type": "code",
   "execution_count": null,
   "metadata": {},
   "outputs": [],
   "source": []
  }
 ],
 "metadata": {
  "kernelspec": {
   "display_name": "Python 3.9.12 ('base')",
   "language": "python",
   "name": "python3"
  },
  "language_info": {
   "codemirror_mode": {
    "name": "ipython",
    "version": 3
   },
   "file_extension": ".py",
   "mimetype": "text/x-python",
   "name": "python",
   "nbconvert_exporter": "python",
   "pygments_lexer": "ipython3",
   "version": "3.9.12"
  },
  "latex_envs": {
   "LaTeX_envs_menu_present": true,
   "autoclose": false,
   "autocomplete": true,
   "bibliofile": "biblio.bib",
   "cite_by": "apalike",
   "current_citInitial": 1,
   "eqLabelWithNumbers": true,
   "eqNumInitial": 1,
   "hotkeys": {
    "equation": "Ctrl-E",
    "itemize": "Ctrl-I"
   },
   "labels_anchors": false,
   "latex_user_defs": false,
   "report_style_numbering": false,
   "user_envs_cfg": false
  },
  "vscode": {
   "interpreter": {
    "hash": "2f18dd2cd69379a5e7e03e775ee465bc8ba64293217bea5993fcb033d5079037"
   }
  }
 },
 "nbformat": 4,
 "nbformat_minor": 4
}
