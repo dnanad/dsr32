{
 "cells": [
  {
   "cell_type": "markdown",
   "metadata": {},
   "source": [
    "# DSR - Practical 2 - Backpropagation\n",
    "\n",
    "## on am entire epoch\n",
    "\n"
   ]
  },
  {
   "cell_type": "code",
   "execution_count": 3,
   "metadata": {},
   "outputs": [],
   "source": [
    "import numpy as np\n",
    "import math"
   ]
  },
  {
   "cell_type": "markdown",
   "metadata": {},
   "source": [
    "# FORWARD PASS"
   ]
  },
  {
   "cell_type": "code",
   "execution_count": 33,
   "metadata": {},
   "outputs": [
    {
     "name": "stdout",
     "output_type": "stream",
     "text": [
      "net: [0.21 0.24 0.28 0.22]\n",
      "out: [0.55230791 0.55971365 0.56954622 0.55477924]\n",
      "error: [-0.55230791  0.44028635  0.43045378 -0.55477924]\n",
      "total loss: 0.4959832753255481\n"
     ]
    }
   ],
   "source": [
    "# data set consists of 4 samples\n",
    "X = np.array([0.1,0.4,0.8,0.2])\n",
    "y = np.array([0,1,1,0])\n",
    "# x add a column of ones\n",
    "X = np.c_[X, np.ones((X.shape[0]))]\n",
    "W = np.array([0.1,0.2])\n",
    " ## FORWARD PASS\n",
    "# print(X)\n",
    "# initialize loss\n",
    "total_loss = 0\n",
    "\n",
    "#calculate net\n",
    "# ENTER YOUR CODE HERE\n",
    "net = np.dot(X,W)\n",
    "print(\"net:\", net)\n",
    "\n",
    "def sigmoid(x):\n",
    "  return 1 / (1 + np.exp(-x))\n",
    "\n",
    "# calculate the output\n",
    "# ENTER YOUR CODE HERE\n",
    "out = sigmoid(net)\n",
    "print(\"out:\", out)\n",
    "\n",
    "#calculate error\n",
    "error = y - out\n",
    "print(\"error:\", error)\n",
    "\n",
    "# calculate loss\n",
    "# ENTER YOUR CODE HERE\n",
    "total_loss = sum(error**2)/len(W)\n",
    "print(\"total loss:\", total_loss)"
   ]
  },
  {
   "attachments": {},
   "cell_type": "markdown",
   "metadata": {},
   "source": [
    "# Backward Pass\n",
    "\n"
   ]
  },
  {
   "cell_type": "code",
   "execution_count": 34,
   "metadata": {},
   "outputs": [
    {
     "name": "stdout",
     "output_type": "stream",
     "text": [
      "dloss/dout = 0.23634701788796209\n",
      "dout/dnet = [0.24726388 0.24643428 0.24516332 0.24699924]\n",
      "dnet/dw = [0.1 0.4 0.8 0.2]\n",
      "d_loss/dw = 0.08717201373108091\n",
      "W = [0.01282799 0.11282799]\n"
     ]
    }
   ],
   "source": [
    "# ENTER YOUR CODE ON ALL XXX\n",
    "dloss_dout = - sum(error)\n",
    "print(\"dloss/dout =\", dloss_dout)\n",
    "\n",
    "dout_dnet = out*(1-out)\n",
    "print(\"dout/dnet =\", dout_dnet)\n",
    "\n",
    "dnet_dw = X[:,0]\n",
    "print(\"dnet/dw =\", dnet_dw)\n",
    "\n",
    "d_loss_dw = sum(dloss_dout * dout_dnet * dnet_dw)\n",
    "print(\"d_loss/dw =\", d_loss_dw)\n",
    "\n",
    "W = W - d_loss_dw\n",
    "print(\"W =\", W)"
   ]
  },
  {
   "cell_type": "code",
   "execution_count": null,
   "metadata": {},
   "outputs": [],
   "source": []
  }
 ],
 "metadata": {
  "kernelspec": {
   "display_name": "Python 3.9.12 ('base')",
   "language": "python",
   "name": "python3"
  },
  "language_info": {
   "codemirror_mode": {
    "name": "ipython",
    "version": 3
   },
   "file_extension": ".py",
   "mimetype": "text/x-python",
   "name": "python",
   "nbconvert_exporter": "python",
   "pygments_lexer": "ipython3",
   "version": "3.9.12"
  },
  "latex_envs": {
   "LaTeX_envs_menu_present": true,
   "autoclose": false,
   "autocomplete": true,
   "bibliofile": "biblio.bib",
   "cite_by": "apalike",
   "current_citInitial": 1,
   "eqLabelWithNumbers": true,
   "eqNumInitial": 1,
   "hotkeys": {
    "equation": "Ctrl-E",
    "itemize": "Ctrl-I"
   },
   "labels_anchors": false,
   "latex_user_defs": false,
   "report_style_numbering": false,
   "user_envs_cfg": false
  },
  "vscode": {
   "interpreter": {
    "hash": "2f18dd2cd69379a5e7e03e775ee465bc8ba64293217bea5993fcb033d5079037"
   }
  }
 },
 "nbformat": 4,
 "nbformat_minor": 2
}
