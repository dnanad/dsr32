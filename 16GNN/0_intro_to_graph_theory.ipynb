{
  "nbformat": 4,
  "nbformat_minor": 0,
  "metadata": {
    "colab": {
      "provenance": [],
      "collapsed_sections": []
    },
    "kernelspec": {
      "name": "python3",
      "display_name": "Python 3"
    },
    "language_info": {
      "name": "python"
    }
  },
  "cells": [
    {
      "cell_type": "markdown",
      "source": [
        "# **Introduction**"
      ],
      "metadata": {
        "id": "OycSIdZvWIwV"
      }
    },
    {
      "cell_type": "markdown",
      "source": [
        "#### **Graph**\n",
        "\n",
        "A typical graph example is shown below:\n",
        "\n",
        "<left width=\"100%\" style=\"padding:10px\">  <img src = \"https://drive.google.com/uc?id=12-gk_Yso0Bm1RAK6rc_XdbUccOVpd791\" width=\"300px\"></left>\n"
      ],
      "metadata": {
        "id": "szeFzrw0enQe"
      }
    },
    {
      "cell_type": "markdown",
      "source": [
        "#### **Various types of data which are graphs**\n",
        "\n",
        "*   Computer networks.\n",
        "<img src = \"https://drive.google.com/uc?id=1v6Q4HX0olGa3EoekSfVIs23y3EyyVW3e\" width=\"250\" height=\"150\" align=\"center\">\n",
        "\n",
        "*   Road networks.\n",
        "<img src = \"https://drive.google.com/uc?id=1fb6ZgC126oYGjnJm32zL3NHMALMB_Ym8\" width=\"250\" height=\"200\" align=\"center\">\n",
        "\n",
        "*   Social networks.\n",
        "<img src = \"https://drive.google.com/uc?id=1niSgl6z8mYruV6Y2Yr6l2OO0l0aNxexD\" width=\"250\" height=\"150\" align=\"center\">\n",
        "\n",
        "*   Protein-protein interaction networks.\n",
        "<img src = \"https://drive.google.com/uc?id=1nR_tLN_l4wtClfHDv_e9KjbWlFJ4n3Hc\" width=\"250\" height=\"200\" align=\"center\">\n",
        "\n"
      ],
      "metadata": {
        "id": "zZ6Jmq7IkMK8"
      }
    },
    {
      "cell_type": "markdown",
      "source": [
        "Modelling data as a graph:\n",
        "\n",
        "> *   *Many data domains have a rich relational structure that can be represented as a graph.*\n",
        "*   *Explicit modeling of the relationships allows to achieve better performance.*\n",
        "\n",
        "\n",
        "\n",
        "\n"
      ],
      "metadata": {
        "id": "Maw1abO8sepi"
      }
    },
    {
      "cell_type": "markdown",
      "source": [
        "### **Typical deep learning tool box is designed for sequences and grids**\n",
        "\n",
        "\n",
        "*   Image (2D-grid) $\\to$ CNN.\n",
        "<figure>\n",
        "<img src = \"https://drive.google.com/uc?id=1KEGQIWZ1edlzp4D43DJmQY9BzUqxpduL\" width=\"600\" align=\"center\">\n",
        "</figure>\n",
        "*   Text/Speech/Sequential data (1D-grid) $\\to$ RNN-like architectures.\n",
        "<figure>\n",
        "<img src = \"https://drive.google.com/uc?id=1v_SZg2G-Brk6-Tir-e6O59zw7cjyVr_-\" width=\"600\" align=\"center\">\n",
        "</figure>\n",
        "\n",
        "\n",
        "**<font color='red'>Not everything can be represented as a sequence or a grid!</font>**\n",
        "\n",
        "*   For irregular structured data $\\to$ graph $\\to$ graph neural networks.\n",
        "<figure>\n",
        "<img src = \"https://drive.google.com/uc?id=14S-RZWJYXYsV4YDq26sOy1cFSMKR77jr\" width=\"600\" align=\"center\">\n",
        "</figure>\n",
        "\n"
      ],
      "metadata": {
        "id": "dC-JdknO1_dW"
      }
    },
    {
      "cell_type": "markdown",
      "source": [
        "# **ML tasks with graphs**\n",
        "\n",
        "<figure>\n",
        "<img src = \"https://drive.google.com/uc?id=1yZFfjiTcHRNg-wxrZM7byfpVdi2klw7n\" width=\"450\" align=\"center\">\n",
        "</figure>\n",
        "\n",
        "*   Node classification: predict a property of a node.\n",
        "  - **Example**: categorize users of a social network. \n",
        "*   Edge prediction: predict if there are edges between two nodes.\n",
        "  - **Example**: Knowledge graph completion.\n",
        "*   Graph classification: categorize different graphs.\n",
        "  - **Example**: Molecule property prediction.\n",
        "*   Clustering: Find nodes that form communities.\n",
        "  - **Example**: Social circle detection.\n",
        "*   Graph generation:\n",
        "  - **Example**: Drug discovery.\n",
        "*   Graph evolution: \n",
        "  - **Example**: Simulation of physical processes.\n"
      ],
      "metadata": {
        "id": "zgQ8K_3MLbTJ"
      }
    },
    {
      "cell_type": "markdown",
      "source": [
        "# **Real life examples**\n",
        "\n",
        "### DeepMind's AlphaFold\n",
        "\n",
        "- Prediction of a 3D structure of proteins, using sequences of amino acids as graphs.\n",
        "- It can help discover new drugs or find enzymes that could clean the atmosphere or help dissolve plastic waste.\n",
        "\n",
        "<img src = \"https://drive.google.com/uc?id=1brB_FTnQT2ZmZGXNXWvleBILd6tJxBeC\" width=\"400\" align=\"center\">\n",
        "</figure>\n",
        "\n",
        "\n",
        "### Google's ETA prediction\n",
        "\n",
        "- Prediction of ETA based on traffic conditions, where road segments are represented via graphs. Nodes are segments of roads and edges are connections between the segments.\n",
        "- Used in Google Maps in many places around the world and improved estimated arrival times by around 40% depending on the location.\n",
        "\n",
        "<img src = \"https://drive.google.com/uc?id=1XPye-o0BnbIo36eR4tl2Sxx5zqnvzvBt\" width=\"400\" align=\"center\">\n",
        "</figure>\n",
        "\n",
        "\n",
        "### Amazon's real time fraud detection\n",
        "\n",
        "- Built a massive graph with the data from e-commerce sites, where the nodes represented users, products, purchases, etc. and the edges connected nodes based on usage history.\n",
        "- Improved their existing fraud detection mechanism by a factor of 10!\n",
        "\n",
        "<img src = \"https://drive.google.com/uc?id=1FYyqHp_a-dKPeG1ZXiVav7y3TORmjTqv\" width=\"400\" align=\"center\">\n",
        "</figure>\n",
        "\n",
        "\n",
        "### Some other examples:\n",
        "\n",
        "- Amazon and United Airlines made better their automatic information extraction from self-uploaded travel documents with convolutional GNNs.\n",
        "- MIT used GNNs to improve robots' abilities to interact with liquids and solid objects.\n",
        "- Decathlon Canada builds their recommender systems based on GNNs.\n",
        "\n",
        "\n"
      ],
      "metadata": {
        "id": "7M3Zei9rp8ag"
      }
    },
    {
      "cell_type": "markdown",
      "source": [
        "# **Basics of the graph theory**\n",
        "\n",
        "#### **Undirected and directed homogeneous graphs**\n",
        "\n",
        "Mathematically, a homogeneous graph $\\mathcal{G}$ is defined as a tuple of a set of nodes/vertices $V$, and a set of edges/links $E$: $\\mathcal{G}=(V,E)$. Each edge is represented by a pair of two nodes, and serves as a connection between them. \n",
        "\n",
        "- Undirected graphs: friendships on Facebook, collaborations between universities.\n",
        "- Directed graphs: phone calls, followers on Twitter.\n",
        "\n",
        "<center width=\"100%\" style=\"padding:10px\"> <img src =\"https://drive.google.com/uc?id=1qXcOpR5hM_QmFQuYUtQp5NffMkSuBSYQ\" width=\"600px\"></center>\n",
        "\n",
        " - Vertices: $V=\\{1,2,3,4\\}$\n",
        " - Edges for undirected: $E_{undir}=\\{(1,2), (2,3), (2,4), (3,4)\\}$\n",
        " - Edges for directed: $E_{dir}=\\{(1,2), (2,3), (3,4), (4,2)\\}$\n",
        "\n",
        "\n",
        "#### **Adjacency matrix** \n",
        "\n",
        "Edges can be represented by an adjacency matrix $A$.\n",
        "\n",
        "\\begin{equation}\n",
        "  \\begin{aligned}\n",
        "  A_{undir} = \n",
        "  \\begin{bmatrix}\n",
        "    0 & \\color{red}1 & 0 & 0\\\\\n",
        "    \\color{red}1 & 0 & \\color{red}1 & \\color{red}1\\\\\n",
        "    0 & \\color{red}1 & 0 & \\color{red}1\\\\\n",
        "    0 & \\color{red}1 & \\color{red}1 & 0\n",
        "\\end{bmatrix} &&\n",
        "  A_{dir} = \\begin{bmatrix}\n",
        "    0 & \\color{red}1 & 0 & 0\\\\\n",
        "    0 & 0 & \\color{red}1 & 0\\\\\n",
        "    0 & 0 & 0 & \\color{red}1\\\\\n",
        "    0 & \\color{red}1 & 0 & 0\n",
        "\\end{bmatrix}\n",
        "  \\end{aligned}\n",
        "\\end{equation}\n",
        "\n",
        "\n",
        "*The matrix is symmetric for an undirected graph and asymmetric for a directed one.*\n",
        "\n",
        "#### **Node degree**\n",
        "\n",
        "- A degree $k_i$ of a node $i$ is the number of edges adjacent to the node $i$ for an undirected graph.\n",
        "- For a directed graph, one defines an in-degree, $k^{in}_i$, and out-degree, $k^{out}$.       \n",
        "Therefore, $k_i = k^{in}_i + k^{out}_i$\n",
        "\n",
        "\\begin{equation}\n",
        "  \\begin{aligned}\n",
        "   k_{2} = \\sum_{j=1}^4 A_{2j} = \\sum_{i=1}^4 A_{i2} = 3 && \n",
        "   k^{in}_{2} = \\sum_{j=1}^4 A_{2j} = 2, \\, k^{out}_{2} = \\sum_{i=1}^4 A_{i2} = 1\n",
        "  \\end{aligned}\n",
        "\\end{equation}\n",
        "\n",
        "- Node degree matrix $D$ for an undirected graph is a diagonal matrix which contains information about the degree of each vertex:\n",
        "\n",
        "\\begin{equation}\n",
        "  D = \n",
        "  \\begin{bmatrix}\n",
        "    \\color{red}1 & 0 & 0 & 0\\\\\n",
        "    0 & \\color{red}3 & 0 & 0\\\\\n",
        "    0 & 0 & \\color{red}2 & 0\\\\\n",
        "    0 & 0 & 0 & \\color{red}2\n",
        "\\end{bmatrix}\n",
        "\\end{equation}\n",
        "\n",
        "\n",
        "#### **Total number of edges**\n",
        "\n",
        "\n",
        "\\begin{equation}\n",
        "  \\begin{aligned}\n",
        "   E_{undir} = \\frac{1}{2} \\sum_{i, j=1}^N A_{ij} && \n",
        "   E_{dir} = \\sum_{i, j=1}^N A_{ij}\n",
        "  \\end{aligned}\n",
        "\\end{equation}\n",
        "\n",
        "#### **Average node degree**\n",
        "\n",
        "\\begin{equation}\n",
        "  \\begin{aligned}\n",
        "   \\langle k \\rangle_{undir} = \\frac{2E}{N} && \n",
        "   \\langle k^{in} \\rangle = \\langle k^{out} \\rangle = \\frac{E}{N}\n",
        "  \\end{aligned}\n",
        "\\end{equation}\n",
        "\n",
        "\n",
        "\n"
      ],
      "metadata": {
        "id": "O6o0mRUzKXZR"
      }
    },
    {
      "cell_type": "markdown",
      "source": [
        "#### **Most real world networks are sparse ($\\color{blue}{\\langle k \\rangle << N}$)**\n",
        "\n",
        "\n",
        "<center width=\"100%\" style=\"padding:10px\"> <img src =\"https://drive.google.com/uc?id=1ptvF0aDw-eKSGXb2cjf4VCWlwQqt0pmb\" width=\"800px\"></center>\n",
        "\n",
        "#### **<font color=\"green\">As a result, adjacency matrices are mostly filled with zeros. So graphs are usually represented as lists of edges because it saves memory, is cheaper to compute and easier to use.</font>**\n"
      ],
      "metadata": {
        "id": "85SZzYxuYQfG"
      }
    },
    {
      "cell_type": "markdown",
      "source": [
        "#### **Graph attributes**\n",
        "\n",
        "Nodes and edges can have attributes:\n",
        "\n",
        "*   Examples of node attributes:\n",
        "  - type (friend, relative, co-worker)\n",
        "  - ranking (best friend, second best friend)\n",
        "  - sign (friend or foe, trust or distrust)\n",
        "  - properties depending on the structure of the graph (number of common friends)\n",
        "\n",
        "*   Examples of edge attributes:\n",
        "  - weight (frequency of communication)\n",
        "  - distance (distance between friends' cities)\n",
        "\n"
      ],
      "metadata": {
        "id": "bImM5rhDABek"
      }
    },
    {
      "cell_type": "markdown",
      "source": [
        "#### **More types of homogeneous graphs**\n",
        "\n",
        "##### **Weighted graph**\n",
        "\n",
        "<center width=\"100%\" style=\"padding:10px\"> <img src =\"https://drive.google.com/uc?id=1SmaTSFqIktCF2Syh46jIPvbGAwdAZnWy\" width=\"400px\"></center>\n",
        "\n",
        "\n",
        "\\begin{equation}\n",
        "\\begin{aligned}\n",
        "  A = \n",
        "  \\begin{bmatrix}\n",
        "    0 & \\color{red}{0.5} & 0 & 0\\\\\n",
        "    \\color{red}{0.5} & 0 & \\color{red}2 & \\color{red}1\\\\\n",
        "    0 & \\color{red}2 & 0 & \\color{red}{1.5} \\\\\n",
        "    0 & \\color{red}1 & \\color{red}{1.5} & 0\n",
        "  \\end{bmatrix} &&\n",
        "  E = \\frac{1}{2} \\sum_{i, j=1}^N A_{ij} && \n",
        "  \\langle k \\rangle = \\frac{2E}{N}\n",
        "\\end{aligned}\n",
        "\\end{equation}\n",
        "\n",
        "##### **Self-loops**\n",
        "\n",
        "<center width=\"100%\" style=\"padding:10px\"> <img src =\"https://drive.google.com/uc?id=1wDSG2Xc4tA0vm8Q07Fm5HFqZSoTTCasg\" width=\"400px\" height=\"250px\"></center>\n",
        "\n",
        "\n",
        "\\begin{equation}\n",
        "\\begin{aligned}\n",
        "  A = \n",
        "  \\begin{bmatrix}\n",
        "    \\color{green}1 & \\color{red}{1} & 0 & 0\\\\\n",
        "    \\color{red}{1} & 0 & \\color{red}1 & \\color{red}1\\\\\n",
        "    0 & \\color{red}1 & 0 & \\color{red}{1} \\\\\n",
        "    0 & \\color{red}1 & \\color{red}{1} & \\color{green}1\n",
        "  \\end{bmatrix} &&\n",
        "  E = \\frac{1}{2} \\sum_{i, j=1, i \\neq j}^N A_{ij}  + \\sum_{i=1}^N A_{i,i}&& \n",
        "  \\langle k \\rangle = \\frac{2E}{N} - \\frac{\\sum_{i=1}^N A_{i,i}}{N}\n",
        "\\end{aligned}\n",
        "\\end{equation}\n",
        "\n",
        "##### **Multi-graph**\n",
        "\n",
        "\n",
        "<center width=\"100%\" style=\"padding:10px\"> <img src =\"https://drive.google.com/uc?id=1Nqt9Ztcnt8-R2owO6AAfmO6G047PqCRY\" width=\"400px\" height=\"275px\"></center>\n",
        "\n",
        "\n",
        "\\begin{equation}\n",
        "\\begin{aligned}\n",
        "  A = \n",
        "  \\begin{bmatrix}\n",
        "    0 & \\color{green}{2} & 0 & 0\\\\\n",
        "    \\color{green}{2} & 0 & \\color{red}1 & \\color{green}3\\\\\n",
        "    0 & \\color{red}1 & 0 & \\color{red}{1} \\\\\n",
        "    0 & \\color{green}3 & \\color{red}{1} & 0\n",
        "  \\end{bmatrix} &&\n",
        "  E = \\frac{1}{2} \\sum_{i, j=1}^N A_{ij}&& \n",
        "  \\langle k \\rangle = \\frac{2E}{N}\n",
        "\\end{aligned}\n",
        "\\end{equation}\n",
        "\n",
        "\n"
      ],
      "metadata": {
        "id": "LbshQJSkD6NC"
      }
    },
    {
      "cell_type": "markdown",
      "source": [
        "#### **Graph connectivity**\n",
        "\n",
        "\n",
        ">*  *A path is a route that runs along the edges of the graph.*\n",
        "* *A path’s length represents the number of edges the path contains.*\n",
        "\n",
        "##### **Connectivity of undirected graphs**\n",
        "\n",
        "*   The graph is connected if any two vertices can be joined by a path.\n",
        "*   A disconnected graph is made up by several connected components that can be arranged in blocks along the main diagonal of the adjacency matrix.\n",
        "\n",
        "<center width=\"100%\" style=\"padding:10px\"> <img src =\"https://drive.google.com/uc?id=1WbpKvxdtCSp59Qm4X9hMQG3K5Hdx602u\" width=\"600px\" height=\"100px\"></center>\n",
        "\n",
        "\n",
        "\\begin{equation}\n",
        "  \\begin{aligned}\n",
        "  A = \n",
        "  \\begin{bmatrix}\n",
        "    0 & \\color{red}1 & \\color{red}1 & 0 & 0 & 0 & 0 \\\\\n",
        "    \\color{red}1 & 0 & \\color{red}1 & 0 & 0 & 0 & 0  \\\\\n",
        "    \\color{red}1 & \\color{red}1 & 0 & 0 & 0 & 0 & 0 \\\\\n",
        "    0 & 0 & 0 & 0 & \\color{red}1 & 0 & 0 \\\\\n",
        "    0 & 0 & 0 & \\color{red}1 & 0 & \\color{red}1 & \\color{red}1 \\\\\n",
        "    0 & 0 & 0 & 0 & \\color{red}1 & 0 & \\color{red}1 \\\\\n",
        "    0 & 0 & 0 & 0 & \\color{red}1 & \\color{red}1 & 0 \\\\\n",
        "\\end{bmatrix} &&\n",
        "  A = \\begin{bmatrix}\n",
        "    0 & \\color{red}1 & \\color{red}1 & 0 & 0 & 0 & 0 \\\\\n",
        "    \\color{red}1 & 0 & \\color{red}1 & \\color{green}1 & 0 & 0 & 0  \\\\\n",
        "    \\color{red}1 & \\color{red}1 & 0 & 0 & 0 & 0 & 0 \\\\\n",
        "    0 & \\color{green}1 & 0 & 0 & \\color{red}1 & 0 & 0 \\\\\n",
        "    0 & 0 & 0 & \\color{red}1 & 0 & \\color{red}1 & \\color{red}1 \\\\\n",
        "    0 & 0 & 0 & 0 & \\color{red}1 & 0 & \\color{red}1 \\\\\n",
        "    0 & 0 & 0 & 0 & \\color{red}1 & \\color{red}1 & 0 \\\\\n",
        "\\end{bmatrix}\n",
        "  \\end{aligned}\n",
        "\\end{equation}\n"
      ],
      "metadata": {
        "id": "GdGPrgptrh5O"
      }
    },
    {
      "cell_type": "markdown",
      "source": [
        "### **Heterogeneous graphs**\n",
        "\n",
        "*   A heterogeneous graph is defined as $\\mathcal{G}=(V,E, R, T)$\n",
        "  - nodes with node types $v_i \\in V$\n",
        "  - edges with relation types $(v_i, r, v_j) \\in E$\n",
        "  - relation types $r \\in R$\n",
        "  - node types $T(v_i)$\n",
        "\n",
        "\n",
        "* Many real graphs are heterogeneous:\n",
        "\n",
        "<center width=\"100%\" style=\"padding:10px\"> <img src =\"https://drive.google.com/uc?id=1KgOj1YcOu8GEGBrMNNnCGJPvZLZY-n_V\" width=\"400px\"></center>\n",
        "\n",
        "  - Node example: Parkinson's disease.\n",
        "  - Edge example: (Gene PINK1, leads, Parkinson's disease).\n",
        "  - Node type example: disease.\n",
        "  - Edge type (relation) example: leads\n",
        "\n",
        "#### **Adjacency tensor**\n",
        "\n",
        "> *An adjacency tensor is a generalization of an adjacency matrix. One can visualize it as a cube consisting of layers of adjacency matricies with each layer corresponding to a different edge type.*\n",
        "\n",
        "<center width=\"100%\" style=\"padding:10px\"> <img src =\"https://drive.google.com/uc?id=1JWqhBSqrke3eVbDiwANhdTYS2DHqsZeA\" width=\"400px\"></center>\n",
        "\n",
        "\n",
        "\n",
        "\\begin{equation}\n",
        "\\begin{aligned}\n",
        "  A \\in R^{|V| \\times |R| \\times |V|}\n",
        "\\end{aligned}\n",
        "\\end{equation}"
      ],
      "metadata": {
        "id": "mI5BQWE3rIUe"
      }
    },
    {
      "cell_type": "markdown",
      "source": [
        "## **Summary**\n",
        "\n",
        "*   Different types of data as graphs.\n",
        "*   Machine learning with graphs.\n",
        "*   The basics of graph theory\n",
        "\n"
      ],
      "metadata": {
        "id": "JgHLr4FZ8hS7"
      }
    }
  ]
}